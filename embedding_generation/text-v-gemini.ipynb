{
 "cells": [
  {
   "cell_type": "code",
   "execution_count": 5,
   "metadata": {},
   "outputs": [],
   "source": [
    "import langchain\n",
    "import pandas as pd\n",
    "import vertexai\n",
    "from langchain_core.vectorstores import InMemoryVectorStore\n",
    "from langchain_google_vertexai import VertexAIEmbeddings\n"
   ]
  },
  {
   "cell_type": "code",
   "execution_count": 6,
   "metadata": {},
   "outputs": [],
   "source": [
    "PROJECT_ID = \"lawrag\"\n",
    "LOCATION = \"us-central1\"\n",
    "\n",
    "\n",
    "vertexai.init(project=PROJECT_ID, location=LOCATION)"
   ]
  },
  {
   "cell_type": "code",
   "execution_count": 7,
   "metadata": {},
   "outputs": [],
   "source": [
    "doc = pd.read_csv('/Users/npatel237/LawChatBot/Title18_CSV_Data/Title18_processed_sections.csv', encoding='utf-8')"
   ]
  },
  {
   "cell_type": "code",
   "execution_count": 8,
   "metadata": {},
   "outputs": [
    {
     "name": "stdout",
     "output_type": "stream",
     "text": [
      "Maximum text length in Processed_Content column: 39390\n"
     ]
    }
   ],
   "source": [
    "processed_content = doc['Processed_Content']\n",
    "max_length = doc['Processed_Content'].apply(len).max()\n",
    "print(\"Maximum text length in Processed_Content column:\", max_length)"
   ]
  },
  {
   "cell_type": "code",
   "execution_count": 23,
   "metadata": {},
   "outputs": [],
   "source": [
    "embeddings = VertexAIEmbeddings(model_name=\"text-embedding-005\")"
   ]
  },
  {
   "cell_type": "code",
   "execution_count": null,
   "metadata": {},
   "outputs": [],
   "source": [
    "result = embeddings.embed_query(text=processed_content[67])"
   ]
  },
  {
   "cell_type": "code",
   "execution_count": 20,
   "metadata": {},
   "outputs": [
    {
     "data": {
      "text/plain": [
       "768"
      ]
     },
     "execution_count": 20,
     "metadata": {},
     "output_type": "execute_result"
    }
   ],
   "source": [
    "len(result)"
   ]
  },
  {
   "cell_type": "code",
   "execution_count": 22,
   "metadata": {},
   "outputs": [
    {
     "name": "stdout",
     "output_type": "stream",
     "text": [
      "Whoever—\n",
      "\n",
      "(1) travels in interstate or foreign commerce or is present within the special maritime and territorial jurisdiction of the United States, or enters or leaves Indian country, with the intent to kill, injure, harass, intimidate, or place under surveillance with intent to kill, injure, harass, or intimidate another person, and in the course of, or as a result of, such travel or presence engages in conduct that—\n",
      "\n",
      "(A) places that person in reasonable fear of the death of, or serious bodily injury to—\n",
      "\n",
      "(i) that person;\n",
      "(ii) an immediate family member (as defined in section 115) of that person;\n",
      "(iii) a spouse or intimate partner of that person; or\n",
      "(iv) the pet, service animal, emotional support animal, or horse of that person; or\n",
      "\n",
      "(B) causes, attempts to cause, or would be reasonably expected to cause substantial emotional distress to a person described in clause (i), (ii), or (iii) of subparagraph (A); or\n",
      "\n",
      "(2) with the intent to kill, injure, harass, intimidate, or place under surveillance with intent to kill, injure, harass, or intimidate another person, uses the mail, any interactive computer service or electronic communication service or electronic communication system of interstate commerce, or any other facility of interstate or foreign commerce to engage in a course of conduct that—\n",
      "\n",
      "(A) places that person in reasonable fear of the death of or serious bodily injury to a person, a pet, a service animal, an emotional support animal, or a horse described in clause (i), (ii), (iii), or (iv) of paragraph (1)(A); or\n",
      "\n",
      "(B) causes, attempts to cause, or would be reasonably expected to cause substantial emotional distress to a person described in clause (i), (ii), or (iii) of paragraph (1)(A),\n",
      "\n",
      "shall be punished as provided in section 2261(b) or section 2261B, as the case may be.\n",
      "\n",
      "(Added Pub. L. 104–201, div. A, title X, §1069(a), Sept. 23, 1996, 110 Stat. 2655; amended Pub. L. 106–386, div. B, title I, §1107(b)(1), Oct. 28, 2000, 114 Stat. 1498; Pub. L. 109–162, title I, §114(a), Jan. 5, 2006, 119 Stat. 2987; Pub. L. 113–4, title I, §107(b), Mar. 7, 2013, 127 Stat. 77; Pub. L. 115–334, title XII, §12502(a)(1), Dec. 20, 2018, 132 Stat. 4982; Pub. L. 116–249, §2(c), Dec. 22, 2020, 134 Stat. 1126.)\n",
      "\n",
      "Amendments\n",
      "\n",
      "2020—Pub. L. 116–249 substituted “section 2261(b) or section 2261B, as the case may be” for “section 2261(b) of this title” in concluding provisions.\n",
      "\n",
      "2018—Par. (1)(A)(iv). Pub. L. 115–334, §12502(a)(1)(A), added cl. (iv).\n",
      "Par. (2)(A). Pub. L. 115–334, §12502(a)(1)(B), inserted “, a pet, a service animal, an emotional support animal, or a horse” after “to a person” and substituted “(iii), or (iv)” for “or (iii)”.\n",
      "\n",
      "2013—Pub. L. 113–4 amended section generally. Prior to amendment, section related to stalking.\n",
      "\n",
      "2006—Pub. L. 109–162 amended section catchline and text generally, revising and restating former provisions relating to stalking so as to include surveillance with intent to kill, injure, harass, or intimidate which results in substantial emotional distress to a person within the purview of the offense proscribed.\n",
      "\n",
      "2000—Pub. L. 106–386 reenacted section catchline without change and amended text generally. Prior to amendment, text read as follows: “Whoever travels across a State line or within the special maritime and territorial jurisdiction of the United States with the intent to injure or harass another person, and in the course of, or as a result of, such travel places that person in reasonable fear of the death of, or serious bodily injury (as defined in section 1365(g)(3) of this title) to, that person or a member of that person’s immediate family (as defined in section 115 of this title) shall be punished as provided in section 2261 of this title.”\n",
      "\n",
      "Statutory Notes and Related Subsidiaries\n",
      "\n",
      "Effective Date of 2013 Amendment\n",
      "\n",
      "Amendment by Pub. L. 113–4 not effective until the beginning of the fiscal year following Mar. 7, 2013, see section 4 of Pub. L. 113–4, set out as a note under section 2261 of this title.\n",
      "\n"
     ]
    }
   ],
   "source": [
    "print(processed_content[67])"
   ]
  },
  {
   "cell_type": "code",
   "execution_count": null,
   "metadata": {},
   "outputs": [],
   "source": []
  }
 ],
 "metadata": {
  "kernelspec": {
   "display_name": "athlyze",
   "language": "python",
   "name": "python3"
  },
  "language_info": {
   "codemirror_mode": {
    "name": "ipython",
    "version": 3
   },
   "file_extension": ".py",
   "mimetype": "text/x-python",
   "name": "python",
   "nbconvert_exporter": "python",
   "pygments_lexer": "ipython3",
   "version": "3.10.16"
  }
 },
 "nbformat": 4,
 "nbformat_minor": 2
}
