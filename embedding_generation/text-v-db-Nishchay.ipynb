{
 "cells": [
  {
   "cell_type": "code",
   "execution_count": 1,
   "metadata": {},
   "outputs": [],
   "source": [
    "from libraries import *"
   ]
  },
  {
   "cell_type": "code",
   "execution_count": 2,
   "metadata": {},
   "outputs": [
    {
     "data": {
      "text/html": [
       "<div>\n",
       "<style scoped>\n",
       "    .dataframe tbody tr th:only-of-type {\n",
       "        vertical-align: middle;\n",
       "    }\n",
       "\n",
       "    .dataframe tbody tr th {\n",
       "        vertical-align: top;\n",
       "    }\n",
       "\n",
       "    .dataframe thead th {\n",
       "        text-align: right;\n",
       "    }\n",
       "</style>\n",
       "<table border=\"1\" class=\"dataframe\">\n",
       "  <thead>\n",
       "    <tr style=\"text-align: right;\">\n",
       "      <th></th>\n",
       "      <th>Section</th>\n",
       "      <th>Url</th>\n",
       "      <th>Content</th>\n",
       "      <th>Metadata</th>\n",
       "    </tr>\n",
       "  </thead>\n",
       "  <tbody>\n",
       "    <tr>\n",
       "      <th>0</th>\n",
       "      <td>103. âFront Matter</td>\n",
       "      <td>https://uscode.house.gov/view.xhtml?req=granul...</td>\n",
       "      <td>18 USC Ch. 103: Front Matter            Result...</td>\n",
       "      <td>Amendments1992-Pub. L. 102â519, title I, Â§1...</td>\n",
       "    </tr>\n",
       "    <tr>\n",
       "      <th>1</th>\n",
       "      <td>2111. Special maritime and territorial jurisdi...</td>\n",
       "      <td>https://uscode.house.gov/view.xhtml?req=granul...</td>\n",
       "      <td>Whoever, within the special maritime and terri...</td>\n",
       "      <td>Amendments1994-Pub. L. 103â322 inserted \"or ...</td>\n",
       "    </tr>\n",
       "    <tr>\n",
       "      <th>2</th>\n",
       "      <td>2112. Personal property of United States</td>\n",
       "      <td>https://uscode.house.gov/view.xhtml?req=granul...</td>\n",
       "      <td>Whoever robs or attempts to rob another of any...</td>\n",
       "      <td>Amendments1994-Pub. L. 103â322 inserted \"or ...</td>\n",
       "    </tr>\n",
       "    <tr>\n",
       "      <th>3</th>\n",
       "      <td>2113. Bank robbery and incidental crimes</td>\n",
       "      <td>https://uscode.house.gov/view.xhtml?req=granul...</td>\n",
       "      <td>(a) Whoever, by force and violence, or by inti...</td>\n",
       "      <td>References in TextSection 1(b) of the Internat...</td>\n",
       "    </tr>\n",
       "    <tr>\n",
       "      <th>4</th>\n",
       "      <td>2114. Mail, money, or other property of United...</td>\n",
       "      <td>https://uscode.house.gov/view.xhtml?req=granul...</td>\n",
       "      <td>(a) Assault.-A person who assaults any person ...</td>\n",
       "      <td>Amendments1996-Pub. L. 104â294 amended Pub. ...</td>\n",
       "    </tr>\n",
       "    <tr>\n",
       "      <th>...</th>\n",
       "      <td>...</td>\n",
       "      <td>...</td>\n",
       "      <td>...</td>\n",
       "      <td>...</td>\n",
       "    </tr>\n",
       "    <tr>\n",
       "      <th>1642</th>\n",
       "      <td>50. Prompt Disposition</td>\n",
       "      <td>https://uscode.house.gov/view.xhtml?req=granul...</td>\n",
       "      <td>Scheduling preference must be given to crimina...</td>\n",
       "      <td>NaN</td>\n",
       "    </tr>\n",
       "    <tr>\n",
       "      <th>1643</th>\n",
       "      <td>51. Preserving Claimed Error</td>\n",
       "      <td>https://uscode.house.gov/view.xhtml?req=granul...</td>\n",
       "      <td>(a) Exceptions Unnecessary. Exceptions to ruli...</td>\n",
       "      <td>NaN</td>\n",
       "    </tr>\n",
       "    <tr>\n",
       "      <th>1644</th>\n",
       "      <td>52. Harmless and Plain Error</td>\n",
       "      <td>https://uscode.house.gov/view.xhtml?req=granul...</td>\n",
       "      <td>(a) Harmless Error. Any error, defect, irregul...</td>\n",
       "      <td>NaN</td>\n",
       "    </tr>\n",
       "    <tr>\n",
       "      <th>1645</th>\n",
       "      <td>53. Courtroom Photographing and Broadcasting P...</td>\n",
       "      <td>https://uscode.house.gov/view.xhtml?req=granul...</td>\n",
       "      <td>Except as otherwise provided by a statute or t...</td>\n",
       "      <td>NaN</td>\n",
       "    </tr>\n",
       "    <tr>\n",
       "      <th>1646</th>\n",
       "      <td>54. Transferred</td>\n",
       "      <td>https://uscode.house.gov/view.xhtml?req=granul...</td>\n",
       "      <td>18 USC App Fed R Crim P Rule 54: Transferred  ...</td>\n",
       "      <td>NaN</td>\n",
       "    </tr>\n",
       "  </tbody>\n",
       "</table>\n",
       "<p>1647 rows × 4 columns</p>\n",
       "</div>"
      ],
      "text/plain": [
       "                                                Section  \\\n",
       "0                                  103. âFront Matter   \n",
       "1     2111. Special maritime and territorial jurisdi...   \n",
       "2              2112. Personal property of United States   \n",
       "3              2113. Bank robbery and incidental crimes   \n",
       "4     2114. Mail, money, or other property of United...   \n",
       "...                                                 ...   \n",
       "1642                             50. Prompt Disposition   \n",
       "1643                       51. Preserving Claimed Error   \n",
       "1644                       52. Harmless and Plain Error   \n",
       "1645  53. Courtroom Photographing and Broadcasting P...   \n",
       "1646                                    54. Transferred   \n",
       "\n",
       "                                                    Url  \\\n",
       "0     https://uscode.house.gov/view.xhtml?req=granul...   \n",
       "1     https://uscode.house.gov/view.xhtml?req=granul...   \n",
       "2     https://uscode.house.gov/view.xhtml?req=granul...   \n",
       "3     https://uscode.house.gov/view.xhtml?req=granul...   \n",
       "4     https://uscode.house.gov/view.xhtml?req=granul...   \n",
       "...                                                 ...   \n",
       "1642  https://uscode.house.gov/view.xhtml?req=granul...   \n",
       "1643  https://uscode.house.gov/view.xhtml?req=granul...   \n",
       "1644  https://uscode.house.gov/view.xhtml?req=granul...   \n",
       "1645  https://uscode.house.gov/view.xhtml?req=granul...   \n",
       "1646  https://uscode.house.gov/view.xhtml?req=granul...   \n",
       "\n",
       "                                                Content  \\\n",
       "0     18 USC Ch. 103: Front Matter            Result...   \n",
       "1     Whoever, within the special maritime and terri...   \n",
       "2     Whoever robs or attempts to rob another of any...   \n",
       "3     (a) Whoever, by force and violence, or by inti...   \n",
       "4     (a) Assault.-A person who assaults any person ...   \n",
       "...                                                 ...   \n",
       "1642  Scheduling preference must be given to crimina...   \n",
       "1643  (a) Exceptions Unnecessary. Exceptions to ruli...   \n",
       "1644  (a) Harmless Error. Any error, defect, irregul...   \n",
       "1645  Except as otherwise provided by a statute or t...   \n",
       "1646  18 USC App Fed R Crim P Rule 54: Transferred  ...   \n",
       "\n",
       "                                               Metadata  \n",
       "0     Amendments1992-Pub. L. 102â519, title I, Â§1...  \n",
       "1     Amendments1994-Pub. L. 103â322 inserted \"or ...  \n",
       "2     Amendments1994-Pub. L. 103â322 inserted \"or ...  \n",
       "3     References in TextSection 1(b) of the Internat...  \n",
       "4     Amendments1996-Pub. L. 104â294 amended Pub. ...  \n",
       "...                                                 ...  \n",
       "1642                                                NaN  \n",
       "1643                                                NaN  \n",
       "1644                                                NaN  \n",
       "1645                                                NaN  \n",
       "1646                                                NaN  \n",
       "\n",
       "[1647 rows x 4 columns]"
      ]
     },
     "execution_count": 2,
     "metadata": {},
     "output_type": "execute_result"
    }
   ],
   "source": [
    "df = pd.read_csv(\"Title18.csv\")\n",
    "df"
   ]
  },
  {
   "cell_type": "code",
   "execution_count": 3,
   "metadata": {},
   "outputs": [],
   "source": [
    "df['Content'] = df['Content'].fillna(\"\").astype(str)"
   ]
  },
  {
   "cell_type": "code",
   "execution_count": 3,
   "metadata": {},
   "outputs": [
    {
     "data": {
      "text/plain": [
       "121468"
      ]
     },
     "execution_count": 3,
     "metadata": {},
     "output_type": "execute_result"
    }
   ],
   "source": [
    "max = 0\n",
    "for i in range(len(df['Content'])):\n",
    "    try:\n",
    "        if len(df['Content'][i]) > max:\n",
    "            max = len(df['Content'][i])\n",
    "    except:\n",
    "        print(i)        \n",
    "max"
   ]
  },
  {
   "cell_type": "code",
   "execution_count": 4,
   "metadata": {},
   "outputs": [
    {
     "name": "stdout",
     "output_type": "stream",
     "text": [
      "1647\n"
     ]
    }
   ],
   "source": [
    "print(len(df))"
   ]
  },
  {
   "cell_type": "code",
   "execution_count": 5,
   "metadata": {},
   "outputs": [],
   "source": [
    "tokenizer = AutoTokenizer.from_pretrained(\"nlpaueb/legal-bert-base-uncased\") # nlpaueb/legal-bert-base-uncased   |  \n",
    "model = AutoModel.from_pretrained(\"nlpaueb/legal-bert-base-uncased\")\n",
    "\n",
    "# Move model to GPU if available\n",
    "device = torch.device('cuda' if torch.cuda.is_available() else 'cpu')\n",
    "model.to(device)\n",
    "\n",
    "# Step 3: Function to get embeddings\n",
    "def get_embedding(text, tokenizer, model):\n",
    "    # Tokenize and encode the input text\n",
    "    inputs = tokenizer(text, return_tensors=\"pt\", truncation=True, padding=True, max_length=512).to(device)\n",
    "    \n",
    "    # Compute embeddings\n",
    "    with torch.no_grad():\n",
    "        outputs = model(**inputs)\n",
    "    \n",
    "    # Get the mean of the token embeddings (for sentence embedding)\n",
    "    return outputs.last_hidden_state.mean(dim=1).squeeze()\n",
    "\n",
    "# Step 4: Encode the entire 'Content' column\n",
    "embeddings = np.array([get_embedding(text, tokenizer, model).cpu().numpy() for text in df['Content']]).astype('float32')\n",
    "\n",
    "# # Step 5: Initialize a FAISS index with L2 (Euclidean) distance\n",
    "# dimension = embeddings.shape[1]  # Get the dimensionality of the embeddings\n",
    "# index = faiss.IndexFlatL2(dimension)  # IndexFlatL2 is a flat index (no compression)\n",
    "\n",
    "# # Step 6: Add the vectors to the index\n",
    "# index.add(embeddings)\n",
    "\n",
    "# # Optional: Verify the number of vectors in the index\n",
    "# print(f\"Number of vectors in the index: {index.ntotal}\")\n"
   ]
  },
  {
   "cell_type": "code",
   "execution_count": 6,
   "metadata": {},
   "outputs": [
    {
     "data": {
      "text/plain": [
       "(1647, 768)"
      ]
     },
     "execution_count": 6,
     "metadata": {},
     "output_type": "execute_result"
    }
   ],
   "source": [
    "embeddings.shape"
   ]
  },
  {
   "cell_type": "code",
   "execution_count": 7,
   "metadata": {},
   "outputs": [],
   "source": [
    "np.savetxt(\"embeddings-complete-legal-bert-base-uncased.csv\", embeddings, delimiter=',')"
   ]
  },
  {
   "cell_type": "code",
   "execution_count": 12,
   "metadata": {},
   "outputs": [
    {
     "ename": "",
     "evalue": "",
     "output_type": "error",
     "traceback": [
      "\u001b[1;31mThe Kernel crashed while executing code in the current cell or a previous cell. \n",
      "\u001b[1;31mPlease review the code in the cell(s) to identify a possible cause of the failure. \n",
      "\u001b[1;31mClick <a href='https://aka.ms/vscodeJupyterKernelCrash'>here</a> for more info. \n",
      "\u001b[1;31mView Jupyter <a href='command:jupyter.viewOutput'>log</a> for further details."
     ]
    }
   ],
   "source": [
    "# test = ''' \n",
    "#  for which the maximum fine is no greater than the amount set forth\n",
    "# for such an offense in section 3571(b)(6) or (7) in the case of an individual or section 3571(c)(6) or\n",
    "# (7) in the case of an organization.\n",
    "# '''\n",
    "\n",
    "# # Step 8: Encode the test query\n",
    "# test_embedding = get_embedding(test, tokenizer, model).reshape(1, -1).cpu().numpy().astype('float32')\n",
    "\n",
    "# # Step 9: Example: Search for the nearest neighbors\n",
    "# D, I = index.search(test_embedding, k=2)  # Search for 2 nearest neighbors\n",
    "\n",
    "# # Step 10: Print the distances and indices of the nearest neighbors\n",
    "# print(\"Distances:\", D)\n",
    "# print(\"Indices:\", I)\n",
    "\n",
    "# # Optionally print the neighbor texts\n",
    "# for idx in I[0]:\n",
    "#     print(\"Neighbor text:\", df['Content'].iloc[idx])"
   ]
  },
  {
   "cell_type": "markdown",
   "metadata": {},
   "source": [
    "Cosine Similarity for FIASS"
   ]
  },
  {
   "cell_type": "code",
   "execution_count": null,
   "metadata": {},
   "outputs": [],
   "source": [
    "# import faiss\n",
    "# import numpy as np\n",
    "\n",
    "# # Assuming 'embeddings' contains the embeddings loaded from your CSV file\n",
    "# # Step 1: Normalize the embeddings for cosine similarity\n",
    "# def normalize(embeddings):\n",
    "#     norms = np.linalg.norm(embeddings, axis=1, keepdims=True)\n",
    "#     return embeddings / norms\n",
    "\n",
    "# # Step 2: Normalize the existing embeddings\n",
    "# normalized_embeddings = normalize(embeddings)\n",
    "\n",
    "# # Step 3: Initialize a FAISS index with Inner Product (for cosine similarity)\n",
    "# dimension = normalized_embeddings.shape[1]\n",
    "# index = faiss.IndexFlatIP(dimension)  # IndexFlatIP is for inner product (dot product)\n",
    "\n",
    "# # Step 4: Add the normalized vectors to the index\n",
    "# index.add(normalized_embeddings)\n",
    "\n",
    "# # Optional: Verify the number of vectors in the index\n",
    "# print(f\"Number of vectors in the index: {index.ntotal}\")\n",
    "\n",
    "# # Step 5: Normalize the test query embedding\n",
    "# test = ''' \n",
    "# for which the maximum fine is no greater than the amount set forth\n",
    "# for such an offense in section 3571(b)(6) or (7) in the case of an individual or section 3571(c)(6) or\n",
    "# (7) in the case of an organization.\n",
    "# '''\n",
    "# # Get the test embedding using the existing model and tokenizer\n",
    "# test_embedding = get_embedding(test, tokenizer, model).cpu().numpy().astype('float32')\n",
    "# test_embedding = normalize(test_embedding.reshape(1, -1))\n",
    "\n",
    "# # Step 6: Search for the nearest neighbors\n",
    "# D, I = index.search(test_embedding, k=2)  # Search for 2 nearest neighbors\n",
    "\n",
    "# # Step 7: Print the distances and indices of the nearest neighbors\n",
    "# print(\"Distances:\", D)\n",
    "# print(\"Indices:\", I)\n",
    "\n",
    "# # Optionally print the neighbor texts\n",
    "# for idx in I[0]:\n",
    "#     print(\"Neighbor text:\", df['Content'].iloc[idx])\n"
   ]
  }
 ],
 "metadata": {
  "kernelspec": {
   "display_name": "Python 3",
   "language": "python",
   "name": "python3"
  },
  "language_info": {
   "codemirror_mode": {
    "name": "ipython",
    "version": 3
   },
   "file_extension": ".py",
   "mimetype": "text/x-python",
   "name": "python",
   "nbconvert_exporter": "python",
   "pygments_lexer": "ipython3",
   "version": "3.12.0"
  }
 },
 "nbformat": 4,
 "nbformat_minor": 2
}
