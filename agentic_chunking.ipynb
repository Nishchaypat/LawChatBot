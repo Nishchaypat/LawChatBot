{
 "cells": [
  {
   "cell_type": "code",
   "execution_count": null,
   "metadata": {
    "vscode": {
     "languageId": "plaintext"
    }
   },
   "outputs": [],
   "source": [
    "\"\"\"\n",
    "In Retrieval-Augmented Generation (RAG), the term \"agentic\" refers to the ability of the retrieval-augmented model to actively control, adapt, and refine its retrieval and generation process rather than passively relying on a fixed retrieval mechanism. An agentic RAG system does more than simply fetch and generate responses; it dynamically decides what to retrieve, how to process retrieved information, and whether to refine queries to improve results.\n",
    "\n",
    "Key Aspects of Agentic RAG:\n",
    "Iterative Retrieval – The system can refine its search queries based on the initial retrieved results to get more relevant information.\n",
    "Self-Correction – The model can assess the quality of retrieved documents and decide to re-query or adjust its approach.\n",
    "Context-Aware Retrieval – Instead of retrieving a fixed set of documents, it considers the conversation flow or prior responses to optimize search.\n",
    "Adaptive Chunking – The system intelligently chunks retrieved content into more meaningful sections based on the query.\n",
    "Multi-Hop Reasoning – It can retrieve and combine multiple pieces of information from different sources to construct a more coherent response.\n",
    "This approach makes RAG systems more autonomous, efficient, and contextually aware, enhancing their ability to provide accurate, well-informed, and dynamically updated responses.\n",
    "\"\"\""
   ]
  }
 ],
 "metadata": {
  "language_info": {
   "name": "python"
  }
 },
 "nbformat": 4,
 "nbformat_minor": 2
}
