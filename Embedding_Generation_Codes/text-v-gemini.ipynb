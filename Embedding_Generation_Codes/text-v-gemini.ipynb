{
 "cells": [
  {
   "cell_type": "code",
   "execution_count": 1,
   "metadata": {},
   "outputs": [],
   "source": [
    "import langchain\n",
    "import pandas as pd\n",
    "import vertexai\n",
    "from langchain_core.vectorstores import InMemoryVectorStore\n",
    "from langchain_google_vertexai import VertexAIEmbeddings\n",
    "from langchain_core.documents import Document\n",
    "import os\n",
    "import numpy as np\n",
    "import tiktoken\n",
    "from tqdm import tqdm"
   ]
  },
  {
   "cell_type": "code",
   "execution_count": 2,
   "metadata": {},
   "outputs": [],
   "source": [
    "#os.environ[\"GOOGLE_APPLICATION_CREDENTIALS\"] = \"gcpservicekey.json\"\n",
    "PROJECT_ID = \"lawrag\"\n",
    "LOCATION = \"us-central1\"\n",
    "vertexai.init(project=PROJECT_ID, location=LOCATION)"
   ]
  },
  {
   "cell_type": "code",
   "execution_count": 3,
   "metadata": {},
   "outputs": [],
   "source": [
    "doc = pd.read_csv('../Title18_CSV_Data/Title18_processed_sections.csv', encoding='utf-8')"
   ]
  },
  {
   "cell_type": "code",
   "execution_count": 4,
   "metadata": {},
   "outputs": [
    {
     "name": "stdout",
     "output_type": "stream",
     "text": [
      "Maximum text length in Processed_Content column: 39390\n",
      "Total Rows: 1647\n"
     ]
    }
   ],
   "source": [
    "processed_content = doc['Processed_Content']\n",
    "max_length = doc['Processed_Content'].apply(len).max()\n",
    "print(\"Maximum text length in Processed_Content column:\", max_length)\n",
    "print(\"Total Rows:\", len(doc))"
   ]
  },
  {
   "cell_type": "code",
   "execution_count": 5,
   "metadata": {},
   "outputs": [],
   "source": [
    "embeddings_model = VertexAIEmbeddings(model_name=\"text-embedding-005\")"
   ]
  },
  {
   "cell_type": "code",
   "execution_count": 6,
   "metadata": {},
   "outputs": [],
   "source": [
    "def chunk_text(text, max_tokens=1024, overlap=128):\n",
    "    tokenizer = tiktoken.get_encoding(\"cl100k_base\")  # Same tokenizer as text-embedding-005\n",
    "    tokens = tokenizer.encode(text)\n",
    "\n",
    "    chunks = []\n",
    "    start = 0\n",
    "    while start < len(tokens):\n",
    "        chunk = tokens[start:start + max_tokens]\n",
    "        chunks.append(tokenizer.decode(chunk))\n",
    "        start += max_tokens - overlap  # Sliding window\n",
    "    return chunks\n",
    "\n",
    "doc[\"Processed_Content\"] = doc[\"Processed_Content\"].apply(lambda x: chunk_text(x) if len(x) > 32000 else [x])\n",
    "df_exploded = doc.explode(\"Processed_Content\").reset_index(drop=True)\n",
    "\n"
   ]
  },
  {
   "cell_type": "code",
   "execution_count": 7,
   "metadata": {},
   "outputs": [
    {
     "name": "stderr",
     "output_type": "stream",
     "text": [
      "Generating Embeddings: 100%|██████████| 52/52 [00:16<00:00,  3.25it/s]\n"
     ]
    }
   ],
   "source": [
    "def get_embeddings(texts, batch_size=32):\n",
    "    \"\"\"\n",
    "    Compute embeddings in batches using VertexAIEmbeddings in LangChain.\n",
    "    Args:\n",
    "        texts (list of str): List of text data to embed.\n",
    "        batch_size (int): Number of texts to process per batch.\n",
    "\n",
    "    Returns:\n",
    "        list: List of embedding vectors.\n",
    "    \"\"\"\n",
    "    embeddings = []\n",
    "    \n",
    "    for i in tqdm(range(0, len(texts), batch_size), desc=\"Generating Embeddings\"):\n",
    "        batch = texts[i:i + batch_size]  # Get batch of texts\n",
    "        batch_embeddings = embeddings_model.embed_documents(batch)  # Generate embeddings\n",
    "        embeddings.extend(batch_embeddings)  # Store results\n",
    "\n",
    "    return embeddings  # Returning list of lists (each embedding is a list of floats)\n",
    "\n",
    "# Store embeddings as a list of lists in DataFrame\n",
    "df_exploded[\"Embedding\"] = get_embeddings(df_exploded[\"Processed_Content\"].tolist())"
   ]
  },
  {
   "cell_type": "code",
   "execution_count": 8,
   "metadata": {},
   "outputs": [],
   "source": [
    "df_exploded.to_parquet(\"embeddings_gemini_text-005.parquet\", engine=\"pyarrow\")"
   ]
  }
 ],
 "metadata": {
  "kernelspec": {
   "display_name": "athlyze",
   "language": "python",
   "name": "python3"
  },
  "language_info": {
   "codemirror_mode": {
    "name": "ipython",
    "version": 3
   },
   "file_extension": ".py",
   "mimetype": "text/x-python",
   "name": "python",
   "nbconvert_exporter": "python",
   "pygments_lexer": "ipython3",
   "version": "3.10.16"
  }
 },
 "nbformat": 4,
 "nbformat_minor": 2
}
