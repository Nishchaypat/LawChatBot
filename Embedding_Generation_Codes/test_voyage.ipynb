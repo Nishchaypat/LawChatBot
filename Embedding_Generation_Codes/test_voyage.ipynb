{
 "cells": [
  {
   "cell_type": "code",
   "execution_count": 1,
   "metadata": {},
   "outputs": [],
   "source": [
    "import pandas as pd\n",
    "import os\n",
    "import numpy as np\n",
    "from sklearn.metrics.pairwise import cosine_similarity\n",
    "from transformers import AutoTokenizer\n",
    "import voyageai"
   ]
  },
  {
   "cell_type": "code",
   "execution_count": 2,
   "metadata": {},
   "outputs": [],
   "source": [
    "voyageai.api_key = os.getenv(\"VOYAGE_API\")\n",
    "vo = voyageai.Client()"
   ]
  },
  {
   "cell_type": "code",
   "execution_count": 3,
   "metadata": {},
   "outputs": [
    {
     "data": {
      "application/vnd.jupyter.widget-view+json": {
       "model_id": "52e5e0b71ef34173b286c2fa45b41d1b",
       "version_major": 2,
       "version_minor": 0
      },
      "text/plain": [
       "tokenizer_config.json:   0%|          | 0.00/816 [00:00<?, ?B/s]"
      ]
     },
     "metadata": {},
     "output_type": "display_data"
    },
    {
     "name": "stderr",
     "output_type": "stream",
     "text": [
      "C:\\Users\\mkolla1\\AppData\\Local\\Packages\\PythonSoftwareFoundation.Python.3.10_qbz5n2kfra8p0\\LocalCache\\local-packages\\Python310\\site-packages\\huggingface_hub\\file_download.py:139: UserWarning: `huggingface_hub` cache-system uses symlinks by default to efficiently store duplicated files but your machine does not support them in C:\\Users\\mkolla1\\.cache\\huggingface\\hub\\models--voyageai--voyage-2. Caching files will still work but in a degraded version that might require more space on your disk. This warning can be disabled by setting the `HF_HUB_DISABLE_SYMLINKS_WARNING` environment variable. For more details, see https://huggingface.co/docs/huggingface_hub/how-to-cache#limitations.\n",
      "To support symlinks on Windows, you either need to activate Developer Mode or to run Python as an administrator. In order to activate developer mode, see this article: https://docs.microsoft.com/en-us/windows/apps/get-started/enable-your-device-for-development\n",
      "  warnings.warn(message)\n"
     ]
    },
    {
     "data": {
      "application/vnd.jupyter.widget-view+json": {
       "model_id": "3a5f4cce388241d09f4adc1677225795",
       "version_major": 2,
       "version_minor": 0
      },
      "text/plain": [
       "tokenizer.json:   0%|          | 0.00/1.84M [00:00<?, ?B/s]"
      ]
     },
     "metadata": {},
     "output_type": "display_data"
    },
    {
     "data": {
      "application/vnd.jupyter.widget-view+json": {
       "model_id": "0231824bc07f45d1aa0633cb731819eb",
       "version_major": 2,
       "version_minor": 0
      },
      "text/plain": [
       "special_tokens_map.json:   0%|          | 0.00/687 [00:00<?, ?B/s]"
      ]
     },
     "metadata": {},
     "output_type": "display_data"
    },
    {
     "name": "stderr",
     "output_type": "stream",
     "text": [
      "You are using the default legacy behaviour of the <class 'transformers.models.llama.tokenization_llama_fast.LlamaTokenizerFast'>. This is expected, and simply means that the `legacy` (previous) behavior will be used so nothing changes for you. If you want to use the new behaviour, set `legacy=False`. This should only be set if you understand what it means, and thoroughly read the reason why this was added as explained in https://github.com/huggingface/transformers/pull/24565 - if you loaded a llama tokenizer from a GGUF file you can ignore this message.\n"
     ]
    }
   ],
   "source": [
    "tokenizer = AutoTokenizer.from_pretrained('voyageai/voyage-2')"
   ]
  },
  {
   "cell_type": "code",
   "execution_count": 4,
   "metadata": {},
   "outputs": [],
   "source": [
    "doc = pd.read_parquet(\"../New_Embeddings_2025/embeddings_voyage.parquet\", engine=\"pyarrow\")"
   ]
  },
  {
   "cell_type": "code",
   "execution_count": 53,
   "metadata": {},
   "outputs": [],
   "source": [
    "sample = \"\"\"\n",
    "Health Care Service Fees. — (1)  Generally speaking.— The Director may evaluate and collect a fee for medical services rendered in conjunction with eac in compliance with this section and any regulations the Director may establish to implement this section.\n",
    "\"\"\""
   ]
  },
  {
   "cell_type": "code",
   "execution_count": 54,
   "metadata": {},
   "outputs": [],
   "source": [
    "def chunk_text(text, max_tokens=4096, overlap=512):\n",
    "    \"\"\"\n",
    "    Splits text into chunks based on the token limit of voyage-law-2 tokenizer.\n",
    "    Uses a sliding window approach with overlap.\n",
    "    \n",
    "    Args:\n",
    "        text (str): The input text to be chunked.\n",
    "        max_tokens (int): Maximum tokens per chunk (4096 for voyage-law-2).\n",
    "        overlap (int): Overlapping tokens to maintain context between chunks.\n",
    "\n",
    "    Returns:\n",
    "        list of str: List of text chunks.\n",
    "    \"\"\"\n",
    "    tokens = tokenizer.encode(text, add_special_tokens=False)\n",
    "\n",
    "    chunks = []\n",
    "    start = 0\n",
    "    while start < len(tokens):\n",
    "        chunk = tokens[start:start + max_tokens]\n",
    "        chunks.append(tokenizer.decode(chunk))\n",
    "        start += max_tokens - overlap\n",
    "\n",
    "    return chunks\n",
    "\n",
    "sample = chunk_text(sample)"
   ]
  },
  {
   "cell_type": "code",
   "execution_count": 55,
   "metadata": {},
   "outputs": [],
   "source": [
    "def get_embeddings(texts, model=\"voyage-law-2\", batch_size=32):\n",
    "    \"\"\"\n",
    "    Compute embeddings using the VoyageAI Python client in batches.\n",
    "\n",
    "    Args:\n",
    "        texts (list of str): List of text data to embed.\n",
    "        model (str): The embedding model to use.\n",
    "        batch_size (int): Number of texts per batch.\n",
    "\n",
    "    Returns:\n",
    "        list: List of embedding vectors.\n",
    "    \"\"\"\n",
    "    embeddings = []\n",
    "\n",
    "    texts = [str(text) for text in texts]  \n",
    "\n",
    "    for i in range(0, len(texts), batch_size):\n",
    "        batch = texts[i:i + batch_size] \n",
    "        \n",
    "        try:\n",
    "            response = vo.embed(batch, model=model)\n",
    "            batch_embeddings = response.embeddings  \n",
    "            embeddings.extend(batch_embeddings)\n",
    "        except Exception as e:\n",
    "            print(f\"Error processing batch {i // batch_size + 1}: {e}\")\n",
    "\n",
    "    return embeddings\n",
    "\n",
    "query_embedding = get_embeddings(sample)\n"
   ]
  },
  {
   "cell_type": "code",
   "execution_count": 57,
   "metadata": {},
   "outputs": [
    {
     "name": "stdout",
     "output_type": "stream",
     "text": [
      "<class 'numpy.ndarray'>\n",
      "1647\n",
      "Most similar document index: 789\n"
     ]
    }
   ],
   "source": [
    "query_embedding = np.array(query_embedding).reshape(1, -1)\n",
    "\n",
    "\n",
    "# Convert the embeddings from a Pandas Series to a NumPy array\n",
    "embeddings = np.vstack(doc['Embedding'].values)  # Stack into a 2D array\n",
    "\n",
    "print(type(embeddings))  # Should print <class 'numpy.ndarray'>\n",
    "\n",
    "# Compute cosine similarity\n",
    "similarities = cosine_similarity(query_embedding, embeddings)\n",
    "print(len(similarities[0]))\n",
    "\n",
    "# Get the index of the most similar document\n",
    "most_similar_index = np.argmax(similarities)\n",
    "\n",
    "print(\"Most similar document index:\", most_similar_index)"
   ]
  },
  {
   "cell_type": "code",
   "execution_count": 58,
   "metadata": {},
   "outputs": [
    {
     "name": "stdout",
     "output_type": "stream",
     "text": [
      "Top 5 most similar document indices: [789 779 318 676 772]\n"
     ]
    }
   ],
   "source": [
    "similarities = cosine_similarity(query_embedding, embeddings)\n",
    "\n",
    "# Get the indices of the top 5 most similar documents (sorted in descending order)\n",
    "top_5_indices = np.argsort(similarities[0])[-5:][::-1]\n",
    "\n",
    "print(\"Top 5 most similar document indices:\", top_5_indices)"
   ]
  },
  {
   "cell_type": "markdown",
   "metadata": {},
   "source": [
    "[ 670  231  861 1179 1429]-----------[670 861 860 231 862]\n",
    "[ 345 1580 1581 1573  203]-----------[ 345 1580 1581  203  508]\n",
    "[1186 1183 1181 1151 1041]----------- [1186 1181 1151 1041 1183]\n",
    "[789 779 772 318 250]----------------- [789 779 318 676 772]"
   ]
  },
  {
   "cell_type": "code",
   "execution_count": 41,
   "metadata": {},
   "outputs": [
    {
     "name": "stdout",
     "output_type": "stream",
     "text": [
      "[['(a) Definitions.—In this section—\\n\\n(1) the term “account” means the trust fund account (or institutional equivalent) of a prisoner;\\n\\n(2) the term “Director” means the Director of the Bureau of Prisons;\\n\\n(3) the term “health care provider” means any person who is—\\n\\n(A) authorized by the Director to provide health care services; and\\n\\n(B) operating within the scope of such authorization;\\n\\n(4) the term “health care visit”—\\n\\n(A) means a visit, as determined by the Director, by a prisoner to an institutional or noninstitutional health care provider; and\\n\\n(B) does not include a visit initiated by a prisoner—\\n\\n(i) pursuant to a staff referral; or\\n\\n(ii) to obtain staff-approved follow-up treatment for a chronic condition; and\\n\\n(5) the term “prisoner” means—\\n\\n(A) any individual who is incarcerated in an institution under the jurisdiction of the Bureau of Prisons; or\\n\\n(B) any other individual, as designated by the Director, who has been charged with or convicted of an offense against the United States.\\n\\n(b) Fees for Health Care Services.—\\n\\n(1) In general.—The Director, in accordance with this section and with such regulations as the Director shall promulgate to carry out this section, may assess and collect a fee for health care services provided in connection with each health care visit requested by a prisoner.\\n\\n(2) Exclusion.—The Director may not assess or collect a fee under this section for preventative health care services, emergency services, prenatal care, diagnosis or treatment of chronic infectious diseases, mental health care, or substance abuse treatment, as determined by the Director.\\n\\n(c) Persons Subject to Fee.—Each fee assessed under this section shall be collected by the Director from the account of—\\n\\n(1) the prisoner receiving health care services in connection with a health care visit described in subsection (b)(1); or\\n\\n(2) in the case of health care services provided in connection with a health care visit described in subsection (b)(1) that results from an injury inflicted on a prisoner by another prisoner, the prisoner who inflicted the injury, as determined by the Director.\\n\\n(d) Amount of Fee.—Any fee assessed and collected under this section shall be in an amount of not less than $1.\\n\\n(e) No Consent Required.—Notwithstanding any other provision of law, the consent of a prisoner shall not be required for the collection of a fee from the account of the prisoner under this section. However, each such prisoner shall be given a reasonable opportunity to dispute the amount of the fee or whether the prisoner qualifies under an exclusion under this section.\\n\\n(f) No Refusal of Treatment For Financial Reasons.—Nothing in this section may be construed to permit any refusal of treatment to a prisoner on the basis that—\\n\\n(1) the account of the prisoner is insolvent; or\\n\\n(2) the prisoner is otherwise unable to pay a fee assessed under this section.\\n\\n(g) Use of Amounts.—\\n\\n(1) Restitution of specific victims.—Amounts collected by the Director under this section from a prisoner subject to an order of restitution issued pursuant to section 3663 or 3663A shall be paid to victims in accordance with the order of restitution.\\n\\n(2) Allocation of other amounts.—Of amounts collected by the Director under this section from prisoners not subject to an order of restitution issued pursuant to section 3663 or 3663A—\\n\\n(A) 75 percent shall be deposited in the Crime Victims Fund established under section 1402 of the Victims of Crime Act of 1984 (42 U.S.C. 10601); and\\n\\n(B) 25 percent shall be available to the Attorney General for administrative expenses incurred in carrying out this section.\\n\\n(h) Notice to Prisoners of Law.—Each person who is or becomes a prisoner shall be provided with written and oral notices of the provisions of this section and the applicability of this section to the prisoner. Notwithstanding any other provision of this section, a fee under this section may not be assessed against, or collected from, such person—\\n\\n(1) until the expiration of the 30-day period beginning on the date on which each prisoner in the prison system is provided with such notices; and\\n\\n(2) for services provided before the expiration of such period.\\n\\n(i) Notice to Prisoners of Regulations.—The regulations promulgated by the Director under subsection (b)(1), and any amendments to those regulations, shall not take effect until the expiration of the 30-day period beginning on the date on which each prisoner in the prison system is provided with written and oral notices of the provisions of those regulations (or amendments, as the case may be). A fee under this section may not be assessed against, or collected from, a prisoner pursuant to such regulations (or amendments, as the case may be) for services provided before the expiration of such period.\\n\\n(j) Notice Before Public Comment Period.—Before the beginning of any period a proposed regulation under this section is open to public comment, the Director shall provide written and oral notice of the provisions of that proposed regulation to groups that advocate on behalf of Federal prisoners and to each prisoner subject to such proposed regulation.\\n\\n(k) Reports to Congress.—Not later than 1 year after the date of the enactment of the Federal Prisoner Health Care Copayment Act of 2000, and annually thereafter, the Director shall transmit to Congress a report, which shall include—\\n\\n(1) a description of the amounts collected under this section during the preceding 12-month period;\\n\\n(2) an analysis of the effects of the implementation of this section, if any, on the nature and extent of health care visits by prisoners;\\n\\n(3) an itemization of the cost of implementing and administering the program;\\n\\n(4) a description of current inmate health status indicators as compared to the year prior to enactment; and\\n\\n(5) a description of the quality of health care services provided to inmates during the preceding 12-month period, as compared with the quality of those services provided during the 12-month period ending on the date of the enactment of such Act.\\n\\n(l) Comprehensive HIV/AIDS Services Required.—The Bureau of Prisons shall provide comprehensive coverage for services relating to human immunodeficiency virus (HIV) and acquired immune deficiency syndrome (AIDS) to each Federal prisoner in the custody of the Bureau of Prisons when medically appropriate. The Bureau of Prisons may not assess or collect a fee under this section for providing such coverage.\\n\\n(Added Pub. L. 106–294, §2(a), Oct. 12, 2000, 114 Stat. 1038.)\\n']]\n"
     ]
    }
   ],
   "source": [
    "print(doc['Processed_Content'][789])"
   ]
  }
 ],
 "metadata": {
  "kernelspec": {
   "display_name": "Python 3",
   "language": "python",
   "name": "python3"
  },
  "language_info": {
   "codemirror_mode": {
    "name": "ipython",
    "version": 3
   },
   "file_extension": ".py",
   "mimetype": "text/x-python",
   "name": "python",
   "nbconvert_exporter": "python",
   "pygments_lexer": "ipython3",
   "version": "3.10.11"
  }
 },
 "nbformat": 4,
 "nbformat_minor": 2
}
