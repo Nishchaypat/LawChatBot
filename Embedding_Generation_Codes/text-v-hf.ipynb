{
 "cells": [
  {
   "cell_type": "code",
   "execution_count": 1,
   "metadata": {},
   "outputs": [],
   "source": [
    "from langchain_huggingface import HuggingFaceEmbeddings\n",
    "import pandas as pd\n",
    "from langchain_core.documents import Document"
   ]
  },
  {
   "cell_type": "code",
   "execution_count": 2,
   "metadata": {},
   "outputs": [
    {
     "name": "stderr",
     "output_type": "stream",
     "text": [
      "<>:1: SyntaxWarning: invalid escape sequence '\\T'\n",
      "<>:1: SyntaxWarning: invalid escape sequence '\\T'\n",
      "C:\\Users\\admin-npatel237\\AppData\\Local\\Temp\\ipykernel_1652\\1769151165.py:1: SyntaxWarning: invalid escape sequence '\\T'\n",
      "  doc = pd.read_csv('..\\Title18_CSV_Data\\Title18_processed_sections.csv', encoding='utf-8')\n"
     ]
    }
   ],
   "source": [
    "doc = pd.read_csv('..\\Title18_CSV_Data\\Title18_processed_sections.csv', encoding='utf-8')\n",
    "processed_content = doc['Processed_Content']"
   ]
  },
  {
   "cell_type": "code",
   "execution_count": 3,
   "metadata": {},
   "outputs": [
    {
     "data": {
      "text/plain": [
       "Index(['Section', 'Url', 'Content', 'Metadata', 'Processed_Content',\n",
       "       'Processed_Section', 'Processed_Metadata'],\n",
       "      dtype='object')"
      ]
     },
     "execution_count": 3,
     "metadata": {},
     "output_type": "execute_result"
    }
   ],
   "source": [
    "doc.columns"
   ]
  },
  {
   "cell_type": "code",
   "execution_count": 7,
   "metadata": {},
   "outputs": [
    {
     "name": "stderr",
     "output_type": "stream",
     "text": [
      "No sentence-transformers model found with name edwatanabe/bert-large-cased-pt-law. Creating a new one with mean pooling.\n",
      "Some weights of BertModel were not initialized from the model checkpoint at edwatanabe/bert-large-cased-pt-law and are newly initialized: ['bert.pooler.dense.bias', 'bert.pooler.dense.weight']\n",
      "You should probably TRAIN this model on a down-stream task to be able to use it for predictions and inference.\n"
     ]
    }
   ],
   "source": [
    "embedding_model = HuggingFaceEmbeddings(model_name=\"edwatanabe/bert-large-cased-pt-law\")"
   ]
  },
  {
   "cell_type": "code",
   "execution_count": 8,
   "metadata": {},
   "outputs": [],
   "source": [
    "result = embedding_model.embed_query(text=processed_content[67])"
   ]
  },
  {
   "cell_type": "code",
   "execution_count": 6,
   "metadata": {},
   "outputs": [],
   "source": [
    "documents = [Document(page_content=row['Processed_Content'], metadata={'Section': row['Processed_Section'], 'Metadata': row['Processed_Metadata'],'Url': row['Url']}) for i, row in doc.iterrows()]"
   ]
  },
  {
   "cell_type": "code",
   "execution_count": null,
   "metadata": {},
   "outputs": [],
   "source": [
    "embeddings = embeddings_model.embed_documents([doc.page_content for doc in documents])"
   ]
  }
 ],
 "metadata": {
  "kernelspec": {
   "display_name": "RAG",
   "language": "python",
   "name": "python3"
  },
  "language_info": {
   "codemirror_mode": {
    "name": "ipython",
    "version": 3
   },
   "file_extension": ".py",
   "mimetype": "text/x-python",
   "name": "python",
   "nbconvert_exporter": "python",
   "pygments_lexer": "ipython3",
   "version": "3.12.9"
  }
 },
 "nbformat": 4,
 "nbformat_minor": 2
}
