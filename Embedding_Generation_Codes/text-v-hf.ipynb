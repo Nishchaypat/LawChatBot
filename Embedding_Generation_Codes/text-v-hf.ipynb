{
 "cells": [
  {
   "cell_type": "code",
   "execution_count": 43,
   "metadata": {},
   "outputs": [],
   "source": [
    "from langchain_huggingface import HuggingFaceEmbeddings\n",
    "import pandas as pd\n",
    "from langchain_core.documents import Document\n",
    "from sklearn.metrics.pairwise import cosine_similarity\n",
    "import numpy as np\n",
    "import tiktoken\n",
    "from tqdm import tqdm\n",
    "import os"
   ]
  },
  {
   "cell_type": "code",
   "execution_count": 36,
   "metadata": {},
   "outputs": [
    {
     "name": "stderr",
     "output_type": "stream",
     "text": [
      "<>:1: SyntaxWarning: invalid escape sequence '\\T'\n",
      "<>:1: SyntaxWarning: invalid escape sequence '\\T'\n",
      "C:\\Users\\admin-npatel237\\AppData\\Local\\Temp\\ipykernel_1652\\1769151165.py:1: SyntaxWarning: invalid escape sequence '\\T'\n",
      "  doc = pd.read_csv('..\\Title18_CSV_Data\\Title18_processed_sections.csv', encoding='utf-8')\n"
     ]
    }
   ],
   "source": [
    "doc = pd.read_csv('..\\Title18_CSV_Data\\Title18_processed_sections.csv', encoding='utf-8')\n",
    "processed_content = doc['Processed_Content']"
   ]
  },
  {
   "cell_type": "code",
   "execution_count": 44,
   "metadata": {},
   "outputs": [
    {
     "name": "stderr",
     "output_type": "stream",
     "text": [
      "No sentence-transformers model found with name nlpaueb/legal-bert-base-uncased. Creating a new one with mean pooling.\n"
     ]
    }
   ],
   "source": [
    "embedding_model = HuggingFaceEmbeddings(model_name=\"nlpaueb/legal-bert-base-uncased\")"
   ]
  },
  {
   "cell_type": "code",
   "execution_count": 38,
   "metadata": {},
   "outputs": [],
   "source": [
    "def chunk_text(text, max_tokens=1024, overlap=128):\n",
    "    tokenizer = tiktoken.get_encoding(\"cl100k_base\")  # Same tokenizer as text-embedding-005\n",
    "    tokens = tokenizer.encode(text)\n",
    "\n",
    "    chunks = []\n",
    "    start = 0\n",
    "    while start < len(tokens):\n",
    "        chunk = tokens[start:start + max_tokens]\n",
    "        chunks.append(tokenizer.decode(chunk))\n",
    "        start += max_tokens - overlap  # Sliding window\n",
    "    return chunks\n",
    "\n",
    "doc[\"Processed_Content\"] = doc[\"Processed_Content\"].apply(lambda x: chunk_text(x) if len(x) > 32000 else [x])\n",
    "df_exploded = doc.explode(\"Processed_Content\").reset_index(drop=True)\n",
    "\n"
   ]
  },
  {
   "cell_type": "code",
   "execution_count": 40,
   "metadata": {},
   "outputs": [
    {
     "name": "stderr",
     "output_type": "stream",
     "text": [
      "Generating Embeddings: 100%|██████████| 52/52 [03:40<00:00,  4.25s/it]\n"
     ]
    }
   ],
   "source": [
    "def get_embeddings(texts, batch_size=32):\n",
    "    \"\"\"\n",
    "    Compute embeddings in batches using VertexAIEmbeddings in LangChain.\n",
    "    Args:\n",
    "        texts (list of str): List of text data to embed.\n",
    "        batch_size (int): Number of texts to process per batch.\n",
    "\n",
    "    Returns:\n",
    "        list: List of embedding vectors.\n",
    "    \"\"\"\n",
    "    embeddings = []\n",
    "    \n",
    "    for i in tqdm(range(0, len(texts), batch_size), desc=\"Generating Embeddings\"):\n",
    "        batch = texts[i:i + batch_size]  # Get batch of texts\n",
    "        batch_embeddings = embedding_model.embed_documents(batch)  # Generate embeddings\n",
    "        embeddings.extend(batch_embeddings)  # Store results\n",
    "\n",
    "    return embeddings  # Returning list of lists (each embedding is a list of floats)\n",
    "\n",
    "# Store embeddings as a list of lists in DataFrame\n",
    "df_exploded[\"Embedding\"] = get_embeddings(df_exploded[\"Processed_Content\"].tolist())"
   ]
  },
  {
   "cell_type": "code",
   "execution_count": 41,
   "metadata": {},
   "outputs": [],
   "source": [
    "df_exploded.to_parquet(\"embeddings_gemini_text-005.parquet\", engine=\"pyarrow\")"
   ]
  },
  {
   "cell_type": "markdown",
   "metadata": {},
   "source": [
    "TESTING:"
   ]
  },
  {
   "cell_type": "code",
   "execution_count": 50,
   "metadata": {},
   "outputs": [],
   "source": [
    "embeds = pd.read_parquet(\"embeddings_gemini_text-005.parquet\", engine=\"pyarrow\")"
   ]
  },
  {
   "cell_type": "code",
   "execution_count": 51,
   "metadata": {},
   "outputs": [],
   "source": [
    "sample = \"After reviewing the individual's financial disclosure report submitted in accordance with chapter 131 of title 5, the official in charge of the employee's appointment certifies in writing that the need for the individual's services outweighs the possibility of a conflict of interest brought about by the financial interest involved.\""
   ]
  },
  {
   "cell_type": "code",
   "execution_count": 52,
   "metadata": {},
   "outputs": [],
   "source": [
    "def chunk_text(text, max_tokens=1024, overlap=128):\n",
    "    tokenizer = tiktoken.get_encoding(\"cl100k_base\")  # Same tokenizer as text-embedding-005\n",
    "    tokens = tokenizer.encode(text)\n",
    "\n",
    "    chunks = []\n",
    "    start = 0\n",
    "    while start < len(tokens):\n",
    "        chunk = tokens[start:start + max_tokens]\n",
    "        chunks.append(tokenizer.decode(chunk))\n",
    "        start += max_tokens - overlap  # Sliding window\n",
    "    return chunks\n",
    "\n",
    "sample = chunk_text(sample)"
   ]
  },
  {
   "cell_type": "code",
   "execution_count": 53,
   "metadata": {},
   "outputs": [
    {
     "name": "stderr",
     "output_type": "stream",
     "text": [
      "Generating Embeddings: 100%|██████████| 1/1 [00:00<00:00, 17.27it/s]\n"
     ]
    }
   ],
   "source": [
    "def get_embeddings(texts, batch_size=32):\n",
    "    \"\"\"\n",
    "    Compute embeddings in batches using VertexAIEmbeddings in LangChain.\n",
    "    Args:\n",
    "        texts (list of str): List of text data to embed.\n",
    "        batch_size (int): Number of texts to process per batch.\n",
    "\n",
    "    Returns:\n",
    "        list: List of embedding vectors.\n",
    "    \"\"\"\n",
    "    embeddings = []\n",
    "    \n",
    "    for i in tqdm(range(0, len(texts), batch_size), desc=\"Generating Embeddings\"):\n",
    "        batch = texts[i:i + batch_size]  # Get batch of texts\n",
    "        batch_embeddings = embedding_model.embed_documents(batch)  # Generate embeddings\n",
    "        embeddings.extend(batch_embeddings)  # Store results\n",
    "\n",
    "    return embeddings  # Returning list of lists (each embedding is a list of floats)\n",
    "\n",
    "# Store embeddings as a list of lists in DataFrame\n",
    "\n",
    "query_embedding = get_embeddings(sample)"
   ]
  },
  {
   "cell_type": "code",
   "execution_count": 56,
   "metadata": {},
   "outputs": [
    {
     "name": "stdout",
     "output_type": "stream",
     "text": [
      "<class 'numpy.ndarray'>\n",
      "Most similar document index: 246\n"
     ]
    }
   ],
   "source": [
    "query_embedding = np.array(query_embedding).reshape(1, -1)\n",
    "\n",
    "# Convert the embeddings from a Pandas Series to a NumPy array\n",
    "embeddings = np.vstack(embeds['Embedding'].values)  # Stack into a 2D array\n",
    "\n",
    "print(type(embeddings))  # Should print <class 'numpy.ndarray'>\n",
    "\n",
    "# Compute cosine similarity\n",
    "similarities = cosine_similarity(query_embedding, embeddings)\n",
    "\n",
    "# Get the index of the most similar document\n",
    "most_similar_index = np.argmax(similarities)\n",
    "\n",
    "print(\"Most similar document index:\", most_similar_index)"
   ]
  },
  {
   "cell_type": "code",
   "execution_count": null,
   "metadata": {},
   "outputs": [],
   "source": []
  }
 ],
 "metadata": {
  "kernelspec": {
   "display_name": "athlyze",
   "language": "python",
   "name": "python3"
  },
  "language_info": {
   "codemirror_mode": {
    "name": "ipython",
    "version": 3
   },
   "file_extension": ".py",
   "mimetype": "text/x-python",
   "name": "python",
   "nbconvert_exporter": "python",
   "pygments_lexer": "ipython3",
   "version": "3.10.16"
  }
 },
 "nbformat": 4,
 "nbformat_minor": 2
}
