{
 "cells": [
  {
   "cell_type": "code",
   "execution_count": 13,
   "metadata": {},
   "outputs": [],
   "source": [
    "import numpy as np\n",
    "import faiss"
   ]
  },
  {
   "cell_type": "code",
   "execution_count": 2,
   "metadata": {},
   "outputs": [
    {
     "name": "stdout",
     "output_type": "stream",
     "text": [
      "(26, 2)\n",
      "Index(['Sections', 'Content'], dtype='object')\n"
     ]
    }
   ],
   "source": [
    "import pandas as pd\n",
    "df=pd.read_csv(r'Chapter1_General_Provisions.csv', encoding='latin-1')\n",
    "print(df.shape)\n",
    "print(df.columns)"
   ]
  },
  {
   "cell_type": "code",
   "execution_count": 3,
   "metadata": {},
   "outputs": [
    {
     "name": "stdout",
     "output_type": "stream",
     "text": [
      "                       Sections  \\\n",
      "0                  1. Repealed.   \n",
      "1                2. Principals.   \n",
      "2  3. Accessory after the fact.   \n",
      "3      4. Misprision of felony.   \n",
      "4     5. United States defined.   \n",
      "\n",
      "                                             Content  \n",
      "0  ENATE REVISION AMENDMENT\\nIn the analysis of s...  \n",
      "1  (a) Whoever commits an offense against the Uni...  \n",
      "2  Whoever, knowing that an offense against the U...  \n",
      "3  Whoever, having knowledge of the actual commis...  \n",
      "4  The term \"United States\", as used in this titl...  \n"
     ]
    }
   ],
   "source": [
    "print(df.head())"
   ]
  },
  {
   "cell_type": "code",
   "execution_count": 4,
   "metadata": {},
   "outputs": [
    {
     "data": {
      "application/vnd.jupyter.widget-view+json": {
       "model_id": "42c33d3b2b114875ba8e803e07a0b626",
       "version_major": 2,
       "version_minor": 0
      },
      "text/plain": [
       "modules.json:   0%|          | 0.00/229 [00:00<?, ?B/s]"
      ]
     },
     "metadata": {},
     "output_type": "display_data"
    },
    {
     "name": "stderr",
     "output_type": "stream",
     "text": [
      "C:\\Users\\mkolla1\\AppData\\Local\\Packages\\PythonSoftwareFoundation.Python.3.10_qbz5n2kfra8p0\\LocalCache\\local-packages\\Python310\\site-packages\\huggingface_hub\\file_download.py:149: UserWarning: `huggingface_hub` cache-system uses symlinks by default to efficiently store duplicated files but your machine does not support them in C:\\Users\\mkolla1\\.cache\\huggingface\\hub\\models--sentence-transformers--bert-base-nli-mean-tokens. Caching files will still work but in a degraded version that might require more space on your disk. This warning can be disabled by setting the `HF_HUB_DISABLE_SYMLINKS_WARNING` environment variable. For more details, see https://huggingface.co/docs/huggingface_hub/how-to-cache#limitations.\n",
      "To support symlinks on Windows, you either need to activate Developer Mode or to run Python as an administrator. In order to see activate developer mode, see this article: https://docs.microsoft.com/en-us/windows/apps/get-started/enable-your-device-for-development\n",
      "  warnings.warn(message)\n"
     ]
    },
    {
     "data": {
      "application/vnd.jupyter.widget-view+json": {
       "model_id": "b42375dd42af4a73aeca64da0953dae2",
       "version_major": 2,
       "version_minor": 0
      },
      "text/plain": [
       "config_sentence_transformers.json:   0%|          | 0.00/122 [00:00<?, ?B/s]"
      ]
     },
     "metadata": {},
     "output_type": "display_data"
    },
    {
     "data": {
      "application/vnd.jupyter.widget-view+json": {
       "model_id": "bac3d01ff2594916815bdd0bc219a94a",
       "version_major": 2,
       "version_minor": 0
      },
      "text/plain": [
       "README.md:   0%|          | 0.00/3.99k [00:00<?, ?B/s]"
      ]
     },
     "metadata": {},
     "output_type": "display_data"
    },
    {
     "data": {
      "application/vnd.jupyter.widget-view+json": {
       "model_id": "e84fcedfb1704cb380a372600df0f1d1",
       "version_major": 2,
       "version_minor": 0
      },
      "text/plain": [
       "sentence_bert_config.json:   0%|          | 0.00/53.0 [00:00<?, ?B/s]"
      ]
     },
     "metadata": {},
     "output_type": "display_data"
    },
    {
     "data": {
      "application/vnd.jupyter.widget-view+json": {
       "model_id": "6cf0854d34fa4d4aa92f110249f98720",
       "version_major": 2,
       "version_minor": 0
      },
      "text/plain": [
       "config.json:   0%|          | 0.00/625 [00:00<?, ?B/s]"
      ]
     },
     "metadata": {},
     "output_type": "display_data"
    },
    {
     "data": {
      "application/vnd.jupyter.widget-view+json": {
       "model_id": "894444c7fda648fba11b0b3fb5f2714b",
       "version_major": 2,
       "version_minor": 0
      },
      "text/plain": [
       "model.safetensors:   0%|          | 0.00/438M [00:00<?, ?B/s]"
      ]
     },
     "metadata": {},
     "output_type": "display_data"
    },
    {
     "data": {
      "application/vnd.jupyter.widget-view+json": {
       "model_id": "fde15eb0a69a47bda1d98474ab3b7841",
       "version_major": 2,
       "version_minor": 0
      },
      "text/plain": [
       "tokenizer_config.json:   0%|          | 0.00/399 [00:00<?, ?B/s]"
      ]
     },
     "metadata": {},
     "output_type": "display_data"
    },
    {
     "data": {
      "application/vnd.jupyter.widget-view+json": {
       "model_id": "8450fdd3c0104b76b74bbb164bd25d15",
       "version_major": 2,
       "version_minor": 0
      },
      "text/plain": [
       "vocab.txt:   0%|          | 0.00/232k [00:00<?, ?B/s]"
      ]
     },
     "metadata": {},
     "output_type": "display_data"
    },
    {
     "data": {
      "application/vnd.jupyter.widget-view+json": {
       "model_id": "c76aaab2b2b14af887a30609b022cf34",
       "version_major": 2,
       "version_minor": 0
      },
      "text/plain": [
       "tokenizer.json:   0%|          | 0.00/466k [00:00<?, ?B/s]"
      ]
     },
     "metadata": {},
     "output_type": "display_data"
    },
    {
     "data": {
      "application/vnd.jupyter.widget-view+json": {
       "model_id": "3ce170253bda48db95505f50b4e94ee8",
       "version_major": 2,
       "version_minor": 0
      },
      "text/plain": [
       "added_tokens.json:   0%|          | 0.00/2.00 [00:00<?, ?B/s]"
      ]
     },
     "metadata": {},
     "output_type": "display_data"
    },
    {
     "data": {
      "application/vnd.jupyter.widget-view+json": {
       "model_id": "2549047e23f9448c808090e26e6f6a46",
       "version_major": 2,
       "version_minor": 0
      },
      "text/plain": [
       "special_tokens_map.json:   0%|          | 0.00/112 [00:00<?, ?B/s]"
      ]
     },
     "metadata": {},
     "output_type": "display_data"
    },
    {
     "data": {
      "application/vnd.jupyter.widget-view+json": {
       "model_id": "d818b6e513af4ee6b5d65c5880d29fb1",
       "version_major": 2,
       "version_minor": 0
      },
      "text/plain": [
       "1_Pooling/config.json:   0%|          | 0.00/190 [00:00<?, ?B/s]"
      ]
     },
     "metadata": {},
     "output_type": "display_data"
    }
   ],
   "source": [
    "from sentence_transformers import SentenceTransformer\n",
    "\n",
    "# initialize sentence transformer model\n",
    "model = SentenceTransformer('bert-base-nli-mean-tokens')"
   ]
  },
  {
   "cell_type": "code",
   "execution_count": 16,
   "metadata": {},
   "outputs": [
    {
     "ename": "IndexError",
     "evalue": "tuple index out of range",
     "output_type": "error",
     "traceback": [
      "\u001b[1;31m---------------------------------------------------------------------------\u001b[0m",
      "\u001b[1;31mIndexError\u001b[0m                                Traceback (most recent call last)",
      "Cell \u001b[1;32mIn[16], line 6\u001b[0m\n\u001b[0;32m      3\u001b[0m embeddings \u001b[38;5;241m=\u001b[39m np\u001b[38;5;241m.\u001b[39marray(embeddings)\u001b[38;5;241m.\u001b[39mastype(\u001b[38;5;124m'\u001b[39m\u001b[38;5;124mfloat32\u001b[39m\u001b[38;5;124m'\u001b[39m)\n\u001b[0;32m      5\u001b[0m \u001b[38;5;66;03m# Initialize a FAISS index with L2 (Euclidean) distance\u001b[39;00m\n\u001b[1;32m----> 6\u001b[0m dimension \u001b[38;5;241m=\u001b[39m \u001b[43membeddings\u001b[49m\u001b[38;5;241;43m.\u001b[39;49m\u001b[43mshape\u001b[49m\u001b[43m[\u001b[49m\u001b[38;5;241;43m1\u001b[39;49m\u001b[43m]\u001b[49m  \u001b[38;5;66;03m# Get the dimensionality of the embeddings\u001b[39;00m\n\u001b[0;32m      7\u001b[0m index \u001b[38;5;241m=\u001b[39m faiss\u001b[38;5;241m.\u001b[39mIndexFlatL2(dimension)  \u001b[38;5;66;03m# IndexFlatL2 is a flat index (no compression)\u001b[39;00m\n\u001b[0;32m      9\u001b[0m \u001b[38;5;66;03m# Add the vectors to the index\u001b[39;00m\n",
      "\u001b[1;31mIndexError\u001b[0m: tuple index out of range"
     ]
    }
   ],
   "source": [
    "# embeddings = model.encode(df['Content'][2])\n",
    "# # Convert embeddings to a numpy array (if not already)\n",
    "# embeddings = np.array(embeddings).astype('float32')\n",
    "\n",
    "# # Initialize a FAISS index with L2 (Euclidean) distance\n",
    "# dimension = embeddings.shape[1]  # Get the dimensionality of the embeddings\n",
    "# index = faiss.IndexFlatL2(dimension)  # IndexFlatL2 is a flat index (no compression)\n",
    "\n",
    "# # Add the vectors to the index\n",
    "# index.add(embeddings)\n",
    "\n",
    "# # Optional: Verify the number of vectors in the index\n",
    "# print(f\"Number of vectors in the index: {index.ntotal}\")\n",
    "\n",
    "# # Searching for similar vectors (example: search for the first embedding)\n",
    "# D, I = index.search(np.array([embeddings[0]]), k=2)  # Search for 2 nearest neighbors\n",
    "\n",
    "# print(\"Distances:\", D)\n",
    "# print(\"Indices:\", I)"
   ]
  },
  {
   "cell_type": "code",
   "execution_count": 8,
   "metadata": {},
   "outputs": [
    {
     "name": "stdout",
     "output_type": "stream",
     "text": [
      "Whoever, knowing that an offense against the United States has been committed, receives,\n",
      "relieves, comforts or assists the offender in order to hinder or prevent his apprehension, trial or\n",
      "punishment, is an accessory after the fact.\n",
      "Except as otherwise expressly provided by any Act of Congress, an accessory after the fact shall\n",
      "be imprisoned not more than one-half the maximum term of imprisonment or (notwithstanding\n",
      "section 3571) fined not more than one-half the maximum fine prescribed for the punishment of the\n",
      "principal, or both; or if the principal is punishable by life imprisonment or death, the accessory shall\n",
      "be imprisoned not more than 15 years.\n",
      "(June 25, 1948, ch. 645, 62 Stat. 684; Pub. L. 99646, §43, Nov. 10, 1986, 100 Stat. 3601; Pub. L.\n",
      "101647, title XXXV, §3502, Nov. 29, 1990, 104 Stat. 4921; Pub. L. 103322, title XXXIII,\n",
      "§§330011(h), 330016(2)(A), Sept. 13, 1994, 108 Stat. 2145, 2148.)\n",
      "HISTORICAL AND REVISION NOTES\n",
      "Based on title 18, U.S.C., 1940 ed., §551 (Mar. 4, 1909, ch. 321, §333, 35 Stat. 1152).\n",
      "The first paragraph is new. It is based upon authority of Skelly v. United States (C. C. A. Okl. 1935, 76 F.\n",
      "2d 483, certiorari denied, 1935, 55 S. Ct. 914, 295 U.S. 757, 79 L. Ed. 1699), where the court defined an\n",
      "accessory after the fact as\n",
      "one who knowing a felony to have been committed by another, receives, relieves, comforts, or assists the\n",
      "felon in order to hinder the felon's apprehension, trial, or punishment\n",
      "and cited Jones' Blackstone, books 3 and 4, page 2204; U.S. v. Hartwell (Fed. Cas. No. 15,318); Albritton v.\n",
      "State (32 Fla. 358, 13 So. 955); State v. Davis (14 R. I. 281); Schleeter v. Commonwealth (218 Ky. 72, 290 S.\n",
      "W. 1075). (See also State v. Potter, 1942, 221 N. C. 153, 19 S. E. 2d 257; Hunter v. State, 1935, 128 Tex. Cr.\n",
      "R. 191, 79 S. W. 2d 855; State v. Wells, 1940, 195 La. 754, 197 So. 419.)\n",
      "The second paragraph is from section 551 of title 18, U.S.C., 1940 ed. Here only slight changes were made\n",
      "in phraseology.\n",
      "EDITORIAL NOTES\n",
      "AMENDMENTS\n",
      "1994Pub. L. 103322, §330016(2)(A), inserted \"(notwithstanding section 3571)\" before \"fined not more\n",
      "than one-half\" in second par.\n",
      "Pub. L. 103322, §330011(h), amended directory language of Pub. L. 101647, §3502. See 1990\n",
      "[Release Point 118-78]\n",
      "Amendment note below.\n",
      "1990Pub. L. 101647, as amended by Pub. L. 103322, §330011(h), substituted \"15 years\" for \"ten\n",
      "years\" in second par.\n",
      "1986Pub. L. 99646 inserted \"life imprisonment or\" in second par.\n",
      "STATUTORY NOTES AND RELATED SUBSIDIARIES\n",
      "EFFECTIVE DATE OF 1994 AMENDMENT\n",
      "Pub. L. 103322, title XXXIII, §330011(h), Sept. 13, 1994, 108 Stat. 2145, provided that the amendment\n",
      "made by that section is effective as of Nov. 29, 1990.\n",
      "(768,)\n"
     ]
    }
   ],
   "source": [
    "print(df['Content'][2])\n",
    "encoded_vectors=model.encode(df['Content'][2])\n",
    "print(encoded_vectors.shape)\n",
    "# print(encoded_vectors)"
   ]
  },
  {
   "cell_type": "code",
   "execution_count": null,
   "metadata": {},
   "outputs": [],
   "source": [
    "!pip install faiss-cpu"
   ]
  },
  {
   "cell_type": "code",
   "execution_count": 18,
   "metadata": {},
   "outputs": [
    {
     "name": "stdout",
     "output_type": "stream",
     "text": [
      "(26, 768)\n",
      "[[-0.3988393   0.4655689   0.41223633 ...  0.4861913   0.30950436\n",
      "   0.68395865]\n",
      " [-0.20032404  0.48492354 -0.03601067 ... -0.7024666  -0.36969948\n",
      "  -0.0136019 ]\n",
      " [-0.29936576  0.22036414  0.32110465 ... -0.44854423 -0.8169397\n",
      "  -0.17861101]\n",
      " ...\n",
      " [-0.05589103 -0.1286016   0.4326105  ... -0.75313634 -0.79780245\n",
      "  -0.02514637]\n",
      " [-0.26603687  0.3050717   1.0817775  ... -0.49069375 -0.7784734\n",
      "   0.61886907]\n",
      " [-0.5555078   0.540292    0.59230906 ... -0.22154228 -0.84739316\n",
      "   0.03502662]]\n",
      "Number of vectors in the index: 26\n",
      "Distances: [[  0.      121.39159]]\n",
      "Indices: [[ 0 17]]\n"
     ]
    }
   ],
   "source": [
    "# Encode the entire 'Content' column\n",
    "embeddings = model.encode(df['Content'].tolist())\n",
    "\n",
    "if len(embeddings.shape) == 1:\n",
    "    embeddings = embeddings.reshape(1, -1)\n",
    "# Convert embeddings to a numpy array (if not already)\n",
    "\n",
    "embeddings = np.array(embeddings).astype('float32')\n",
    "print(embeddings.shape)\n",
    "print(embeddings)\n",
    "# Initialize a FAISS index with L2 (Euclidean) distance\n",
    "dimension = embeddings.shape[1]  # Get the dimensionality of the embeddings\n",
    "index = faiss.IndexFlatL2(dimension)  # IndexFlatL2 is a flat index (no compression)\n",
    "\n",
    "# Add the vectors to the index\n",
    "index.add(embeddings)\n",
    "\n",
    "# Optional: Verify the number of vectors in the index\n",
    "print(f\"Number of vectors in the index: {index.ntotal}\")"
   ]
  },
  {
   "cell_type": "code",
   "execution_count": 25,
   "metadata": {},
   "outputs": [],
   "source": [
    "test= ''' \n",
    "The Director, Associate Director, Assistant to the Director, Assistant Directors, inspectors, and\n",
    "agents of the Federal Bureau of Investigation of the Department of Justice may carry firearms, serve\n",
    "warrants and subpoenas issued under the authority of the United States and make arrests without\n",
    "warrant for any offense against the United States committed in their presence, or for any felony\n",
    "cognizable under the laws of the United States if they have reasonable grounds to believe that the\n",
    "person to be arrested has committed or is committing such felony.\n",
    "'''\n",
    "test_vector= model.encode(test)\n",
    "test_embeddings = test_vector.reshape(1, -1)\n",
    "test_embeddings2 = np.array(test_embeddings).astype('float32')"
   ]
  },
  {
   "cell_type": "code",
   "execution_count": 26,
   "metadata": {},
   "outputs": [
    {
     "name": "stdout",
     "output_type": "stream",
     "text": [
      "Distances: [[119.62292 124.89823]]\n",
      "Indices: [[3 2]]\n"
     ]
    }
   ],
   "source": [
    "# Example: Search for the first content vector's nearest neighbors\n",
    "D, I = index.search(test_embeddings2, k=2)  # Search for 2 nearest neighbors\n",
    "\n",
    "print(\"Distances:\", D)\n",
    "print(\"Indices:\", I)"
   ]
  },
  {
   "cell_type": "code",
   "execution_count": 17,
   "metadata": {},
   "outputs": [
    {
     "name": "stdout",
     "output_type": "stream",
     "text": [
      "Number of vectors in the index: 1\n",
      "Distances: [[0.0000000e+00 3.4028235e+38]]\n",
      "Indices: [[ 0 -1]]\n"
     ]
    }
   ],
   "source": [
    "# embeddings = model.encode(df['Content'][2])\n",
    "# # If embeddings are 1D (single sentence), reshape them to 2D\n",
    "# if len(embeddings.shape) == 1:\n",
    "#     embeddings = embeddings.reshape(1, -1)\n",
    "\n",
    "# # Convert embeddings to a numpy array (if not already)\n",
    "# embeddings = np.array(embeddings).astype('float32')\n",
    "\n",
    "# # Initialize a FAISS index with L2 (Euclidean) distance\n",
    "# dimension = embeddings.shape[1]  # Get the dimensionality of the embeddings\n",
    "# index = faiss.IndexFlatL2(dimension)  # IndexFlatL2 is a flat index (no compression)\n",
    "\n",
    "# # Add the vectors to the index\n",
    "# index.add(embeddings)\n",
    "\n",
    "# # Optional: Verify the number of vectors in the index\n",
    "# print(f\"Number of vectors in the index: {index.ntotal}\")\n",
    "\n",
    "# # Searching for similar vectors (example: search for the first embedding)\n",
    "# D, I = index.search(np.array([embeddings[0]]), k=2)  # Search for 2 nearest neighbors\n",
    "\n",
    "# print(\"Distances:\", D)\n",
    "# print(\"Indices:\", I)"
   ]
  },
  {
   "cell_type": "code",
   "execution_count": null,
   "metadata": {},
   "outputs": [],
   "source": [
    "for x in df['Content']:\n",
    "    sentence_embeddings = model.encode(x)\n",
    "    print(sentence_embeddings.shape)\n"
   ]
  }
 ],
 "metadata": {
  "kernelspec": {
   "display_name": "Python 3",
   "language": "python",
   "name": "python3"
  },
  "language_info": {
   "codemirror_mode": {
    "name": "ipython",
    "version": 3
   },
   "file_extension": ".py",
   "mimetype": "text/x-python",
   "name": "python",
   "nbconvert_exporter": "python",
   "pygments_lexer": "ipython3",
   "version": "3.10.11"
  }
 },
 "nbformat": 4,
 "nbformat_minor": 2
}
