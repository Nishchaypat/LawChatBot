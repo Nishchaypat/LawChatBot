{
 "cells": [
  {
   "cell_type": "code",
   "execution_count": 49,
   "metadata": {},
   "outputs": [],
   "source": [
    "import numpy as np\n",
    "import faiss\n",
    "from sklearn.metrics.pairwise import cosine_similarity"
   ]
  },
  {
   "cell_type": "code",
   "execution_count": 41,
   "metadata": {},
   "outputs": [
    {
     "name": "stdout",
     "output_type": "stream",
     "text": [
      "(26, 2)\n",
      "Index(['Sections', 'Content'], dtype='object')\n"
     ]
    }
   ],
   "source": [
    "import pandas as pd\n",
    "df=pd.read_csv(r'Chapter1_General_Provisions.csv', encoding='latin-1')\n",
    "print(df.shape)\n",
    "print(df.columns)"
   ]
  },
  {
   "cell_type": "code",
   "execution_count": 42,
   "metadata": {},
   "outputs": [],
   "source": [
    "# Function to remove text after \"EDITORIAL NOTES\"\n",
    "def remove_editorial_notes(text):\n",
    "    # Split at the first occurrence of \"EDITORIAL NOTES\" and take the part before it\n",
    "    return text.split('EDITORIAL NOTES')[0].strip()\n",
    "\n",
    "# Apply the function to the 'Content' column\n",
    "df['Content'] = df['Content'].apply(remove_editorial_notes)\n"
   ]
  },
  {
   "cell_type": "code",
   "execution_count": 43,
   "metadata": {},
   "outputs": [
    {
     "name": "stdout",
     "output_type": "stream",
     "text": [
      "                       Sections  \\\n",
      "0                  1. Repealed.   \n",
      "1                2. Principals.   \n",
      "2  3. Accessory after the fact.   \n",
      "3      4. Misprision of felony.   \n",
      "4     5. United States defined.   \n",
      "\n",
      "                                             Content  \n",
      "0  ENATE REVISION AMENDMENT\\nIn the analysis of s...  \n",
      "1  (a) Whoever commits an offense against the Uni...  \n",
      "2  Whoever, knowing that an offense against the U...  \n",
      "3  Whoever, having knowledge of the actual commis...  \n",
      "4  The term \"United States\", as used in this titl...  \n"
     ]
    }
   ],
   "source": [
    "print(df.head())"
   ]
  },
  {
   "cell_type": "code",
   "execution_count": 45,
   "metadata": {},
   "outputs": [],
   "source": [
    "from sentence_transformers import SentenceTransformer\n",
    "\n",
    "# initialize sentence transformer model\n",
    "model = SentenceTransformer('bert-base-nli-mean-tokens')"
   ]
  },
  {
   "cell_type": "code",
   "execution_count": null,
   "metadata": {},
   "outputs": [],
   "source": [
    "# embeddings = model.encode(df['Content'][2])\n",
    "# # Convert embeddings to a numpy array (if not already)\n",
    "# embeddings = np.array(embeddings).astype('float32')\n",
    "\n",
    "# # Initialize a FAISS index with L2 (Euclidean) distance\n",
    "# dimension = embeddings.shape[1]  # Get the dimensionality of the embeddings\n",
    "# index = faiss.IndexFlatL2(dimension)  # IndexFlatL2 is a flat index (no compression)\n",
    "\n",
    "# # Add the vectors to the index\n",
    "# index.add(embeddings)\n",
    "\n",
    "# # Optional: Verify the number of vectors in the index\n",
    "# print(f\"Number of vectors in the index: {index.ntotal}\")\n",
    "\n",
    "# # Searching for similar vectors (example: search for the first embedding)\n",
    "# D, I = index.search(np.array([embeddings[0]]), k=2)  # Search for 2 nearest neighbors\n",
    "\n",
    "# print(\"Distances:\", D)\n",
    "# print(\"Indices:\", I)"
   ]
  },
  {
   "cell_type": "code",
   "execution_count": 8,
   "metadata": {},
   "outputs": [
    {
     "name": "stdout",
     "output_type": "stream",
     "text": [
      "Whoever, knowing that an offense against the United States has been committed, receives,\n",
      "relieves, comforts or assists the offender in order to hinder or prevent his apprehension, trial or\n",
      "punishment, is an accessory after the fact.\n",
      "Except as otherwise expressly provided by any Act of Congress, an accessory after the fact shall\n",
      "be imprisoned not more than one-half the maximum term of imprisonment or (notwithstanding\n",
      "section 3571) fined not more than one-half the maximum fine prescribed for the punishment of the\n",
      "principal, or both; or if the principal is punishable by life imprisonment or death, the accessory shall\n",
      "be imprisoned not more than 15 years.\n",
      "(June 25, 1948, ch. 645, 62 Stat. 684; Pub. L. 99646, §43, Nov. 10, 1986, 100 Stat. 3601; Pub. L.\n",
      "101647, title XXXV, §3502, Nov. 29, 1990, 104 Stat. 4921; Pub. L. 103322, title XXXIII,\n",
      "§§330011(h), 330016(2)(A), Sept. 13, 1994, 108 Stat. 2145, 2148.)\n",
      "HISTORICAL AND REVISION NOTES\n",
      "Based on title 18, U.S.C., 1940 ed., §551 (Mar. 4, 1909, ch. 321, §333, 35 Stat. 1152).\n",
      "The first paragraph is new. It is based upon authority of Skelly v. United States (C. C. A. Okl. 1935, 76 F.\n",
      "2d 483, certiorari denied, 1935, 55 S. Ct. 914, 295 U.S. 757, 79 L. Ed. 1699), where the court defined an\n",
      "accessory after the fact as\n",
      "one who knowing a felony to have been committed by another, receives, relieves, comforts, or assists the\n",
      "felon in order to hinder the felon's apprehension, trial, or punishment\n",
      "and cited Jones' Blackstone, books 3 and 4, page 2204; U.S. v. Hartwell (Fed. Cas. No. 15,318); Albritton v.\n",
      "State (32 Fla. 358, 13 So. 955); State v. Davis (14 R. I. 281); Schleeter v. Commonwealth (218 Ky. 72, 290 S.\n",
      "W. 1075). (See also State v. Potter, 1942, 221 N. C. 153, 19 S. E. 2d 257; Hunter v. State, 1935, 128 Tex. Cr.\n",
      "R. 191, 79 S. W. 2d 855; State v. Wells, 1940, 195 La. 754, 197 So. 419.)\n",
      "The second paragraph is from section 551 of title 18, U.S.C., 1940 ed. Here only slight changes were made\n",
      "in phraseology.\n",
      "EDITORIAL NOTES\n",
      "AMENDMENTS\n",
      "1994Pub. L. 103322, §330016(2)(A), inserted \"(notwithstanding section 3571)\" before \"fined not more\n",
      "than one-half\" in second par.\n",
      "Pub. L. 103322, §330011(h), amended directory language of Pub. L. 101647, §3502. See 1990\n",
      "[Release Point 118-78]\n",
      "Amendment note below.\n",
      "1990Pub. L. 101647, as amended by Pub. L. 103322, §330011(h), substituted \"15 years\" for \"ten\n",
      "years\" in second par.\n",
      "1986Pub. L. 99646 inserted \"life imprisonment or\" in second par.\n",
      "STATUTORY NOTES AND RELATED SUBSIDIARIES\n",
      "EFFECTIVE DATE OF 1994 AMENDMENT\n",
      "Pub. L. 103322, title XXXIII, §330011(h), Sept. 13, 1994, 108 Stat. 2145, provided that the amendment\n",
      "made by that section is effective as of Nov. 29, 1990.\n",
      "(768,)\n"
     ]
    }
   ],
   "source": [
    "print(df['Content'][2])\n",
    "encoded_vectors=model.encode(df['Content'][2])\n",
    "print(encoded_vectors.shape)\n",
    "# print(encoded_vectors)"
   ]
  },
  {
   "cell_type": "code",
   "execution_count": null,
   "metadata": {},
   "outputs": [],
   "source": [
    "!pip install faiss-cpu"
   ]
  },
  {
   "cell_type": "code",
   "execution_count": 27,
   "metadata": {},
   "outputs": [
    {
     "name": "stdout",
     "output_type": "stream",
     "text": [
      "<class 'numpy.ndarray'>\n"
     ]
    }
   ],
   "source": [
    "print(type(embeddings))"
   ]
  },
  {
   "cell_type": "code",
   "execution_count": 46,
   "metadata": {},
   "outputs": [
    {
     "name": "stdout",
     "output_type": "stream",
     "text": [
      "(26, 768)\n",
      "[[-0.07077196  0.5171003   0.38272002 ...  0.3432877   0.1410996\n",
      "   0.5309359 ]\n",
      " [-0.20032404  0.48492354 -0.03601067 ... -0.7024666  -0.36969948\n",
      "  -0.0136019 ]\n",
      " [-0.29936576  0.22036414  0.32110465 ... -0.44854423 -0.8169397\n",
      "  -0.17861101]\n",
      " ...\n",
      " [-0.05589103 -0.1286016   0.4326105  ... -0.75313634 -0.79780245\n",
      "  -0.02514637]\n",
      " [-0.26603687  0.3050717   1.0817775  ... -0.49069375 -0.7784734\n",
      "   0.61886907]\n",
      " [-0.5555078   0.540292    0.59230906 ... -0.22154228 -0.84739316\n",
      "   0.03502662]]\n",
      "Number of vectors in the index: 26\n"
     ]
    }
   ],
   "source": [
    "# Encode the entire 'Content' column\n",
    "embeddings = model.encode(df['Content'].tolist())\n",
    "\n",
    "if len(embeddings.shape) == 1:\n",
    "    embeddings = embeddings.reshape(1, -1)\n",
    "# Convert embeddings to a numpy array (if not already)\n",
    "\n",
    "embeddings = np.array(embeddings).astype('float32')\n",
    "print(embeddings.shape)\n",
    "print(embeddings)\n",
    "# Initialize a FAISS index with L2 (Euclidean) distance\n",
    "dimension = embeddings.shape[1]  # Get the dimensionality of the embeddings\n",
    "index = faiss.IndexFlatL2(dimension)  # IndexFlatL2 is a flat index (no compression)\n",
    "\n",
    "# Add the vectors to the index\n",
    "index.add(embeddings)\n",
    "\n",
    "# Optional: Verify the number of vectors in the index\n",
    "print(f\"Number of vectors in the index: {index.ntotal}\")"
   ]
  },
  {
   "cell_type": "code",
   "execution_count": 50,
   "metadata": {},
   "outputs": [],
   "source": [
    "# Encode the entire 'Content' column into embeddings\n",
    "embeddings = model.encode(df['Content'].tolist())\n",
    "\n",
    "# Ensure embeddings are in the correct shape\n",
    "if len(embeddings.shape) == 1:\n",
    "    embeddings = embeddings.reshape(1, -1)\n",
    "\n",
    "# Convert embeddings to a numpy array\n",
    "embeddings = np.array(embeddings).astype('float32')"
   ]
  },
  {
   "cell_type": "code",
   "execution_count": null,
   "metadata": {},
   "outputs": [],
   "source": [
    "test= ''' \n",
    "Whoever, knowing that an offense against the United States has been committed, receives,\n",
    "relieves, comforts or assists the offender in order to hinder or prevent his apprehension, trial or\n",
    "punishment, is an accessory after the fact.\n",
    "Except as otherwise expressly provided by any Act of Congress, an accessory after the fact shall\n",
    "be imprisoned not more than one-half the maximum term of imprisonment or (notwithstanding\n",
    "section 3571) fined not more than one-half the maximum fine prescribed for the punishment of the\n",
    "principal, or both; or if the principal is punishable by life imprisonment or death, the accessory shall\n",
    "be imprisoned not more than 15 years.\n",
    "(June 25, 1948, ch. 645, 62 Stat. 684; Pub. L. 99–646, §43, Nov. 10, 1986, 100 Stat. 3601; Pub. L.\n",
    "101–647, title XXXV, §3502, Nov. 29, 1990, 104 Stat. 4921; Pub. L. 103–322, title XXXIII,\n",
    "§§330011(h), 330016(2)(A), Sept. 13, 1994, 108 Stat. 2145, 2148.)\n",
    "'''\n",
    "test_vector= model.encode(test)\n",
    "test_embeddings = test_vector.reshape(1, -1)\n",
    "test_embeddings2 = np.array(test_embeddings).astype('float32')"
   ]
  },
  {
   "cell_type": "code",
   "execution_count": 58,
   "metadata": {},
   "outputs": [
    {
     "name": "stdout",
     "output_type": "stream",
     "text": [
      "Top matches for the query:\n",
      "[2 3]\n",
      "[0.46905786 0.7813332 ]\n"
     ]
    }
   ],
   "source": [
    "# Compute cosine similarity between the query and all the content embeddings\n",
    "similarities = cosine_similarity(test_embeddings2, embeddings)\n",
    "\n",
    "# Get the indices of the top results (sorted by highest similarity)\n",
    "top_indices = similarities.argsort()[0][::-1]\n",
    "\n",
    "# Show the top results\n",
    "print(\"Top matches for the query:\")\n",
    "print(top_indices[:2])\n",
    "print(similarities[0][:2])\n",
    "# for idx in top_indices:\n",
    "#     print(f\"Content: {df['Content'][idx]}, Similarity: {similarities[0][idx]}\")"
   ]
  },
  {
   "cell_type": "code",
   "execution_count": 48,
   "metadata": {},
   "outputs": [
    {
     "name": "stdout",
     "output_type": "stream",
     "text": [
      "Distances: [[2.1911233e-11 5.5277973e+01]]\n",
      "Indices: [[2 3]]\n"
     ]
    }
   ],
   "source": [
    "# Example: Search for the first content vector's nearest neighbors\n",
    "D, I = index.search(test_embeddings2, k=2)  # Search for 2 nearest neighbors\n",
    "\n",
    "print(\"Distances:\", D)\n",
    "print(\"Indices:\", I)"
   ]
  },
  {
   "cell_type": "code",
   "execution_count": 17,
   "metadata": {},
   "outputs": [
    {
     "name": "stdout",
     "output_type": "stream",
     "text": [
      "Number of vectors in the index: 1\n",
      "Distances: [[0.0000000e+00 3.4028235e+38]]\n",
      "Indices: [[ 0 -1]]\n"
     ]
    }
   ],
   "source": [
    "# embeddings = model.encode(df['Content'][2])\n",
    "# # If embeddings are 1D (single sentence), reshape them to 2D\n",
    "# if len(embeddings.shape) == 1:\n",
    "#     embeddings = embeddings.reshape(1, -1)\n",
    "\n",
    "# # Convert embeddings to a numpy array (if not already)\n",
    "# embeddings = np.array(embeddings).astype('float32')\n",
    "\n",
    "# # Initialize a FAISS index with L2 (Euclidean) distance\n",
    "# dimension = embeddings.shape[1]  # Get the dimensionality of the embeddings\n",
    "# index = faiss.IndexFlatL2(dimension)  # IndexFlatL2 is a flat index (no compression)\n",
    "\n",
    "# # Add the vectors to the index\n",
    "# index.add(embeddings)\n",
    "\n",
    "# # Optional: Verify the number of vectors in the index\n",
    "# print(f\"Number of vectors in the index: {index.ntotal}\")\n",
    "\n",
    "# # Searching for similar vectors (example: search for the first embedding)\n",
    "# D, I = index.search(np.array([embeddings[0]]), k=2)  # Search for 2 nearest neighbors\n",
    "\n",
    "# print(\"Distances:\", D)\n",
    "# print(\"Indices:\", I)"
   ]
  }
 ],
 "metadata": {
  "kernelspec": {
   "display_name": "Python 3",
   "language": "python",
   "name": "python3"
  },
  "language_info": {
   "codemirror_mode": {
    "name": "ipython",
    "version": 3
   },
   "file_extension": ".py",
   "mimetype": "text/x-python",
   "name": "python",
   "nbconvert_exporter": "python",
   "pygments_lexer": "ipython3",
   "version": "3.12.0"
  }
 },
 "nbformat": 4,
 "nbformat_minor": 2
}
