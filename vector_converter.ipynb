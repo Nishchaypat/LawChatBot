{
 "cells": [
  {
   "cell_type": "code",
   "execution_count": 1,
   "metadata": {},
   "outputs": [],
   "source": [
    "import numpy as np\n",
    "import faiss\n",
    "from sklearn.metrics.pairwise import cosine_similarity"
   ]
  },
  {
   "cell_type": "code",
   "execution_count": 1,
   "metadata": {},
   "outputs": [
    {
     "ename": "ModuleNotFoundError",
     "evalue": "No module named 'pandas'",
     "output_type": "error",
     "traceback": [
      "\u001b[1;31m---------------------------------------------------------------------------\u001b[0m",
      "\u001b[1;31mModuleNotFoundError\u001b[0m                       Traceback (most recent call last)",
      "Cell \u001b[1;32mIn[1], line 1\u001b[0m\n\u001b[1;32m----> 1\u001b[0m \u001b[38;5;28;01mimport\u001b[39;00m \u001b[38;5;21;01mpandas\u001b[39;00m \u001b[38;5;28;01mas\u001b[39;00m \u001b[38;5;21;01mpd\u001b[39;00m\n\u001b[0;32m      2\u001b[0m df\u001b[38;5;241m=\u001b[39mpd\u001b[38;5;241m.\u001b[39mread_csv(\u001b[38;5;124mr\u001b[39m\u001b[38;5;124m'\u001b[39m\u001b[38;5;124mChapter1_General_Provisions.csv\u001b[39m\u001b[38;5;124m'\u001b[39m, encoding\u001b[38;5;241m=\u001b[39m\u001b[38;5;124m'\u001b[39m\u001b[38;5;124mlatin-1\u001b[39m\u001b[38;5;124m'\u001b[39m)\n\u001b[0;32m      3\u001b[0m \u001b[38;5;28mprint\u001b[39m(df\u001b[38;5;241m.\u001b[39mshape)\n",
      "\u001b[1;31mModuleNotFoundError\u001b[0m: No module named 'pandas'"
     ]
    }
   ],
   "source": [
    "import pandas as pd\n",
    "df=pd.read_csv(r'Chapter1_General_Provisions.csv', encoding='latin-1')\n",
    "print(df.shape)\n",
    "print(df.columns)"
   ]
  },
  {
   "cell_type": "code",
   "execution_count": 3,
   "metadata": {},
   "outputs": [],
   "source": [
    "# Function to remove text after \"EDITORIAL NOTES\"\n",
    "def remove_editorial_notes(text):\n",
    "    # Split at the first occurrence of \"EDITORIAL NOTES\" and take the part before it\n",
    "    return text.split('EDITORIAL NOTES')[0].strip()\n",
    "\n",
    "# Apply the function to the 'Content' column\n",
    "df['Content'] = df['Content'].apply(remove_editorial_notes)\n"
   ]
  },
  {
   "cell_type": "code",
   "execution_count": 4,
   "metadata": {},
   "outputs": [
    {
     "name": "stdout",
     "output_type": "stream",
     "text": [
      "                       Sections  \\\n",
      "0                  1. Repealed.   \n",
      "1                2. Principals.   \n",
      "2  3. Accessory after the fact.   \n",
      "3      4. Misprision of felony.   \n",
      "4     5. United States defined.   \n",
      "\n",
      "                                             Content  \n",
      "0  ENATE REVISION AMENDMENT\\nIn the analysis of s...  \n",
      "1  (a) Whoever commits an offense against the Uni...  \n",
      "2  Whoever, knowing that an offense against the U...  \n",
      "3  Whoever, having knowledge of the actual commis...  \n",
      "4  The term \"United States\", as used in this titl...  \n"
     ]
    }
   ],
   "source": [
    "print(df.head())"
   ]
  },
  {
   "cell_type": "code",
   "execution_count": 6,
   "metadata": {},
   "outputs": [
    {
     "ename": "",
     "evalue": "",
     "output_type": "error",
     "traceback": [
      "\u001b[1;31mThe Kernel crashed while executing code in the current cell or a previous cell. \n",
      "\u001b[1;31mPlease review the code in the cell(s) to identify a possible cause of the failure. \n",
      "\u001b[1;31mClick <a href='https://aka.ms/vscodeJupyterKernelCrash'>here</a> for more info. \n",
      "\u001b[1;31mView Jupyter <a href='command:jupyter.viewOutput'>log</a> for further details."
     ]
    }
   ],
   "source": [
    "from sentence_transformers import SentenceTransformer\n",
    "\n",
    "# initialize sentence transformer model\n",
    "model = SentenceTransformer('bert-base-nli-mean-tokens')"
   ]
  },
  {
   "cell_type": "code",
   "execution_count": null,
   "metadata": {},
   "outputs": [],
   "source": [
    "# embeddings = model.encode(df['Content'][2])\n",
    "# # Convert embeddings to a numpy array (if not already)\n",
    "# embeddings = np.array(embeddings).astype('float32')\n",
    "\n",
    "# # Initialize a FAISS index with L2 (Euclidean) distance\n",
    "# dimension = embeddings.shape[1]  # Get the dimensionality of the embeddings\n",
    "# index = faiss.IndexFlatL2(dimension)  # IndexFlatL2 is a flat index (no compression)\n",
    "\n",
    "# # Add the vectors to the index\n",
    "# index.add(embeddings)\n",
    "\n",
    "# # Optional: Verify the number of vectors in the index\n",
    "# print(f\"Number of vectors in the index: {index.ntotal}\")\n",
    "\n",
    "# # Searching for similar vectors (example: search for the first embedding)\n",
    "# D, I = index.search(np.array([embeddings[0]]), k=2)  # Search for 2 nearest neighbors\n",
    "\n",
    "# print(\"Distances:\", D)\n",
    "# print(\"Indices:\", I)"
   ]
  },
  {
   "cell_type": "code",
   "execution_count": 21,
   "metadata": {},
   "outputs": [
    {
     "ename": "ValueError",
     "evalue": "numpy.dtype size changed, may indicate binary incompatibility. Expected 96 from C header, got 88 from PyObject",
     "output_type": "error",
     "traceback": [
      "\u001b[1;31m---------------------------------------------------------------------------\u001b[0m",
      "\u001b[1;31mValueError\u001b[0m                                Traceback (most recent call last)",
      "Cell \u001b[1;32mIn[21], line 5\u001b[0m\n\u001b[0;32m      3\u001b[0m warnings\u001b[38;5;241m.\u001b[39mfilterwarnings(\u001b[38;5;124m\"\u001b[39m\u001b[38;5;124mignore\u001b[39m\u001b[38;5;124m\"\u001b[39m, message\u001b[38;5;241m=\u001b[39m\u001b[38;5;124m\"\u001b[39m\u001b[38;5;124mnumpy.ufunc size changed\u001b[39m\u001b[38;5;124m\"\u001b[39m)\n\u001b[0;32m      4\u001b[0m \u001b[38;5;28;01mimport\u001b[39;00m \u001b[38;5;21;01mnumpy\u001b[39;00m \u001b[38;5;28;01mas\u001b[39;00m \u001b[38;5;21;01mnp\u001b[39;00m\n\u001b[1;32m----> 5\u001b[0m \u001b[38;5;28;01mimport\u001b[39;00m \u001b[38;5;21;01mpandas\u001b[39;00m \u001b[38;5;28;01mas\u001b[39;00m \u001b[38;5;21;01mpd\u001b[39;00m\n",
      "File \u001b[1;32m~\\AppData\\Roaming\\Python\\Python310\\site-packages\\pandas\\__init__.py:50\u001b[0m\n\u001b[0;32m     43\u001b[0m     _module \u001b[38;5;241m=\u001b[39m _err\u001b[38;5;241m.\u001b[39mname\n\u001b[0;32m     44\u001b[0m     \u001b[38;5;28;01mraise\u001b[39;00m \u001b[38;5;167;01mImportError\u001b[39;00m(\n\u001b[0;32m     45\u001b[0m         \u001b[38;5;124mf\u001b[39m\u001b[38;5;124m\"\u001b[39m\u001b[38;5;124mC extension: \u001b[39m\u001b[38;5;132;01m{\u001b[39;00m_module\u001b[38;5;132;01m}\u001b[39;00m\u001b[38;5;124m not built. If you want to import \u001b[39m\u001b[38;5;124m\"\u001b[39m\n\u001b[0;32m     46\u001b[0m         \u001b[38;5;124m\"\u001b[39m\u001b[38;5;124mpandas from the source directory, you may need to run \u001b[39m\u001b[38;5;124m\"\u001b[39m\n\u001b[0;32m     47\u001b[0m         \u001b[38;5;124m\"\u001b[39m\u001b[38;5;124m'\u001b[39m\u001b[38;5;124mpython setup.py build_ext\u001b[39m\u001b[38;5;124m'\u001b[39m\u001b[38;5;124m to build the C extensions first.\u001b[39m\u001b[38;5;124m\"\u001b[39m\n\u001b[0;32m     48\u001b[0m     ) \u001b[38;5;28;01mfrom\u001b[39;00m \u001b[38;5;21;01m_err\u001b[39;00m\n\u001b[1;32m---> 50\u001b[0m \u001b[38;5;28;01mfrom\u001b[39;00m \u001b[38;5;21;01mpandas\u001b[39;00m\u001b[38;5;21;01m.\u001b[39;00m\u001b[38;5;21;01m_config\u001b[39;00m \u001b[38;5;28;01mimport\u001b[39;00m (\n\u001b[0;32m     51\u001b[0m     get_option,\n\u001b[0;32m     52\u001b[0m     set_option,\n\u001b[0;32m     53\u001b[0m     reset_option,\n\u001b[0;32m     54\u001b[0m     describe_option,\n\u001b[0;32m     55\u001b[0m     option_context,\n\u001b[0;32m     56\u001b[0m     options,\n\u001b[0;32m     57\u001b[0m )\n\u001b[0;32m     59\u001b[0m \u001b[38;5;66;03m# let init-time option registration happen\u001b[39;00m\n\u001b[0;32m     60\u001b[0m \u001b[38;5;28;01mimport\u001b[39;00m \u001b[38;5;21;01mpandas\u001b[39;00m\u001b[38;5;21;01m.\u001b[39;00m\u001b[38;5;21;01mcore\u001b[39;00m\u001b[38;5;21;01m.\u001b[39;00m\u001b[38;5;21;01mconfig_init\u001b[39;00m  \u001b[38;5;66;03m# pyright: ignore[reportUnusedImport] # noqa: F401\u001b[39;00m\n",
      "File \u001b[1;32m~\\AppData\\Roaming\\Python\\Python310\\site-packages\\pandas\\_config\\__init__.py:20\u001b[0m\n\u001b[0;32m      1\u001b[0m \u001b[38;5;124;03m\"\"\"\u001b[39;00m\n\u001b[0;32m      2\u001b[0m \u001b[38;5;124;03mpandas._config is considered explicitly upstream of everything else in pandas,\u001b[39;00m\n\u001b[0;32m      3\u001b[0m \u001b[38;5;124;03mshould have no intra-pandas dependencies.\u001b[39;00m\n\u001b[1;32m   (...)\u001b[0m\n\u001b[0;32m      6\u001b[0m \u001b[38;5;124;03mare initialized.\u001b[39;00m\n\u001b[0;32m      7\u001b[0m \u001b[38;5;124;03m\"\"\"\u001b[39;00m\n\u001b[0;32m      8\u001b[0m __all__ \u001b[38;5;241m=\u001b[39m [\n\u001b[0;32m      9\u001b[0m     \u001b[38;5;124m\"\u001b[39m\u001b[38;5;124mconfig\u001b[39m\u001b[38;5;124m\"\u001b[39m,\n\u001b[0;32m     10\u001b[0m     \u001b[38;5;124m\"\u001b[39m\u001b[38;5;124mdetect_console_encoding\u001b[39m\u001b[38;5;124m\"\u001b[39m,\n\u001b[1;32m   (...)\u001b[0m\n\u001b[0;32m     18\u001b[0m     \u001b[38;5;124m\"\u001b[39m\u001b[38;5;124mwarn_copy_on_write\u001b[39m\u001b[38;5;124m\"\u001b[39m,\n\u001b[0;32m     19\u001b[0m ]\n\u001b[1;32m---> 20\u001b[0m \u001b[38;5;28;01mfrom\u001b[39;00m \u001b[38;5;21;01mpandas\u001b[39;00m\u001b[38;5;21;01m.\u001b[39;00m\u001b[38;5;21;01m_config\u001b[39;00m \u001b[38;5;28;01mimport\u001b[39;00m config\n\u001b[0;32m     21\u001b[0m \u001b[38;5;28;01mfrom\u001b[39;00m \u001b[38;5;21;01mpandas\u001b[39;00m\u001b[38;5;21;01m.\u001b[39;00m\u001b[38;5;21;01m_config\u001b[39;00m \u001b[38;5;28;01mimport\u001b[39;00m dates  \u001b[38;5;66;03m# pyright: ignore[reportUnusedImport]  # noqa: F401\u001b[39;00m\n\u001b[0;32m     22\u001b[0m \u001b[38;5;28;01mfrom\u001b[39;00m \u001b[38;5;21;01mpandas\u001b[39;00m\u001b[38;5;21;01m.\u001b[39;00m\u001b[38;5;21;01m_config\u001b[39;00m\u001b[38;5;21;01m.\u001b[39;00m\u001b[38;5;21;01mconfig\u001b[39;00m \u001b[38;5;28;01mimport\u001b[39;00m (\n\u001b[0;32m     23\u001b[0m     _global_config,\n\u001b[0;32m     24\u001b[0m     describe_option,\n\u001b[1;32m   (...)\u001b[0m\n\u001b[0;32m     29\u001b[0m     set_option,\n\u001b[0;32m     30\u001b[0m )\n",
      "File \u001b[1;32m~\\AppData\\Roaming\\Python\\Python310\\site-packages\\pandas\\_config\\config.py:68\u001b[0m\n\u001b[0;32m     58\u001b[0m \u001b[38;5;28;01mfrom\u001b[39;00m \u001b[38;5;21;01mtyping\u001b[39;00m \u001b[38;5;28;01mimport\u001b[39;00m (\n\u001b[0;32m     59\u001b[0m     TYPE_CHECKING,\n\u001b[0;32m     60\u001b[0m     Any,\n\u001b[1;32m   (...)\u001b[0m\n\u001b[0;32m     64\u001b[0m     cast,\n\u001b[0;32m     65\u001b[0m )\n\u001b[0;32m     66\u001b[0m \u001b[38;5;28;01mimport\u001b[39;00m \u001b[38;5;21;01mwarnings\u001b[39;00m\n\u001b[1;32m---> 68\u001b[0m \u001b[38;5;28;01mfrom\u001b[39;00m \u001b[38;5;21;01mpandas\u001b[39;00m\u001b[38;5;21;01m.\u001b[39;00m\u001b[38;5;21;01m_typing\u001b[39;00m \u001b[38;5;28;01mimport\u001b[39;00m (\n\u001b[0;32m     69\u001b[0m     F,\n\u001b[0;32m     70\u001b[0m     T,\n\u001b[0;32m     71\u001b[0m )\n\u001b[0;32m     72\u001b[0m \u001b[38;5;28;01mfrom\u001b[39;00m \u001b[38;5;21;01mpandas\u001b[39;00m\u001b[38;5;21;01m.\u001b[39;00m\u001b[38;5;21;01mutil\u001b[39;00m\u001b[38;5;21;01m.\u001b[39;00m\u001b[38;5;21;01m_exceptions\u001b[39;00m \u001b[38;5;28;01mimport\u001b[39;00m find_stack_level\n\u001b[0;32m     74\u001b[0m \u001b[38;5;28;01mif\u001b[39;00m TYPE_CHECKING:\n",
      "File \u001b[1;32m~\\AppData\\Roaming\\Python\\Python310\\site-packages\\pandas\\_typing.py:198\u001b[0m\n\u001b[0;32m    192\u001b[0m Frequency \u001b[38;5;241m=\u001b[39m Union[\u001b[38;5;28mstr\u001b[39m, \u001b[38;5;124m\"\u001b[39m\u001b[38;5;124mBaseOffset\u001b[39m\u001b[38;5;124m\"\u001b[39m]\n\u001b[0;32m    193\u001b[0m Axes \u001b[38;5;241m=\u001b[39m ListLike\n\u001b[0;32m    195\u001b[0m RandomState \u001b[38;5;241m=\u001b[39m Union[\n\u001b[0;32m    196\u001b[0m     \u001b[38;5;28mint\u001b[39m,\n\u001b[0;32m    197\u001b[0m     np\u001b[38;5;241m.\u001b[39mndarray,\n\u001b[1;32m--> 198\u001b[0m     \u001b[43mnp\u001b[49m\u001b[38;5;241;43m.\u001b[39;49m\u001b[43mrandom\u001b[49m\u001b[38;5;241m.\u001b[39mGenerator,\n\u001b[0;32m    199\u001b[0m     np\u001b[38;5;241m.\u001b[39mrandom\u001b[38;5;241m.\u001b[39mBitGenerator,\n\u001b[0;32m    200\u001b[0m     np\u001b[38;5;241m.\u001b[39mrandom\u001b[38;5;241m.\u001b[39mRandomState,\n\u001b[0;32m    201\u001b[0m ]\n\u001b[0;32m    203\u001b[0m \u001b[38;5;66;03m# dtypes\u001b[39;00m\n\u001b[0;32m    204\u001b[0m NpDtype \u001b[38;5;241m=\u001b[39m Union[\u001b[38;5;28mstr\u001b[39m, np\u001b[38;5;241m.\u001b[39mdtype, type_t[Union[\u001b[38;5;28mstr\u001b[39m, \u001b[38;5;28mcomplex\u001b[39m, \u001b[38;5;28mbool\u001b[39m, \u001b[38;5;28mobject\u001b[39m]]]\n",
      "File \u001b[1;32m~\\AppData\\Roaming\\Python\\Python310\\site-packages\\numpy\\__init__.py:354\u001b[0m, in \u001b[0;36m__getattr__\u001b[1;34m(attr)\u001b[0m\n\u001b[0;32m    350\u001b[0m \u001b[38;5;28;01mdef\u001b[39;00m \u001b[38;5;21m__dir__\u001b[39m():\n\u001b[0;32m    351\u001b[0m     public_symbols \u001b[38;5;241m=\u001b[39m \u001b[38;5;28mglobals\u001b[39m()\u001b[38;5;241m.\u001b[39mkeys() \u001b[38;5;241m|\u001b[39m {\u001b[38;5;124m'\u001b[39m\u001b[38;5;124mtesting\u001b[39m\u001b[38;5;124m'\u001b[39m}\n\u001b[0;32m    352\u001b[0m     public_symbols \u001b[38;5;241m-\u001b[39m\u001b[38;5;241m=\u001b[39m {\n\u001b[0;32m    353\u001b[0m         \u001b[38;5;124m\"\u001b[39m\u001b[38;5;124mcore\u001b[39m\u001b[38;5;124m\"\u001b[39m, \u001b[38;5;124m\"\u001b[39m\u001b[38;5;124mmatrixlib\u001b[39m\u001b[38;5;124m\"\u001b[39m,\n\u001b[1;32m--> 354\u001b[0m         \u001b[38;5;66;03m# These were moved in 1.25 and may be deprecated eventually:\u001b[39;00m\n\u001b[0;32m    355\u001b[0m         \u001b[38;5;124m\"\u001b[39m\u001b[38;5;124mModuleDeprecationWarning\u001b[39m\u001b[38;5;124m\"\u001b[39m, \u001b[38;5;124m\"\u001b[39m\u001b[38;5;124mVisibleDeprecationWarning\u001b[39m\u001b[38;5;124m\"\u001b[39m,\n\u001b[0;32m    356\u001b[0m         \u001b[38;5;124m\"\u001b[39m\u001b[38;5;124mComplexWarning\u001b[39m\u001b[38;5;124m\"\u001b[39m, \u001b[38;5;124m\"\u001b[39m\u001b[38;5;124mTooHardError\u001b[39m\u001b[38;5;124m\"\u001b[39m, \u001b[38;5;124m\"\u001b[39m\u001b[38;5;124mAxisError\u001b[39m\u001b[38;5;124m\"\u001b[39m\n\u001b[0;32m    357\u001b[0m     }\n\u001b[0;32m    358\u001b[0m     \u001b[38;5;28;01mreturn\u001b[39;00m \u001b[38;5;28mlist\u001b[39m(public_symbols)\n",
      "File \u001b[1;32m~\\AppData\\Roaming\\Python\\Python310\\site-packages\\numpy\\random\\__init__.py:180\u001b[0m\n\u001b[0;32m    126\u001b[0m __all__ \u001b[38;5;241m=\u001b[39m [\n\u001b[0;32m    127\u001b[0m     \u001b[38;5;124m'\u001b[39m\u001b[38;5;124mbeta\u001b[39m\u001b[38;5;124m'\u001b[39m,\n\u001b[0;32m    128\u001b[0m     \u001b[38;5;124m'\u001b[39m\u001b[38;5;124mbinomial\u001b[39m\u001b[38;5;124m'\u001b[39m,\n\u001b[1;32m   (...)\u001b[0m\n\u001b[0;32m    176\u001b[0m     \u001b[38;5;124m'\u001b[39m\u001b[38;5;124mzipf\u001b[39m\u001b[38;5;124m'\u001b[39m,\n\u001b[0;32m    177\u001b[0m ]\n\u001b[0;32m    179\u001b[0m \u001b[38;5;66;03m# add these for module-freeze analysis (like PyInstaller)\u001b[39;00m\n\u001b[1;32m--> 180\u001b[0m \u001b[38;5;28;01mfrom\u001b[39;00m \u001b[38;5;21;01m.\u001b[39;00m \u001b[38;5;28;01mimport\u001b[39;00m _pickle\n\u001b[0;32m    181\u001b[0m \u001b[38;5;28;01mfrom\u001b[39;00m \u001b[38;5;21;01m.\u001b[39;00m \u001b[38;5;28;01mimport\u001b[39;00m _common\n\u001b[0;32m    182\u001b[0m \u001b[38;5;28;01mfrom\u001b[39;00m \u001b[38;5;21;01m.\u001b[39;00m \u001b[38;5;28;01mimport\u001b[39;00m _bounded_integers\n",
      "File \u001b[1;32m~\\AppData\\Roaming\\Python\\Python310\\site-packages\\numpy\\random\\_pickle.py:2\u001b[0m\n\u001b[0;32m      1\u001b[0m \u001b[38;5;28;01mfrom\u001b[39;00m \u001b[38;5;21;01m.\u001b[39;00m\u001b[38;5;21;01mbit_generator\u001b[39;00m \u001b[38;5;28;01mimport\u001b[39;00m BitGenerator\n\u001b[1;32m----> 2\u001b[0m \u001b[38;5;28;01mfrom\u001b[39;00m \u001b[38;5;21;01m.\u001b[39;00m\u001b[38;5;21;01mmtrand\u001b[39;00m \u001b[38;5;28;01mimport\u001b[39;00m RandomState\n\u001b[0;32m      3\u001b[0m \u001b[38;5;28;01mfrom\u001b[39;00m \u001b[38;5;21;01m.\u001b[39;00m\u001b[38;5;21;01m_philox\u001b[39;00m \u001b[38;5;28;01mimport\u001b[39;00m Philox\n\u001b[0;32m      4\u001b[0m \u001b[38;5;28;01mfrom\u001b[39;00m \u001b[38;5;21;01m.\u001b[39;00m\u001b[38;5;21;01m_pcg64\u001b[39;00m \u001b[38;5;28;01mimport\u001b[39;00m PCG64, PCG64DXSM\n",
      "File \u001b[1;32mnumpy\\\\random\\\\mtrand.pyx:1\u001b[0m, in \u001b[0;36minit numpy.random.mtrand\u001b[1;34m()\u001b[0m\n",
      "\u001b[1;31mValueError\u001b[0m: numpy.dtype size changed, may indicate binary incompatibility. Expected 96 from C header, got 88 from PyObject"
     ]
    }
   ],
   "source": [
    "import warnings\n",
    "warnings.filterwarnings(\"ignore\", message=\"numpy.dtype size changed\")\n",
    "warnings.filterwarnings(\"ignore\", message=\"numpy.ufunc size changed\")\n",
    "import numpy as np\n",
    "import pandas as pd\n",
    "\n"
   ]
  },
  {
   "cell_type": "code",
   "execution_count": 2,
   "metadata": {},
   "outputs": [],
   "source": [
    "embeddings = np.loadtxt(\"embeddings-complete-legal-bert-base-uncased.csv\", delimiter=',')\n",
    "#df = pd.read_csv(\"Title18.csv\")"
   ]
  },
  {
   "cell_type": "code",
   "execution_count": 3,
   "metadata": {},
   "outputs": [
    {
     "name": "stdout",
     "output_type": "stream",
     "text": [
      "(1647, 768)\n"
     ]
    }
   ],
   "source": [
    "print(embeddings.shape)  # Should be (n_samples, dimension)\n"
   ]
  },
  {
   "cell_type": "code",
   "execution_count": 4,
   "metadata": {},
   "outputs": [
    {
     "name": "stdout",
     "output_type": "stream",
     "text": [
      "Number of vectors in the index: 1647\n",
      "Distances: [[0.         0.10825374]]\n",
      "Indices: [[  0 855]]\n"
     ]
    }
   ],
   "source": [
    "embeddings = np.array(embeddings, dtype='float32')\n",
    "embeddings = np.ascontiguousarray(embeddings, dtype='float32')\n",
    "# # Initialize a FAISS index with L2 (Euclidean) distance\n",
    "dimension = embeddings.shape[1]  # Get the dimensionality of the embeddings\n",
    "index = faiss.IndexFlatL2(dimension)  # IndexFlatL2 is a flat index (no compression)\n",
    "\n",
    "# Add the vectors to the index\n",
    "index.add(embeddings)\n",
    "\n",
    "# Optional: Verify the number of vectors in the index\n",
    "print(f\"Number of vectors in the index: {index.ntotal}\")\n",
    "\n",
    "# Searching for similar vectors (example: search for the first embedding)\n",
    "D, I = index.search(np.array([embeddings[0]]), k=2)  # Search for 2 nearest neighbors\n",
    "\n",
    "print(\"Distances:\", D)\n",
    "print(\"Indices:\", I)"
   ]
  },
  {
   "cell_type": "code",
   "execution_count": 7,
   "metadata": {},
   "outputs": [
    {
     "name": "stdout",
     "output_type": "stream",
     "text": [
      "Whoever, knowing that an offense against the United States has been committed, receives,\n",
      "relieves, comforts or assists the offender in order to hinder or prevent his apprehension, trial or\n",
      "punishment, is an accessory after the fact.\n",
      "Except as otherwise expressly provided by any Act of Congress, an accessory after the fact shall\n",
      "be imprisoned not more than one-half the maximum term of imprisonment or (notwithstanding\n",
      "section 3571) fined not more than one-half the maximum fine prescribed for the punishment of the\n",
      "principal, or both; or if the principal is punishable by life imprisonment or death, the accessory shall\n",
      "be imprisoned not more than 15 years.\n",
      "(June 25, 1948, ch. 645, 62 Stat. 684; Pub. L. 99646, §43, Nov. 10, 1986, 100 Stat. 3601; Pub. L.\n",
      "101647, title XXXV, §3502, Nov. 29, 1990, 104 Stat. 4921; Pub. L. 103322, title XXXIII,\n",
      "§§330011(h), 330016(2)(A), Sept. 13, 1994, 108 Stat. 2145, 2148.)\n",
      "HISTORICAL AND REVISION NOTES\n",
      "Based on title 18, U.S.C., 1940 ed., §551 (Mar. 4, 1909, ch. 321, §333, 35 Stat. 1152).\n",
      "The first paragraph is new. It is based upon authority of Skelly v. United States (C. C. A. Okl. 1935, 76 F.\n",
      "2d 483, certiorari denied, 1935, 55 S. Ct. 914, 295 U.S. 757, 79 L. Ed. 1699), where the court defined an\n",
      "accessory after the fact as\n",
      "one who knowing a felony to have been committed by another, receives, relieves, comforts, or assists the\n",
      "felon in order to hinder the felon's apprehension, trial, or punishment\n",
      "and cited Jones' Blackstone, books 3 and 4, page 2204; U.S. v. Hartwell (Fed. Cas. No. 15,318); Albritton v.\n",
      "State (32 Fla. 358, 13 So. 955); State v. Davis (14 R. I. 281); Schleeter v. Commonwealth (218 Ky. 72, 290 S.\n",
      "W. 1075). (See also State v. Potter, 1942, 221 N. C. 153, 19 S. E. 2d 257; Hunter v. State, 1935, 128 Tex. Cr.\n",
      "R. 191, 79 S. W. 2d 855; State v. Wells, 1940, 195 La. 754, 197 So. 419.)\n",
      "The second paragraph is from section 551 of title 18, U.S.C., 1940 ed. Here only slight changes were made\n",
      "in phraseology.\n",
      "(768,)\n"
     ]
    }
   ],
   "source": [
    "print(df['Content'][2])\n",
    "encoded_vectors=model.encode(df['Content'][2])\n",
    "print(encoded_vectors.shape)\n",
    "# print(encoded_vectors)"
   ]
  },
  {
   "cell_type": "code",
   "execution_count": null,
   "metadata": {},
   "outputs": [],
   "source": [
    "!pip install faiss-cpu"
   ]
  },
  {
   "cell_type": "code",
   "execution_count": 27,
   "metadata": {},
   "outputs": [
    {
     "name": "stdout",
     "output_type": "stream",
     "text": [
      "<class 'numpy.ndarray'>\n"
     ]
    }
   ],
   "source": [
    "print(type(embeddings))"
   ]
  },
  {
   "cell_type": "code",
   "execution_count": 15,
   "metadata": {},
   "outputs": [],
   "source": [
    "test= ''' \n",
    "Whoever, knowing that an offense against the United States has been committed, receives,\n",
    "relieves, comforts or assists the offender in order to hinder or prevent his apprehension, trial or\n",
    "punishment, is an accessory after the fact.\n",
    "Except as otherwise expressly provided by any Act of Congress, an accessory after the fact shall\n",
    "be imprisoned not more than one-half the maximum term of imprisonment or (notwithstanding\n",
    "section 3571) fined not more than one-half the maximum fine prescribed for the punishment of the\n",
    "principal, or both; or if the principal is punishable by life imprisonment or death, the accessory shall\n",
    "be imprisoned not more than 15 years.\n",
    "(June 25, 1948, ch. 645, 62 Stat. 684; Pub. L. 99–646, §43, Nov. 10, 1986, 100 Stat. 3601; Pub. L.\n",
    "101–647, title XXXV, §3502, Nov. 29, 1990, 104 Stat. 4921; Pub. L. 103–322, title XXXIII,\n",
    "§§330011(h), 330016(2)(A), Sept. 13, 1994, 108 Stat. 2145, 2148.)\n",
    "'''\n",
    "test_vector= model.encode(test)\n",
    "test_embeddings = test_vector.reshape(1, -1)\n",
    "test_embeddings2 = np.array(test_embeddings).astype('float32')"
   ]
  },
  {
   "cell_type": "code",
   "execution_count": 8,
   "metadata": {},
   "outputs": [
    {
     "name": "stdout",
     "output_type": "stream",
     "text": [
      "(26, 768)\n",
      "[[-0.07077196  0.5171003   0.38272002 ...  0.3432877   0.1410996\n",
      "   0.5309359 ]\n",
      " [-0.20032404  0.48492354 -0.03601067 ... -0.7024666  -0.36969948\n",
      "  -0.0136019 ]\n",
      " [-0.29936576  0.22036414  0.32110465 ... -0.44854423 -0.8169397\n",
      "  -0.17861101]\n",
      " ...\n",
      " [-0.05589103 -0.1286016   0.4326105  ... -0.75313634 -0.79780245\n",
      "  -0.02514637]\n",
      " [-0.26603687  0.3050717   1.0817775  ... -0.49069375 -0.7784734\n",
      "   0.61886907]\n",
      " [-0.5555078   0.540292    0.59230906 ... -0.22154228 -0.84739316\n",
      "   0.03502662]]\n",
      "Number of vectors in the index: 26\n"
     ]
    }
   ],
   "source": [
    "# Encode the entire 'Content' column\n",
    "embeddings = model.encode(df['Content'].tolist())\n",
    "\n",
    "if len(embeddings.shape) == 1:\n",
    "    embeddings = embeddings.reshape(1, -1)\n",
    "# Convert embeddings to a numpy array (if not already)\n",
    "\n",
    "embeddings = np.array(embeddings).astype('float32')\n",
    "print(embeddings.shape)\n",
    "print(embeddings)\n",
    "# Initialize a FAISS index with L2 (Euclidean) distance\n",
    "dimension = embeddings.shape[1]  # Get the dimensionality of the embeddings\n",
    "index = faiss.IndexFlatL2(dimension)  # IndexFlatL2 is a flat index (no compression)\n",
    "\n",
    "# Add the vectors to the index\n",
    "index.add(embeddings)\n",
    "\n",
    "# Optional: Verify the number of vectors in the index\n",
    "print(f\"Number of vectors in the index: {index.ntotal}\")"
   ]
  },
  {
   "cell_type": "code",
   "execution_count": 14,
   "metadata": {},
   "outputs": [
    {
     "name": "stdout",
     "output_type": "stream",
     "text": [
      "<class 'faiss.swigfaiss_avx2.IndexFlatL2'>\n"
     ]
    }
   ],
   "source": [
    "print(type(index))"
   ]
  },
  {
   "cell_type": "code",
   "execution_count": 16,
   "metadata": {},
   "outputs": [
    {
     "name": "stdout",
     "output_type": "stream",
     "text": [
      "Distances: [[2.1911233e-11 5.5277973e+01]]\n",
      "Indices: [[2 3]]\n"
     ]
    }
   ],
   "source": [
    "# Example: Search for the first content vector's nearest neighbors\n",
    "D, I = index.search(test_embeddings2, k=2)  # Search for 2 nearest neighbors\n",
    "\n",
    "print(\"Distances:\", D)\n",
    "print(\"Indices:\", I)"
   ]
  },
  {
   "cell_type": "code",
   "execution_count": 17,
   "metadata": {},
   "outputs": [
    {
     "name": "stdout",
     "output_type": "stream",
     "text": [
      "\n",
      "Query 1:\n",
      "Neighbor 1: Whoever, knowing that an offense against the United States has been committed, receives,\n",
      "relieves, comforts or assists the offender in order to hinder or prevent his apprehension, trial or\n",
      "punishment, is an accessory after the fact.\n",
      "Except as otherwise expressly provided by any Act of Congress, an accessory after the fact shall\n",
      "be imprisoned not more than one-half the maximum term of imprisonment or (notwithstanding\n",
      "section 3571) fined not more than one-half the maximum fine prescribed for the punishment of the\n",
      "principal, or both; or if the principal is punishable by life imprisonment or death, the accessory shall\n",
      "be imprisoned not more than 15 years.\n",
      "(June 25, 1948, ch. 645, 62 Stat. 684; Pub. L. 99646, §43, Nov. 10, 1986, 100 Stat. 3601; Pub. L.\n",
      "101647, title XXXV, §3502, Nov. 29, 1990, 104 Stat. 4921; Pub. L. 103322, title XXXIII,\n",
      "§§330011(h), 330016(2)(A), Sept. 13, 1994, 108 Stat. 2145, 2148.)\n",
      "HISTORICAL AND REVISION NOTES\n",
      "Based on title 18, U.S.C., 1940 ed., §551 (Mar. 4, 1909, ch. 321, §333, 35 Stat. 1152).\n",
      "The first paragraph is new. It is based upon authority of Skelly v. United States (C. C. A. Okl. 1935, 76 F.\n",
      "2d 483, certiorari denied, 1935, 55 S. Ct. 914, 295 U.S. 757, 79 L. Ed. 1699), where the court defined an\n",
      "accessory after the fact as\n",
      "one who knowing a felony to have been committed by another, receives, relieves, comforts, or assists the\n",
      "felon in order to hinder the felon's apprehension, trial, or punishment\n",
      "and cited Jones' Blackstone, books 3 and 4, page 2204; U.S. v. Hartwell (Fed. Cas. No. 15,318); Albritton v.\n",
      "State (32 Fla. 358, 13 So. 955); State v. Davis (14 R. I. 281); Schleeter v. Commonwealth (218 Ky. 72, 290 S.\n",
      "W. 1075). (See also State v. Potter, 1942, 221 N. C. 153, 19 S. E. 2d 257; Hunter v. State, 1935, 128 Tex. Cr.\n",
      "R. 191, 79 S. W. 2d 855; State v. Wells, 1940, 195 La. 754, 197 So. 419.)\n",
      "The second paragraph is from section 551 of title 18, U.S.C., 1940 ed. Here only slight changes were made\n",
      "in phraseology. (Distance: 2.1911233244464867e-11)\n",
      "Neighbor 2: Whoever, having knowledge of the actual commission of a felony cognizable by a court of the\n",
      "United States, conceals and does not as soon as possible make known the same to some judge or\n",
      "other person in civil or military authority under the United States, shall be fined under this title or\n",
      "imprisoned not more than three years, or both.\n",
      "(June 25, 1948, ch. 645, 62 Stat. 684; Pub. L. 103322, title XXXIII, §330016(1)(G), Sept. 13, 1994,\n",
      "108 Stat. 2147.)\n",
      "HISTORICAL AND REVISION NOTES\n",
      "Based on title 18, U.S.C. 1940 ed., §251 (Mar. 4, 1909, ch. 321, §146, 35 Stat. 1114).\n",
      "Changes in phraseology only. (Distance: 55.27797317504883)\n"
     ]
    }
   ],
   "source": [
    "# Retrieve and print the content using the indices\n",
    "for query_index, neighbors in enumerate(I):\n",
    "    print(f\"\\nQuery {query_index + 1}:\")\n",
    "    for rank, neighbor_index in enumerate(neighbors):\n",
    "        print(f\"Neighbor {rank + 1}: {df['Content'][neighbor_index]} (Distance: {D[query_index][rank]})\")"
   ]
  },
  {
   "cell_type": "code",
   "execution_count": 50,
   "metadata": {},
   "outputs": [],
   "source": [
    "# Encode the entire 'Content' column into embeddings\n",
    "embeddings = model.encode(df['Content'].tolist())\n",
    "\n",
    "# Ensure embeddings are in the correct shape\n",
    "if len(embeddings.shape) == 1:\n",
    "    embeddings = embeddings.reshape(1, -1)\n",
    "\n",
    "# Convert embeddings to a numpy array\n",
    "embeddings = np.array(embeddings).astype('float32')"
   ]
  },
  {
   "cell_type": "code",
   "execution_count": 58,
   "metadata": {},
   "outputs": [
    {
     "name": "stdout",
     "output_type": "stream",
     "text": [
      "Top matches for the query:\n",
      "[2 3]\n",
      "[0.46905786 0.7813332 ]\n"
     ]
    }
   ],
   "source": [
    "# Compute cosine similarity between the query and all the content embeddings\n",
    "similarities = cosine_similarity(test_embeddings2, embeddings)\n",
    "\n",
    "# Get the indices of the top results (sorted by highest similarity)\n",
    "top_indices = similarities.argsort()[0][::-1]\n",
    "\n",
    "# Show the top results\n",
    "print(\"Top matches for the query:\")\n",
    "print(top_indices[:2])\n",
    "print(similarities[0][:2])\n",
    "# for idx in top_indices:\n",
    "#     print(f\"Content: {df['Content'][idx]}, Similarity: {similarities[0][idx]}\")"
   ]
  },
  {
   "cell_type": "code",
   "execution_count": 17,
   "metadata": {},
   "outputs": [
    {
     "name": "stdout",
     "output_type": "stream",
     "text": [
      "Number of vectors in the index: 1\n",
      "Distances: [[0.0000000e+00 3.4028235e+38]]\n",
      "Indices: [[ 0 -1]]\n"
     ]
    }
   ],
   "source": [
    "# embeddings = model.encode(df['Content'][2])\n",
    "# # If embeddings are 1D (single sentence), reshape them to 2D\n",
    "# if len(embeddings.shape) == 1:\n",
    "#     embeddings = embeddings.reshape(1, -1)\n",
    "\n",
    "# # Convert embeddings to a numpy array (if not already)\n",
    "# embeddings = np.array(embeddings).astype('float32')\n",
    "\n",
    "# # Initialize a FAISS index with L2 (Euclidean) distance\n",
    "# dimension = embeddings.shape[1]  # Get the dimensionality of the embeddings\n",
    "# index = faiss.IndexFlatL2(dimension)  # IndexFlatL2 is a flat index (no compression)\n",
    "\n",
    "# # Add the vectors to the index\n",
    "# index.add(embeddings)\n",
    "\n",
    "# # Optional: Verify the number of vectors in the index\n",
    "# print(f\"Number of vectors in the index: {index.ntotal}\")\n",
    "\n",
    "# # Searching for similar vectors (example: search for the first embedding)\n",
    "# D, I = index.search(np.array([embeddings[0]]), k=2)  # Search for 2 nearest neighbors\n",
    "\n",
    "# print(\"Distances:\", D)\n",
    "# print(\"Indices:\", I)"
   ]
  }
 ],
 "metadata": {
  "kernelspec": {
   "display_name": "Python 3",
   "language": "python",
   "name": "python3"
  },
  "language_info": {
   "codemirror_mode": {
    "name": "ipython",
    "version": 3
   },
   "file_extension": ".py",
   "mimetype": "text/x-python",
   "name": "python",
   "nbconvert_exporter": "python",
   "pygments_lexer": "ipython3",
   "version": "3.10.11"
  }
 },
 "nbformat": 4,
 "nbformat_minor": 2
}
