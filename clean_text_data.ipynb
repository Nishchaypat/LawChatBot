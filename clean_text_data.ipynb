{
 "cells": [
  {
   "cell_type": "code",
   "execution_count": 5,
   "metadata": {},
   "outputs": [
    {
     "name": "stdout",
     "output_type": "stream",
     "text": [
      "Whoever, within the special maritime and territorial jurisdiction of the United States, by force and violence, or by intimidation, takes or attempts to take from the person or presence of another anything of value, shall be imprisoned not more than fifteen years.\n",
      "\n",
      "(June 25, 1948, ch. 645, 62 Stat. 796; Pub. L. 103-322, title XXXII, §320903(a)(1), Sept. 13, 1994, 108 Stat. 2124.)\n",
      "\n",
      "**Historical and Revision Notes**\n",
      "\n",
      "Based on title 18, U.S.C., 1940 ed., §463 (Mar. 4, 1909, ch. 321, §284, 35 Stat. 1144).\n",
      "\n",
      "Words \"within the special maritime and territorial jurisdiction of the United States\" were added to restrict the place of the offense to those places described in section 451 of title 18, U.S.C., 1940 ed., now section 7 of this title.\n",
      "\n",
      "Minor changes were made in phraseology.\n",
      "\n",
      "**Editorial Notes**\n",
      "\n",
      "**Amendments**\n",
      "\n",
      "1994-Pub. L. 103-322 inserted \"or attempts to take\" after \"takes\".\n",
      "\n",
      "**Statutory Notes and Related Subsidiaries**\n",
      "\n",
      "**Short Title of 1996 Amendment**\n",
      "\n",
      "Pub. L. 104-217, §1, Oct. 1, 1996, 110 Stat. 3020, provided that: \"This Act [amending section 2119 of this title] may be cited as the 'Carjacking Correction Act of 1996'.\"\n"
     ]
    }
   ],
   "source": [
    "import google.generativeai as genai\n",
    "import os\n",
    "\n",
    "# Initialize Gemini model\n",
    "genai.configure(api_key=os.environ[\"GOOGLE_API_KEY\"])\n",
    "model = genai.GenerativeModel(\"gemini-pro\")\n",
    "\n",
    "# Function to clean legal text using Gemini\n",
    "def clean_legal_text_gemini(raw_text):\n",
    "    prompt = f\"\"\"\n",
    "    You are an AI assistant that cleans U.S. legal text while **preserving all original headings and structure**.\n",
    "    \n",
    "    **Rules for Cleaning:**\n",
    "    - **Do NOT add new headings.** Only keep the ones already present in the text.\n",
    "    - **Remove encoding artifacts** (e.g., Ã‚Â, Ã¢Â€Â“).\n",
    "    - **Maintain original section titles and bold formatting** (e.g., **Historical and Revision Notes**).\n",
    "    - **Do NOT insert extra information, commentary, or inferred text.**\n",
    "    - **Preserve all legal citations and amendments.**\n",
    "    - **Normalize spacing and punctuation for readability.**\n",
    "    \n",
    "    **Input Legal Text:**\n",
    "    ```{raw_text}```\n",
    "\n",
    "    **Now clean the text while keeping all existing headings and returning only the cleaned version. Do NOT add new headings or modify structure.**\n",
    "    \"\"\"\n",
    "\n",
    "    response = model.generate_content(prompt, generation_config={\"temperature\": 0})\n",
    "    return response.text.strip()\n",
    "\n",
    "# Example Usage\n",
    "raw_text = \"\"\"Whoever, within the special maritime and territorial jurisdiction of the United States, by force and violence, or by intimidation, takes or attempts to take from the person or presence of another anything of value, shall be imprisoned not more than fifteen years.(June 25, 1948, ch. 645, 62 Stat. 796; Pub. L. 103Ã¢Â€Â“322, title XXXII, Ã‚Â§320903(a)(1), Sept. 13, 1994, 108 Stat. 2124.)Historical and Revision NotesBased on title 18, U.S.C., 1940 ed., Ã‚Â§463 (Mar. 4, 1909, ch. 321, Ã‚Â§284, 35 Stat. 1144).Words \"within the special maritime and territorial jurisdiction of the United States\" were added to restrict the place of the offense to those places described in section 451 of title 18, U.S.C., 1940 ed., now section 7 of this title.Minor changes were made in phraseology.Editorial NotesAmendments1994-Pub. L. 103Ã¢Â€Â“322 inserted \"or attempts to take\" after \"takes\".Statutory Notes and Related SubsidiariesShort Title of 1996 AmendmentPub. L. 104Ã¢Â€Â“217, Ã‚Â§1, Oct. 1, 1996, 110 Stat. 3020, provided that: \"This Act [amending section 2119 of this title] may be cited as the 'Carjacking Correction Act of 1996'.\"\"\"\n",
    "\n",
    "cleaned_text = clean_legal_text_gemini(raw_text)\n",
    "\n",
    "print(cleaned_text)\n",
    "\n"
   ]
  },
  {
   "cell_type": "code",
   "execution_count": null,
   "metadata": {},
   "outputs": [],
   "source": []
  }
 ],
 "metadata": {
  "kernelspec": {
   "display_name": "Python 3",
   "language": "python",
   "name": "python3"
  },
  "language_info": {
   "codemirror_mode": {
    "name": "ipython",
    "version": 3
   },
   "file_extension": ".py",
   "mimetype": "text/x-python",
   "name": "python",
   "nbconvert_exporter": "python",
   "pygments_lexer": "ipython3",
   "version": "3.12.2"
  }
 },
 "nbformat": 4,
 "nbformat_minor": 2
}
