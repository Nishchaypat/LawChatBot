{
 "cells": [
  {
   "cell_type": "code",
   "execution_count": 7,
   "metadata": {},
   "outputs": [
    {
     "name": "stdout",
     "output_type": "stream",
     "text": [
      "**§ 2119. Carjacking**\n",
      "\n",
      "Whoever, within the special maritime and territorial jurisdiction of the United States, by force and violence, or by intimidation, takes or attempts to take from the person or presence of another anything of value, shall be imprisoned not more than fifteen years.\n",
      "\n",
      "**(June 25, 1948, ch. 645, 62 Stat. 796; Pub. L. 103-322, title XXXII, § 320903(a)(1), Sept. 13, 1994, 108 Stat. 2124.)**\n",
      "\n",
      "**Historical and Revision Notes**\n",
      "\n",
      "Based on title 18, U.S.C., 1940 ed., § 463 (Mar. 4, 1909, ch. 321, § 284, 35 Stat. 1144).\n",
      "\n",
      "Words \"within the special maritime and territorial jurisdiction of the United States\" were added to restrict the place of the offense to those places described in section 451 of title 18, U.S.C., 1940 ed., now section 7 of this title.\n",
      "\n",
      "Minor changes were made in phraseology.\n",
      "\n",
      "**Amendments**\n",
      "\n",
      "1994—Pub. L. 103-322 inserted \"or attempts to take\" after \"takes.\"\n",
      "\n",
      "**Statutory Notes and Related Subsidiaries**\n",
      "\n",
      "**Short Title of 1996 Amendment**\n",
      "\n",
      "Pub. L. 104-217, § 1, Oct. 1, 1996, 110 Stat. 3020, provided that: \"This Act [amending section 2119 of this title] may be cited as the 'Carjacking Correction Act of 1996'.\"\n"
     ]
    }
   ],
   "source": [
    "import google.generativeai as genai\n",
    "import os\n",
    "\n",
    "# Initialize Gemini model\n",
    "genai.configure(api_key=os.environ[\"GOOGLE_API_KEY\"])\n",
    "model = genai.GenerativeModel(\"gemini-pro\")\n",
    "\n",
    "# Function to clean legal text using Gemini\n",
    "def clean_legal_text_gemini(raw_text):\n",
    "    prompt = f\"\"\"\n",
    "    You are an AI assistant specializing in cleaning and formatting US legal text while preserving all legal information.\n",
    "    Please clean the following text:\n",
    "    \n",
    "    1. Remove encoding artifacts (e.g., Ã‚Â, Ã¢Â€Â“).\n",
    "    2. Preserve section titles, numbering, and legal references.\n",
    "    3. Remove navigation and unrelated metadata (e.g., '<< Previous', '[Print]', 'OLRC Home', 'Help').\n",
    "    4. Keep amendments and legal citations (e.g., 'Pub. L. 102-519, 106 Stat. 3384').\n",
    "    5. Normalize spacing and formatting for readability.\n",
    "\n",
    "    Here is the raw legal text:\n",
    "    ```{raw_text}```\n",
    "\n",
    "    Return only the cleaned text without additional commentary.\n",
    "    \"\"\"\n",
    "\n",
    "    response = model.generate_content(prompt)\n",
    "    return response.text.strip()\n",
    "\n",
    "# Example Usage\n",
    "raw_text = \"\"\"Whoever, within the special maritime and territorial jurisdiction of the United States, by force and violence, or by intimidation, takes or attempts to take from the person or presence of another anything of value, shall be imprisoned not more than fifteen years.(June 25, 1948, ch. 645, 62 Stat. 796; Pub. L. 103Ã¢Â€Â“322, title XXXII, Ã‚Â§320903(a)(1), Sept. 13, 1994, 108 Stat. 2124.)Historical and Revision NotesBased on title 18, U.S.C., 1940 ed., Ã‚Â§463 (Mar. 4, 1909, ch. 321, Ã‚Â§284, 35 Stat. 1144).Words \"within the special maritime and territorial jurisdiction of the United States\" were added to restrict the place of the offense to those places described in section 451 of title 18, U.S.C., 1940 ed., now section 7 of this title.Minor changes were made in phraseology.Editorial NotesAmendments1994-Pub. L. 103Ã¢Â€Â“322 inserted \"or attempts to take\" after \"takes\".Statutory Notes and Related SubsidiariesShort Title of 1996 AmendmentPub. L. 104Ã¢Â€Â“217, Ã‚Â§1, Oct. 1, 1996, 110 Stat. 3020, provided that: \"This Act [amending section 2119 of this title] may be cited as the 'Carjacking Correction Act of 1996'.\"\"\"\n",
    "cleaned_text = clean_legal_text_gemini(raw_text)\n",
    "\n",
    "print(cleaned_text)\n"
   ]
  }
 ],
 "metadata": {
  "kernelspec": {
   "display_name": "Python 3",
   "language": "python",
   "name": "python3"
  },
  "language_info": {
   "codemirror_mode": {
    "name": "ipython",
    "version": 3
   },
   "file_extension": ".py",
   "mimetype": "text/x-python",
   "name": "python",
   "nbconvert_exporter": "python",
   "pygments_lexer": "ipython3",
   "version": "3.12.2"
  }
 },
 "nbformat": 4,
 "nbformat_minor": 2
}
