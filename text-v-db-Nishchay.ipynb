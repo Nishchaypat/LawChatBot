{
 "cells": [
  {
   "cell_type": "code",
   "execution_count": 1,
   "metadata": {},
   "outputs": [],
   "source": [
    "from libraries import *"
   ]
  },
  {
   "cell_type": "code",
   "execution_count": 12,
   "metadata": {},
   "outputs": [
    {
     "data": {
      "text/html": [
       "<div>\n",
       "<style scoped>\n",
       "    .dataframe tbody tr th:only-of-type {\n",
       "        vertical-align: middle;\n",
       "    }\n",
       "\n",
       "    .dataframe tbody tr th {\n",
       "        vertical-align: top;\n",
       "    }\n",
       "\n",
       "    .dataframe thead th {\n",
       "        text-align: right;\n",
       "    }\n",
       "</style>\n",
       "<table border=\"1\" class=\"dataframe\">\n",
       "  <thead>\n",
       "    <tr style=\"text-align: right;\">\n",
       "      <th></th>\n",
       "      <th>Section</th>\n",
       "      <th>Url</th>\n",
       "      <th>Content</th>\n",
       "      <th>Metadata</th>\n",
       "    </tr>\n",
       "  </thead>\n",
       "  <tbody>\n",
       "    <tr>\n",
       "      <th>0</th>\n",
       "      <td>10. -Front Matter</td>\n",
       "      <td>https://uscode.house.gov/view.xhtml?req=granul...</td>\n",
       "      <td>18 USC Ch. 10: Front Matter            Result ...</td>\n",
       "      <td>Amendments2004-Pub. L. 108Ã¢ÂÂ458, title VI,...</td>\n",
       "    </tr>\n",
       "    <tr>\n",
       "      <th>1</th>\n",
       "      <td>175. Prohibitions with respect to biological w...</td>\n",
       "      <td>https://uscode.house.gov/view.xhtml?req=granul...</td>\n",
       "      <td>(a) In General.-Whoever knowingly develops, pr...</td>\n",
       "      <td>Amendments2002-Subsec. (c). Pub. L. 107Ã¢ÂÂ1...</td>\n",
       "    </tr>\n",
       "    <tr>\n",
       "      <th>2</th>\n",
       "      <td>175. a. Requests for military assistance to en...</td>\n",
       "      <td>https://uscode.house.gov/view.xhtml?req=granul...</td>\n",
       "      <td>18 USC 175a: Requests for military assistance ...</td>\n",
       "      <td>References in TextSection 382 of title 10, ref...</td>\n",
       "    </tr>\n",
       "    <tr>\n",
       "      <th>3</th>\n",
       "      <td>175. b. Possession by restricted persons</td>\n",
       "      <td>https://uscode.house.gov/view.xhtml?req=granul...</td>\n",
       "      <td>18 USC 175b: Possession by restricted persons ...</td>\n",
       "      <td>References in TextSection 351A of the Public H...</td>\n",
       "    </tr>\n",
       "    <tr>\n",
       "      <th>4</th>\n",
       "      <td>175. c. Variola virus</td>\n",
       "      <td>https://uscode.house.gov/view.xhtml?req=granul...</td>\n",
       "      <td>18 USC 175c: Variola virus            Result 1...</td>\n",
       "      <td>NaN</td>\n",
       "    </tr>\n",
       "    <tr>\n",
       "      <th>...</th>\n",
       "      <td>...</td>\n",
       "      <td>...</td>\n",
       "      <td>...</td>\n",
       "      <td>...</td>\n",
       "    </tr>\n",
       "    <tr>\n",
       "      <th>482</th>\n",
       "      <td>511. Altering or removing motor vehicle identi...</td>\n",
       "      <td>https://uscode.house.gov/view.xhtml?req=granul...</td>\n",
       "      <td>(a) A person who-(1) knowingly removes, oblite...</td>\n",
       "      <td>References in TextThe Motor Vehicle Theft Prev...</td>\n",
       "    </tr>\n",
       "    <tr>\n",
       "      <th>483</th>\n",
       "      <td>511A. Repealed. Pub. L. 116-260, div. O, title...</td>\n",
       "      <td>https://uscode.house.gov/view.xhtml?req=granul...</td>\n",
       "      <td>18 USC 511A: Repealed. Pub. L. 116-260, div. O...</td>\n",
       "      <td>NaN</td>\n",
       "    </tr>\n",
       "    <tr>\n",
       "      <th>484</th>\n",
       "      <td>512. Forfeiture of certain motor vehicles and ...</td>\n",
       "      <td>https://uscode.house.gov/view.xhtml?req=granul...</td>\n",
       "      <td>(a) If an identification number for a motor ve...</td>\n",
       "      <td>Amendments1994-Subsec. (a)(2)(A). Pub. L. 103â...</td>\n",
       "    </tr>\n",
       "    <tr>\n",
       "      <th>485</th>\n",
       "      <td>513. Securities of the States and private enti...</td>\n",
       "      <td>https://uscode.house.gov/view.xhtml?req=granul...</td>\n",
       "      <td>(a) Whoever makes, utters or possesses a count...</td>\n",
       "      <td>References in TextSection 916 of the Electroni...</td>\n",
       "    </tr>\n",
       "    <tr>\n",
       "      <th>486</th>\n",
       "      <td>514. Fictitious obligations</td>\n",
       "      <td>https://uscode.house.gov/view.xhtml?req=granul...</td>\n",
       "      <td>(a) Whoever, with the intent to defraud-(1) dr...</td>\n",
       "      <td>CodificationSections 101(f) [title VI, Â§648(b...</td>\n",
       "    </tr>\n",
       "  </tbody>\n",
       "</table>\n",
       "<p>487 rows × 4 columns</p>\n",
       "</div>"
      ],
      "text/plain": [
       "                                               Section  \\\n",
       "0                                    10. -Front Matter   \n",
       "1    175. Prohibitions with respect to biological w...   \n",
       "2    175. a. Requests for military assistance to en...   \n",
       "3             175. b. Possession by restricted persons   \n",
       "4                                175. c. Variola virus   \n",
       "..                                                 ...   \n",
       "482  511. Altering or removing motor vehicle identi...   \n",
       "483  511A. Repealed. Pub. L. 116-260, div. O, title...   \n",
       "484  512. Forfeiture of certain motor vehicles and ...   \n",
       "485  513. Securities of the States and private enti...   \n",
       "486                        514. Fictitious obligations   \n",
       "\n",
       "                                                   Url  \\\n",
       "0    https://uscode.house.gov/view.xhtml?req=granul...   \n",
       "1    https://uscode.house.gov/view.xhtml?req=granul...   \n",
       "2    https://uscode.house.gov/view.xhtml?req=granul...   \n",
       "3    https://uscode.house.gov/view.xhtml?req=granul...   \n",
       "4    https://uscode.house.gov/view.xhtml?req=granul...   \n",
       "..                                                 ...   \n",
       "482  https://uscode.house.gov/view.xhtml?req=granul...   \n",
       "483  https://uscode.house.gov/view.xhtml?req=granul...   \n",
       "484  https://uscode.house.gov/view.xhtml?req=granul...   \n",
       "485  https://uscode.house.gov/view.xhtml?req=granul...   \n",
       "486  https://uscode.house.gov/view.xhtml?req=granul...   \n",
       "\n",
       "                                               Content  \\\n",
       "0    18 USC Ch. 10: Front Matter            Result ...   \n",
       "1    (a) In General.-Whoever knowingly develops, pr...   \n",
       "2    18 USC 175a: Requests for military assistance ...   \n",
       "3    18 USC 175b: Possession by restricted persons ...   \n",
       "4    18 USC 175c: Variola virus            Result 1...   \n",
       "..                                                 ...   \n",
       "482  (a) A person who-(1) knowingly removes, oblite...   \n",
       "483  18 USC 511A: Repealed. Pub. L. 116-260, div. O...   \n",
       "484  (a) If an identification number for a motor ve...   \n",
       "485  (a) Whoever makes, utters or possesses a count...   \n",
       "486  (a) Whoever, with the intent to defraud-(1) dr...   \n",
       "\n",
       "                                              Metadata  \n",
       "0    Amendments2004-Pub. L. 108Ã¢ÂÂ458, title VI,...  \n",
       "1    Amendments2002-Subsec. (c). Pub. L. 107Ã¢ÂÂ1...  \n",
       "2    References in TextSection 382 of title 10, ref...  \n",
       "3    References in TextSection 351A of the Public H...  \n",
       "4                                                  NaN  \n",
       "..                                                 ...  \n",
       "482  References in TextThe Motor Vehicle Theft Prev...  \n",
       "483                                                NaN  \n",
       "484  Amendments1994-Subsec. (a)(2)(A). Pub. L. 103â...  \n",
       "485  References in TextSection 916 of the Electroni...  \n",
       "486  CodificationSections 101(f) [title VI, Â§648(b...  \n",
       "\n",
       "[487 rows x 4 columns]"
      ]
     },
     "execution_count": 12,
     "metadata": {},
     "output_type": "execute_result"
    }
   ],
   "source": [
    "df = pd.read_csv(\"1-25Data-cleaned.csv\")\n",
    "df"
   ]
  },
  {
   "cell_type": "code",
   "execution_count": 3,
   "metadata": {},
   "outputs": [],
   "source": [
    "df['Content'] = df['Content'].fillna(\"\").astype(str)"
   ]
  },
  {
   "cell_type": "code",
   "execution_count": 6,
   "metadata": {},
   "outputs": [
    {
     "data": {
      "text/plain": [
       "96371"
      ]
     },
     "execution_count": 6,
     "metadata": {},
     "output_type": "execute_result"
    }
   ],
   "source": [
    "max = 0\n",
    "for i in range(len(df['Content'])):\n",
    "    try:\n",
    "        if len(df['Content'][i]) > max:\n",
    "            max = len(df['Content'][i])\n",
    "    except:\n",
    "        print(i)        \n",
    "max"
   ]
  },
  {
   "cell_type": "code",
   "execution_count": 7,
   "metadata": {},
   "outputs": [
    {
     "name": "stdout",
     "output_type": "stream",
     "text": [
      "487\n"
     ]
    }
   ],
   "source": [
    "print(len(df))"
   ]
  },
  {
   "cell_type": "code",
   "execution_count": 8,
   "metadata": {},
   "outputs": [
    {
     "name": "stdout",
     "output_type": "stream",
     "text": [
      "Number of vectors in the index: 487\n"
     ]
    }
   ],
   "source": [
    "tokenizer = AutoTokenizer.from_pretrained(\"nlpaueb/legal-bert-base-uncased\") # nlpaueb/legal-bert-base-uncased   |  \n",
    "model = AutoModel.from_pretrained(\"nlpaueb/legal-bert-base-uncased\")\n",
    "\n",
    "# Move model to GPU if available\n",
    "device = torch.device('cuda' if torch.cuda.is_available() else 'cpu')\n",
    "model.to(device)\n",
    "\n",
    "# Step 3: Function to get embeddings\n",
    "def get_embedding(text, tokenizer, model):\n",
    "    # Tokenize and encode the input text\n",
    "    inputs = tokenizer(text, return_tensors=\"pt\", truncation=True, padding=True, max_length=512).to(device)\n",
    "    \n",
    "    # Compute embeddings\n",
    "    with torch.no_grad():\n",
    "        outputs = model(**inputs)\n",
    "    \n",
    "    # Get the mean of the token embeddings (for sentence embedding)\n",
    "    return outputs.last_hidden_state.mean(dim=1).squeeze()\n",
    "\n",
    "# Step 4: Encode the entire 'Content' column\n",
    "embeddings = np.array([get_embedding(text, tokenizer, model).cpu().numpy() for text in df['Content']]).astype('float32')\n",
    "\n",
    "# Step 5: Initialize a FAISS index with L2 (Euclidean) distance\n",
    "dimension = embeddings.shape[1]  # Get the dimensionality of the embeddings\n",
    "index = faiss.IndexFlatL2(dimension)  # IndexFlatL2 is a flat index (no compression)\n",
    "\n",
    "# Step 6: Add the vectors to the index\n",
    "index.add(embeddings)\n",
    "\n",
    "# Optional: Verify the number of vectors in the index\n",
    "print(f\"Number of vectors in the index: {index.ntotal}\")\n"
   ]
  },
  {
   "cell_type": "code",
   "execution_count": 9,
   "metadata": {},
   "outputs": [],
   "source": [
    "np.savetxt(\"embeddings-complete-legal-bert-base-uncased.csv\", embeddings, delimiter=',')"
   ]
  },
  {
   "cell_type": "code",
   "execution_count": 12,
   "metadata": {},
   "outputs": [
    {
     "ename": "",
     "evalue": "",
     "output_type": "error",
     "traceback": [
      "\u001b[1;31mThe Kernel crashed while executing code in the current cell or a previous cell. \n",
      "\u001b[1;31mPlease review the code in the cell(s) to identify a possible cause of the failure. \n",
      "\u001b[1;31mClick <a href='https://aka.ms/vscodeJupyterKernelCrash'>here</a> for more info. \n",
      "\u001b[1;31mView Jupyter <a href='command:jupyter.viewOutput'>log</a> for further details."
     ]
    }
   ],
   "source": [
    "# test = ''' \n",
    "#  for which the maximum fine is no greater than the amount set forth\n",
    "# for such an offense in section 3571(b)(6) or (7) in the case of an individual or section 3571(c)(6) or\n",
    "# (7) in the case of an organization.\n",
    "# '''\n",
    "\n",
    "# # Step 8: Encode the test query\n",
    "# test_embedding = get_embedding(test, tokenizer, model).reshape(1, -1).cpu().numpy().astype('float32')\n",
    "\n",
    "# # Step 9: Example: Search for the nearest neighbors\n",
    "# D, I = index.search(test_embedding, k=2)  # Search for 2 nearest neighbors\n",
    "\n",
    "# # Step 10: Print the distances and indices of the nearest neighbors\n",
    "# print(\"Distances:\", D)\n",
    "# print(\"Indices:\", I)\n",
    "\n",
    "# # Optionally print the neighbor texts\n",
    "# for idx in I[0]:\n",
    "#     print(\"Neighbor text:\", df['Content'].iloc[idx])"
   ]
  },
  {
   "cell_type": "markdown",
   "metadata": {},
   "source": [
    "Cosine Similarity for FIASS"
   ]
  },
  {
   "cell_type": "code",
   "execution_count": null,
   "metadata": {},
   "outputs": [],
   "source": [
    "# import faiss\n",
    "# import numpy as np\n",
    "\n",
    "# # Assuming 'embeddings' contains the embeddings loaded from your CSV file\n",
    "# # Step 1: Normalize the embeddings for cosine similarity\n",
    "# def normalize(embeddings):\n",
    "#     norms = np.linalg.norm(embeddings, axis=1, keepdims=True)\n",
    "#     return embeddings / norms\n",
    "\n",
    "# # Step 2: Normalize the existing embeddings\n",
    "# normalized_embeddings = normalize(embeddings)\n",
    "\n",
    "# # Step 3: Initialize a FAISS index with Inner Product (for cosine similarity)\n",
    "# dimension = normalized_embeddings.shape[1]\n",
    "# index = faiss.IndexFlatIP(dimension)  # IndexFlatIP is for inner product (dot product)\n",
    "\n",
    "# # Step 4: Add the normalized vectors to the index\n",
    "# index.add(normalized_embeddings)\n",
    "\n",
    "# # Optional: Verify the number of vectors in the index\n",
    "# print(f\"Number of vectors in the index: {index.ntotal}\")\n",
    "\n",
    "# # Step 5: Normalize the test query embedding\n",
    "# test = ''' \n",
    "# for which the maximum fine is no greater than the amount set forth\n",
    "# for such an offense in section 3571(b)(6) or (7) in the case of an individual or section 3571(c)(6) or\n",
    "# (7) in the case of an organization.\n",
    "# '''\n",
    "# # Get the test embedding using the existing model and tokenizer\n",
    "# test_embedding = get_embedding(test, tokenizer, model).cpu().numpy().astype('float32')\n",
    "# test_embedding = normalize(test_embedding.reshape(1, -1))\n",
    "\n",
    "# # Step 6: Search for the nearest neighbors\n",
    "# D, I = index.search(test_embedding, k=2)  # Search for 2 nearest neighbors\n",
    "\n",
    "# # Step 7: Print the distances and indices of the nearest neighbors\n",
    "# print(\"Distances:\", D)\n",
    "# print(\"Indices:\", I)\n",
    "\n",
    "# # Optionally print the neighbor texts\n",
    "# for idx in I[0]:\n",
    "#     print(\"Neighbor text:\", df['Content'].iloc[idx])\n"
   ]
  }
 ],
 "metadata": {
  "kernelspec": {
   "display_name": "Python 3",
   "language": "python",
   "name": "python3"
  },
  "language_info": {
   "codemirror_mode": {
    "name": "ipython",
    "version": 3
   },
   "file_extension": ".py",
   "mimetype": "text/x-python",
   "name": "python",
   "nbconvert_exporter": "python",
   "pygments_lexer": "ipython3",
   "version": "3.12.0"
  }
 },
 "nbformat": 4,
 "nbformat_minor": 2
}
