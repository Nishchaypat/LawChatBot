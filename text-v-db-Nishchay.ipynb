{
 "cells": [
  {
   "cell_type": "code",
   "execution_count": 44,
   "metadata": {},
   "outputs": [],
   "source": [
    "from libraries import *"
   ]
  },
  {
   "cell_type": "code",
   "execution_count": 45,
   "metadata": {},
   "outputs": [
    {
     "data": {
      "text/html": [
       "<div>\n",
       "<style scoped>\n",
       "    .dataframe tbody tr th:only-of-type {\n",
       "        vertical-align: middle;\n",
       "    }\n",
       "\n",
       "    .dataframe tbody tr th {\n",
       "        vertical-align: top;\n",
       "    }\n",
       "\n",
       "    .dataframe thead th {\n",
       "        text-align: right;\n",
       "    }\n",
       "</style>\n",
       "<table border=\"1\" class=\"dataframe\">\n",
       "  <thead>\n",
       "    <tr style=\"text-align: right;\">\n",
       "      <th></th>\n",
       "      <th>Section</th>\n",
       "      <th>Url</th>\n",
       "      <th>Content</th>\n",
       "      <th>Metadata</th>\n",
       "    </tr>\n",
       "  </thead>\n",
       "  <tbody>\n",
       "    <tr>\n",
       "      <th>0</th>\n",
       "      <td>10. -Front Matter</td>\n",
       "      <td>https://uscode.house.gov/view.xhtml?req=granul...</td>\n",
       "      <td>18 USC Ch. 10: Front Matter            Result ...</td>\n",
       "      <td>Amendments2004-Pub. L. 108Ã¢ÂÂ458, title VI,...</td>\n",
       "    </tr>\n",
       "    <tr>\n",
       "      <th>1</th>\n",
       "      <td>175. Prohibitions with respect to biological w...</td>\n",
       "      <td>https://uscode.house.gov/view.xhtml?req=granul...</td>\n",
       "      <td>(a) In General.-Whoever knowingly develops, pr...</td>\n",
       "      <td>Amendments2002-Subsec. (c). Pub. L. 107Ã¢ÂÂ1...</td>\n",
       "    </tr>\n",
       "    <tr>\n",
       "      <th>2</th>\n",
       "      <td>175. a. Requests for military assistance to en...</td>\n",
       "      <td>https://uscode.house.gov/view.xhtml?req=granul...</td>\n",
       "      <td>18 USC 175a: Requests for military assistance ...</td>\n",
       "      <td>References in TextSection 382 of title 10, ref...</td>\n",
       "    </tr>\n",
       "    <tr>\n",
       "      <th>3</th>\n",
       "      <td>175. b. Possession by restricted persons</td>\n",
       "      <td>https://uscode.house.gov/view.xhtml?req=granul...</td>\n",
       "      <td>18 USC 175b: Possession by restricted persons ...</td>\n",
       "      <td>References in TextSection 351A of the Public H...</td>\n",
       "    </tr>\n",
       "    <tr>\n",
       "      <th>4</th>\n",
       "      <td>175. c. Variola virus</td>\n",
       "      <td>https://uscode.house.gov/view.xhtml?req=granul...</td>\n",
       "      <td>18 USC 175c: Variola virus            Result 1...</td>\n",
       "      <td>NaN</td>\n",
       "    </tr>\n",
       "    <tr>\n",
       "      <th>...</th>\n",
       "      <td>...</td>\n",
       "      <td>...</td>\n",
       "      <td>...</td>\n",
       "      <td>...</td>\n",
       "    </tr>\n",
       "    <tr>\n",
       "      <th>141</th>\n",
       "      <td>289. False claims for pensions</td>\n",
       "      <td>https://uscode.house.gov/view.xhtml?req=granul...</td>\n",
       "      <td>Whoever knowingly and willfully makes, or pres...</td>\n",
       "      <td>Amendments1994-Pub. L. 103Ã¢ÂÂ322 substitute...</td>\n",
       "    </tr>\n",
       "    <tr>\n",
       "      <th>142</th>\n",
       "      <td>290. Discharge papers withheld by claim agent</td>\n",
       "      <td>https://uscode.house.gov/view.xhtml?req=granul...</td>\n",
       "      <td>Whoever, being a claim agent, attorney, or oth...</td>\n",
       "      <td>Amendments1994-Pub. L. 103Ã¢ÂÂ322 substitute...</td>\n",
       "    </tr>\n",
       "    <tr>\n",
       "      <th>143</th>\n",
       "      <td>291. Purchase of claims for fees by court offi...</td>\n",
       "      <td>https://uscode.house.gov/view.xhtml?req=granul...</td>\n",
       "      <td>Whoever, being a judge, clerk, or deputy clerk...</td>\n",
       "      <td>Amendments1994-Pub. L. 103Ã¢ÂÂ322 substitute...</td>\n",
       "    </tr>\n",
       "    <tr>\n",
       "      <th>144</th>\n",
       "      <td>292. Solicitation of employment and receipt of...</td>\n",
       "      <td>https://uscode.house.gov/view.xhtml?req=granul...</td>\n",
       "      <td>Whoever solicits employment for himself or ano...</td>\n",
       "      <td>Amendments1994-Pub. L. 103Ã¢ÂÂ322 substitute...</td>\n",
       "    </tr>\n",
       "    <tr>\n",
       "      <th>145</th>\n",
       "      <td>293. Repealed. Pub. L. 101-123, ÃÂ§3(a), Oct....</td>\n",
       "      <td>https://uscode.house.gov/view.xhtml?req=granul...</td>\n",
       "      <td>18 USC 293: Repealed. Pub. L. 101-123, ÃÂ§3(a...</td>\n",
       "      <td>NaN</td>\n",
       "    </tr>\n",
       "  </tbody>\n",
       "</table>\n",
       "<p>146 rows × 4 columns</p>\n",
       "</div>"
      ],
      "text/plain": [
       "                                               Section  \\\n",
       "0                                    10. -Front Matter   \n",
       "1    175. Prohibitions with respect to biological w...   \n",
       "2    175. a. Requests for military assistance to en...   \n",
       "3             175. b. Possession by restricted persons   \n",
       "4                                175. c. Variola virus   \n",
       "..                                                 ...   \n",
       "141                     289. False claims for pensions   \n",
       "142      290. Discharge papers withheld by claim agent   \n",
       "143  291. Purchase of claims for fees by court offi...   \n",
       "144  292. Solicitation of employment and receipt of...   \n",
       "145  293. Repealed. Pub. L. 101-123, ÃÂ§3(a), Oct....   \n",
       "\n",
       "                                                   Url  \\\n",
       "0    https://uscode.house.gov/view.xhtml?req=granul...   \n",
       "1    https://uscode.house.gov/view.xhtml?req=granul...   \n",
       "2    https://uscode.house.gov/view.xhtml?req=granul...   \n",
       "3    https://uscode.house.gov/view.xhtml?req=granul...   \n",
       "4    https://uscode.house.gov/view.xhtml?req=granul...   \n",
       "..                                                 ...   \n",
       "141  https://uscode.house.gov/view.xhtml?req=granul...   \n",
       "142  https://uscode.house.gov/view.xhtml?req=granul...   \n",
       "143  https://uscode.house.gov/view.xhtml?req=granul...   \n",
       "144  https://uscode.house.gov/view.xhtml?req=granul...   \n",
       "145  https://uscode.house.gov/view.xhtml?req=granul...   \n",
       "\n",
       "                                               Content  \\\n",
       "0    18 USC Ch. 10: Front Matter            Result ...   \n",
       "1    (a) In General.-Whoever knowingly develops, pr...   \n",
       "2    18 USC 175a: Requests for military assistance ...   \n",
       "3    18 USC 175b: Possession by restricted persons ...   \n",
       "4    18 USC 175c: Variola virus            Result 1...   \n",
       "..                                                 ...   \n",
       "141  Whoever knowingly and willfully makes, or pres...   \n",
       "142  Whoever, being a claim agent, attorney, or oth...   \n",
       "143  Whoever, being a judge, clerk, or deputy clerk...   \n",
       "144  Whoever solicits employment for himself or ano...   \n",
       "145  18 USC 293: Repealed. Pub. L. 101-123, ÃÂ§3(a...   \n",
       "\n",
       "                                              Metadata  \n",
       "0    Amendments2004-Pub. L. 108Ã¢ÂÂ458, title VI,...  \n",
       "1    Amendments2002-Subsec. (c). Pub. L. 107Ã¢ÂÂ1...  \n",
       "2    References in TextSection 382 of title 10, ref...  \n",
       "3    References in TextSection 351A of the Public H...  \n",
       "4                                                  NaN  \n",
       "..                                                 ...  \n",
       "141  Amendments1994-Pub. L. 103Ã¢ÂÂ322 substitute...  \n",
       "142  Amendments1994-Pub. L. 103Ã¢ÂÂ322 substitute...  \n",
       "143  Amendments1994-Pub. L. 103Ã¢ÂÂ322 substitute...  \n",
       "144  Amendments1994-Pub. L. 103Ã¢ÂÂ322 substitute...  \n",
       "145                                                NaN  \n",
       "\n",
       "[146 rows x 4 columns]"
      ]
     },
     "execution_count": 45,
     "metadata": {},
     "output_type": "execute_result"
    }
   ],
   "source": [
    "df = pd.read_csv(\"1-15Data-cleaned.csv\")\n",
    "df"
   ]
  },
  {
   "cell_type": "code",
   "execution_count": 3,
   "metadata": {},
   "outputs": [],
   "source": [
    "df['Content'] = df['Content'].fillna(\"\").astype(str)"
   ]
  },
  {
   "cell_type": "code",
   "execution_count": 81,
   "metadata": {},
   "outputs": [
    {
     "name": "stdout",
     "output_type": "stream",
     "text": [
      "47\n"
     ]
    }
   ],
   "source": [
    "for i in range(len(df['Content'])):\n",
    "    if type(df['Content'][i]) == float:\n",
    "        print(i)"
   ]
  },
  {
   "cell_type": "code",
   "execution_count": 82,
   "metadata": {},
   "outputs": [
    {
     "name": "stdout",
     "output_type": "stream",
     "text": [
      "47\n"
     ]
    },
    {
     "data": {
      "text/plain": [
       "80533"
      ]
     },
     "execution_count": 82,
     "metadata": {},
     "output_type": "execute_result"
    }
   ],
   "source": [
    "max = 0\n",
    "for i in range(len(df['Content'])):\n",
    "    try:\n",
    "        if len(df['Content'][i]) > max:\n",
    "            max = len(df['Content'][i])\n",
    "    except:\n",
    "        print(i)\n",
    "\n",
    "        \n",
    "max"
   ]
  },
  {
   "cell_type": "code",
   "execution_count": 46,
   "metadata": {},
   "outputs": [
    {
     "name": "stdout",
     "output_type": "stream",
     "text": [
      "146\n"
     ]
    }
   ],
   "source": [
    "print(len(df)) "
   ]
  },
  {
   "cell_type": "code",
   "execution_count": 5,
   "metadata": {},
   "outputs": [],
   "source": [
    "tokenizer = AutoTokenizer.from_pretrained(\"nlpaueb/legal-bert-base-uncased\") # nlpaueb/legal-bert-base-uncased   |  \n",
    "model = AutoModel.from_pretrained(\"nlpaueb/legal-bert-base-uncased\")\n",
    "\n",
    "# Move model to GPU if available\n",
    "device = torch.device('cuda' if torch.cuda.is_available() else 'cpu')\n",
    "model.to(device)\n",
    "\n",
    "# Step 3: Function to get embeddings\n",
    "def get_embedding(text, tokenizer, model):\n",
    "    # Tokenize and encode the input text\n",
    "    inputs = tokenizer(text, return_tensors=\"pt\", truncation=True, padding=True, max_length=512).to(device)\n",
    "    \n",
    "    # Compute embeddings\n",
    "    with torch.no_grad():\n",
    "        outputs = model(**inputs)\n",
    "    \n",
    "    # Get the mean of the token embeddings (for sentence embedding)\n",
    "    return outputs.last_hidden_state.mean(dim=1).squeeze()\n",
    "\n",
    "# # Step 4: Encode the entire 'Content' column\n",
    "# embeddings = np.array([get_embedding(text, tokenizer, model).cpu().numpy() for text in df['Content']]).astype('float32')\n",
    "\n",
    "# # Step 5: Initialize a FAISS index with L2 (Euclidean) distance\n",
    "# dimension = embeddings.shape[1]  # Get the dimensionality of the embeddings\n",
    "# index = faiss.IndexFlatL2(dimension)  # IndexFlatL2 is a flat index (no compression)\n",
    "\n",
    "# # Step 6: Add the vectors to the index\n",
    "# index.add(embeddings)\n",
    "\n",
    "# # Optional: Verify the number of vectors in the index\n",
    "# print(f\"Number of vectors in the index: {index.ntotal}\")\n",
    "\n",
    "# # Step 7: Prepare a test query"
   ]
  },
  {
   "cell_type": "code",
   "execution_count": 11,
   "metadata": {},
   "outputs": [],
   "source": [
    "#np.savetxt(\"embeddings-legal-bert-base-uncased.csv\", embeddings, delimiter=',')"
   ]
  },
  {
   "cell_type": "code",
   "execution_count": 47,
   "metadata": {},
   "outputs": [],
   "source": [
    "embeddings = np.loadtxt(\"embeddings-legal-bert-base-uncased.csv\", delimiter=',')"
   ]
  },
  {
   "cell_type": "code",
   "execution_count": 48,
   "metadata": {},
   "outputs": [
    {
     "data": {
      "text/plain": [
       "(146, 768)"
      ]
     },
     "execution_count": 48,
     "metadata": {},
     "output_type": "execute_result"
    }
   ],
   "source": [
    "embeddings\n",
    "embeddings.shape"
   ]
  },
  {
   "cell_type": "code",
   "execution_count": 64,
   "metadata": {},
   "outputs": [
    {
     "name": "stdout",
     "output_type": "stream",
     "text": [
      "Collection 'LawEmbedding' deleted.\n"
     ]
    }
   ],
   "source": [
    "# if client.get_collection(collection_name):\n",
    "#     client.delete_collection(collection_name)  # This will delete the collection if it exists\n",
    "#     print(f\"Collection '{collection_name}' deleted.\")"
   ]
  },
  {
   "cell_type": "code",
   "execution_count": 12,
   "metadata": {},
   "outputs": [
    {
     "ename": "",
     "evalue": "",
     "output_type": "error",
     "traceback": [
      "\u001b[1;31mThe Kernel crashed while executing code in the current cell or a previous cell. \n",
      "\u001b[1;31mPlease review the code in the cell(s) to identify a possible cause of the failure. \n",
      "\u001b[1;31mClick <a href='https://aka.ms/vscodeJupyterKernelCrash'>here</a> for more info. \n",
      "\u001b[1;31mView Jupyter <a href='command:jupyter.viewOutput'>log</a> for further details."
     ]
    }
   ],
   "source": [
    "# test = ''' \n",
    "#  for which the maximum fine is no greater than the amount set forth\n",
    "# for such an offense in section 3571(b)(6) or (7) in the case of an individual or section 3571(c)(6) or\n",
    "# (7) in the case of an organization.\n",
    "# '''\n",
    "\n",
    "# # Step 8: Encode the test query\n",
    "# test_embedding = get_embedding(test, tokenizer, model).reshape(1, -1).cpu().numpy().astype('float32')\n",
    "\n",
    "# # Step 9: Example: Search for the nearest neighbors\n",
    "# D, I = index.search(test_embedding, k=2)  # Search for 2 nearest neighbors\n",
    "\n",
    "# # Step 10: Print the distances and indices of the nearest neighbors\n",
    "# print(\"Distances:\", D)\n",
    "# print(\"Indices:\", I)\n",
    "\n",
    "# # Optionally print the neighbor texts\n",
    "# for idx in I[0]:\n",
    "#     print(\"Neighbor text:\", df['Content'].iloc[idx])"
   ]
  },
  {
   "cell_type": "markdown",
   "metadata": {},
   "source": [
    "Cosine Similarity for FIASS"
   ]
  },
  {
   "cell_type": "code",
   "execution_count": null,
   "metadata": {},
   "outputs": [],
   "source": [
    "# import faiss\n",
    "# import numpy as np\n",
    "\n",
    "# # Assuming 'embeddings' contains the embeddings loaded from your CSV file\n",
    "# # Step 1: Normalize the embeddings for cosine similarity\n",
    "# def normalize(embeddings):\n",
    "#     norms = np.linalg.norm(embeddings, axis=1, keepdims=True)\n",
    "#     return embeddings / norms\n",
    "\n",
    "# # Step 2: Normalize the existing embeddings\n",
    "# normalized_embeddings = normalize(embeddings)\n",
    "\n",
    "# # Step 3: Initialize a FAISS index with Inner Product (for cosine similarity)\n",
    "# dimension = normalized_embeddings.shape[1]\n",
    "# index = faiss.IndexFlatIP(dimension)  # IndexFlatIP is for inner product (dot product)\n",
    "\n",
    "# # Step 4: Add the normalized vectors to the index\n",
    "# index.add(normalized_embeddings)\n",
    "\n",
    "# # Optional: Verify the number of vectors in the index\n",
    "# print(f\"Number of vectors in the index: {index.ntotal}\")\n",
    "\n",
    "# # Step 5: Normalize the test query embedding\n",
    "# test = ''' \n",
    "# for which the maximum fine is no greater than the amount set forth\n",
    "# for such an offense in section 3571(b)(6) or (7) in the case of an individual or section 3571(c)(6) or\n",
    "# (7) in the case of an organization.\n",
    "# '''\n",
    "# # Get the test embedding using the existing model and tokenizer\n",
    "# test_embedding = get_embedding(test, tokenizer, model).cpu().numpy().astype('float32')\n",
    "# test_embedding = normalize(test_embedding.reshape(1, -1))\n",
    "\n",
    "# # Step 6: Search for the nearest neighbors\n",
    "# D, I = index.search(test_embedding, k=2)  # Search for 2 nearest neighbors\n",
    "\n",
    "# # Step 7: Print the distances and indices of the nearest neighbors\n",
    "# print(\"Distances:\", D)\n",
    "# print(\"Indices:\", I)\n",
    "\n",
    "# # Optionally print the neighbor texts\n",
    "# for idx in I[0]:\n",
    "#     print(\"Neighbor text:\", df['Content'].iloc[idx])\n"
   ]
  },
  {
   "cell_type": "code",
   "execution_count": 67,
   "metadata": {},
   "outputs": [],
   "source": [
    "client = QdrantClient(\n",
    "    url=\"https://cecd63ca-9699-4bc0-a60f-3c7e8c768fd3.europe-west3-0.gcp.cloud.qdrant.io:6333\",  # Replace with your cloud cluster URL\n",
    "    api_key=\"jwv0ETSb8751Q1yrQ3RVSsChFudsv1M63mEvxXXRnLf_ROoeAfe_Wg\"  # Replace with your API key\n",
    ")\n",
    "\n",
    "collection_name = \"LawEmbedding\""
   ]
  },
  {
   "cell_type": "code",
   "execution_count": 68,
   "metadata": {},
   "outputs": [
    {
     "name": "stderr",
     "output_type": "stream",
     "text": [
      "C:\\Users\\npatel237\\AppData\\Local\\Temp\\ipykernel_22308\\2309866623.py:3: DeprecationWarning: `recreate_collection` method is deprecated and will be removed in the future. Use `collection_exists` to check collection existence and `create_collection` instead.\n",
      "  client.recreate_collection(\n"
     ]
    },
    {
     "name": "stdout",
     "output_type": "stream",
     "text": [
      "Number of vectors in the collection: 146\n"
     ]
    }
   ],
   "source": [
    "dimension = embeddings.shape[1]  # Get the dimensionality of the embeddings\n",
    "\n",
    "client.recreate_collection(\n",
    "    collection_name=collection_name,\n",
    "    vectors_config=VectorParams(size=dimension, distance=Distance.COSINE)  # Use COSINE distance for similarity\n",
    ")\n",
    "\n",
    "# Step 5: Insert embeddings row by row into Qdrant\n",
    "points = [\n",
    "    {\n",
    "        \"id\": idx,  # The row index will be used as the unique ID\n",
    "        \"vector\": embeddings.tolist(),  # Convert numpy array to list for Qdrant\n",
    "        \"payload\": {\n",
    "            \"section\": df['Section'].iloc[idx],\n",
    "            \"url\": df['Url'].iloc[idx],\n",
    "        }\n",
    "    }\n",
    "    for idx, embeddings in enumerate(embeddings)\n",
    "]\n",
    "\n",
    "client.upsert(\n",
    "    collection_name=collection_name,\n",
    "    points=points\n",
    ")\n",
    "\n",
    "# Optional: Verify the number of vectors in the collection\n",
    "info = client.get_collection(collection_name)\n",
    "print(f\"Number of vectors in the collection: {info.points_count}\")"
   ]
  },
  {
   "cell_type": "code",
   "execution_count": 71,
   "metadata": {},
   "outputs": [
    {
     "name": "stdout",
     "output_type": "stream",
     "text": [
      "Distance: 0.90716904\n",
      "Matched Title: 9\n",
      "Matched Url: https://uscode.house.gov/view.xhtml?req=granuleid:USC-prelim-title18-section228&num=0&edition=prelim\n",
      "Matched Section: 228. Failure to pay legal child support obligations\n",
      "Distance: 0.89961714\n",
      "Matched Title: 12\n",
      "Matched Url: https://uscode.house.gov/view.xhtml?req=granuleid:USC-prelim-title18-section229A&num=0&edition=prelim\n",
      "Matched Section: 229A. Penalties\n"
     ]
    }
   ],
   "source": [
    "tokenizer = AutoTokenizer.from_pretrained(\"nlpaueb/legal-bert-base-uncased\")\n",
    "model = AutoModel.from_pretrained(\"nlpaueb/legal-bert-base-uncased\")\n",
    "\n",
    "device = torch.device('cuda' if torch.cuda.is_available() else 'cpu')\n",
    "model.to(device)\n",
    "\n",
    "def get_embedding(text, tokenizer, model):\n",
    "    inputs = tokenizer(text, return_tensors=\"pt\", truncation=True, padding=True, max_length=512).to(device)\n",
    "    with torch.no_grad():\n",
    "        outputs = model(**inputs)\n",
    "    return outputs.last_hidden_state.mean(dim=1).squeeze()\n",
    "\n",
    "test = ''' \n",
    "Mandatory Restitution.-Upon a conviction under this section, the court shall order restitution under\n",
    "section 3663A in an amount equal to the total unpaid support obligation as it exists at the time of sentencing.\n",
    "'''\n",
    "\n",
    "test_embedding = get_embedding(test, tokenizer, model).cpu().numpy().astype('float32')\n",
    "test_embedding_flat = test_embedding.flatten().tolist()  # Flatten to 1D list\n",
    "\n",
    "search_result = client.search(\n",
    "    collection_name=collection_name,\n",
    "    query_vector=test_embedding_flat,  # Use 'query_vector' parameter directly\n",
    "    limit=2  # Number of nearest neighbors you want to retrieve\n",
    ")\n",
    "\n",
    "# Step 5: Print the distances and indices of the nearest neighbors\n",
    "for result in search_result:\n",
    "    print(f\"Distance: {result.score}\")  # Score represents similarity (lower is better)\n",
    "    print(f\"Matched Title: {result.id}\")\n",
    "    print(f\"Matched Url: {result.payload['url']}\")\n",
    "    print(f\"Matched Section: {result.payload['section']}\")"
   ]
  },
  {
   "cell_type": "code",
   "execution_count": 63,
   "metadata": {},
   "outputs": [
    {
     "name": "stdout",
     "output_type": "stream",
     "text": [
      "(a) Criminal Penalties.-(1) In general.-Any person who violates section 229 of this title shall be fined under this title, or imprisoned for any term of years, or both.(2) Death penalty.-Any person who violates section 229 of this title and by whose action the death of another person is the result shall be punished by death or imprisoned for life.(b) Civil Penalties.-(1) In general.-The Attorney General may bring a civil action in the appropriate United States district court against any person who violates section 229 of this title and, upon proof of such violation by a preponderance of the evidence, such person shall be subject to pay a civil penalty in an amount not to exceed $100,000 for each such violation.(2) Relation to other proceedings.-The imposition of a civil penalty under this subsection does not preclude any other criminal or civil statutory, common law, or administrative remedy, which is available by law to the United States or any other person.(c) Reimbursement of Costs.-The court shall order any person convicted of an offense under subsection (a) to reimburse the United States for any expenses incurred by the United States incident to the seizure, storage, handling, transportation, and destruction or other disposition of any property that was seized in connection with an investigation of the commission of the offense by that person. A person ordered to reimburse the United States for expenses under this subsection shall be jointly and severally liable for such expenses with each other person, if any, who is ordered under this subsection to reimburse the United States for the same expenses.(Added Pub. L. 105Ã¢ÂÂ277, div. I, title II, ÃÂ§201(a), Oct. 21, 1998, 112 Stat. 2681Ã¢ÂÂ867.)\n",
      "(a) Offense.-Any person who-(1) willfully fails to pay a support obligation with respect to a child who resides in another State, if such obligation has remained unpaid for a period longer than 1 year, or is greater than $5,000;(2) travels in interstate or foreign commerce with the intent to evade a support obligation, if such obligation has remained unpaid for a period longer than 1 year, or is greater than $5,000; or(3) willfully fails to pay a support obligation with respect to a child who resides in another State, if such obligation has remained unpaid for a period longer than 2 years, or is greater than $10,000;shall be punished as provided in subsection (c).(b) Presumption.-The existence of a support obligation that was in effect for the time period charged in the indictment or information creates a rebuttable presumption that the obligor has the ability to pay the support obligation for that time period.(c) Punishment.-The punishment for an offense under this section is-(1) in the case of a first offense under subsection (a)(1), a fine under this title, imprisonment for not more than 6 months, or both; and(2) in the case of an offense under paragraph (2) or (3) of subsection (a), or a second or subsequent offense under subsection (a)(1), a fine under this title, imprisonment for not more than 2 years, or both.(d) Mandatory Restitution.-Upon a conviction under this section, the court shall order restitution under section 3663A in an amount equal to the total unpaid support obligation as it exists at the time of sentencing.(e) Venue.-With respect to an offense under this section, an action may be inquired of and prosecuted in a district court of the United States for-(1) the district in which the child who is the subject of the support obligation involved resided during a period during which a person described in subsection (a) (referred to in this subsection as an \"obliger\") failed to meet that support obligation;(2) the district in which the obliger resided during a period described in paragraph (1); or(3) any other district with jurisdiction otherwise provided for by law.(f) Definitions.-As used in this section-(1) the term \"Indian tribe\" has the meaning given that term in section 102 of the Federally Recognized Indian Tribe List Act of 1994 (25 U.S.C. 479a);ÃÂ 1(2) the term \"State\" includes any State of the United States, the District of Columbia, and any commonwealth, territory, or possession of the United States; and(3) the term \"support obligation\" means any amount determined under a court order or an order of an administrative process pursuant to the law of a State or of an Indian tribe to be due from a person for the support and maintenance of a child or of a child and the parent with whom the child is living.(Added Pub. L. 102Ã¢ÂÂ521, ÃÂ§2(a), Oct. 25, 1992, 106 Stat. 3403; amended Pub. L. 104Ã¢ÂÂ294, title VI, ÃÂ§607(l), Oct. 11, 1996, 110 Stat. 3512; Pub. L. 105Ã¢ÂÂ187, ÃÂ§2, June 24, 1998, 112 Stat. 618.)Editorial NotesReferences in TextSection 102 of the Federally Recognized Indian Tribe List Act of 1994 (25 U.S.C. 479a), referred to in subsec. (f)(1), was classified to section 479a of Title 25, Indians, prior to editorial reclassification as section 5130 of Title 25.Amendments1998-Pub. L. 105Ã¢ÂÂ187 reenacted section catchline without change and amended text generally. Prior to amendment, section consisted of subsecs. (a) to (d) relating to a description of the offense, punishment for an offense, restitution upon conviction of an offense, and definitions of terms used in this section.1996-Subsec. (d)(2). Pub. L. 104Ã¢ÂÂ294 inserted \"commonwealth,\" before \"possession or territory of the United States\".Statutory Notes and Related SubsidiariesShort Title of 1998 AmendmentPub. L. 105Ã¢ÂÂ187, ÃÂ§1, June 24, 1998, 112 Stat. 618, provided that: \"This Act [amending this section] may be cited as the 'Deadbeat Parents Punishment Act of 1998'.\"Short TitlePub. L. 102Ã¢ÂÂ521, ÃÂ§1, Oct. 25, 1992, 106 Stat. 3403, provided that: \"This Act [enacting this section and sections 3796cc to 3796ccÃ¢ÂÂ6 of Title 42, The Public Health and Welfare, amending section 3563 of this title and section 3797 of Title 42, and enacting provisions set out as a note under section 12301 of Title 42] may be cited as the 'Child Support Recovery Act of 1992'.\"1ÃÂ See References in Text note below.\n"
     ]
    }
   ],
   "source": [
    "print(df['Content'][12])\n",
    "print(df['Content'][9])\n"
   ]
  }
 ],
 "metadata": {
  "kernelspec": {
   "display_name": "Python 3",
   "language": "python",
   "name": "python3"
  },
  "language_info": {
   "codemirror_mode": {
    "name": "ipython",
    "version": 3
   },
   "file_extension": ".py",
   "mimetype": "text/x-python",
   "name": "python",
   "nbconvert_exporter": "python",
   "pygments_lexer": "ipython3",
   "version": "3.12.0"
  }
 },
 "nbformat": 4,
 "nbformat_minor": 2
}
