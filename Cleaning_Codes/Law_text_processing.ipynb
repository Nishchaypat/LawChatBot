{
  "cells": [
    {
      "cell_type": "code",
      "execution_count": null,
      "metadata": {},
      "outputs": [],
      "source": [
        "# AI Cleaning of Content Section"
      ]
    },
    {
      "cell_type": "code",
      "execution_count": 1,
      "metadata": {},
      "outputs": [],
      "source": [
        "import pandas as pd\n",
        "import numpy as np\n",
        "import google.generativeai as genai\n",
        "import os\n",
        "import dotenv\n",
        "import time\n",
        "from datetime import datetime\n",
        "import json\n",
        "from tqdm import tqdm\n"
      ]
    },
    {
      "cell_type": "code",
      "execution_count": 2,
      "metadata": {
        "colab": {
          "base_uri": "https://localhost:8080/"
        },
        "id": "7JLromwsPdFY",
        "outputId": "e66f0959-ca79-4db0-a5c8-6f66552759c4"
      },
      "outputs": [
        {
          "name": "stdout",
          "output_type": "stream",
          "text": [
            "(1647, 4)\n",
            "Index(['Section', 'Url', 'Content', 'Metadata'], dtype='object')\n"
          ]
        }
      ],
      "source": [
        "\n",
        "\n",
        "df=pd.read_csv(r\"Title18.csv\", encoding='latin-1')\n",
        "print(df.shape)\n",
        "print(df.columns)"
      ]
    },
    {
      "cell_type": "code",
      "execution_count": 3,
      "metadata": {
        "colab": {
          "base_uri": "https://localhost:8080/",
          "height": 109
        },
        "id": "XEDWwxz3c0w8",
        "outputId": "3a843ace-861e-4323-e658-d0d380a26b67"
      },
      "outputs": [
        {
          "data": {
            "text/plain": [
              "'Whoever, within the special maritime and territorial jurisdiction of the United States, by force and violence, or by intimidation, takes or attempts to take from the person or presence of another anything of value, shall be imprisoned not more than fifteen years.(June 25, 1948, ch. 645, 62 Stat. 796; Pub. L. 103Ã¢Â\\x80Â\\x93322, title XXXII, Ã\\x82Â§320903(a)(1), Sept. 13, 1994, 108 Stat. 2124.)Historical and Revision NotesBased on title 18, U.S.C., 1940 ed., Ã\\x82Â§463 (Mar. 4, 1909, ch. 321, Ã\\x82Â§284, 35 Stat. 1144).Words \"within the special maritime and territorial jurisdiction of the United States\" were added to restrict the place of the offense to those places described in section 451 of title 18, U.S.C., 1940 ed., now section 7 of this title.Minor changes were made in phraseology.Editorial NotesAmendments1994-Pub. L. 103Ã¢Â\\x80Â\\x93322 inserted \"or attempts to take\" after \"takes\".Statutory Notes and Related SubsidiariesShort Title of 1996 AmendmentPub. L. 104Ã¢Â\\x80Â\\x93217, Ã\\x82Â§1, Oct. 1, 1996, 110 Stat. 3020, provided that: \"This Act [amending section 2119 of this title] may be cited as the \\'Carjacking Correction Act of 1996\\'.\"'"
            ]
          },
          "execution_count": 3,
          "metadata": {},
          "output_type": "execute_result"
        }
      ],
      "source": [
        "df['Content'][1]"
      ]
    },
    {
      "cell_type": "code",
      "execution_count": 4,
      "metadata": {
        "id": "oLX6FYAAaAqf"
      },
      "outputs": [],
      "source": [
        "\n",
        "\n",
        "# Load environment variables from .env file\n",
        "dotenv.load_dotenv()\n",
        "genai.configure(api_key=os.getenv('GOOGLE_API_KEY'))"
      ]
    },
    {
      "cell_type": "code",
      "execution_count": 7,
      "metadata": {
        "id": "uybr5T7oaXiW"
      },
      "outputs": [],
      "source": [
        "systemprompt1= \"\"\"You are a helpful expert AI Assistant on United States Code for Title 18. Your job is to preprocess and clean the text from the title 18 excrepts.\n",
        "You will be given with law text from Title 18, remove any unnecessary non english characters and unrelated text to law and return the clean and meaningful law text. Please do not modify or alter the meaning of the text.   \"\"\"\n",
        "\n",
        "\n",
        "systemprompt= \"\"\" You are an expert AI Assistant specializing in the United States Code, specifically Title 18 (Crimes and Criminal Procedure). Your primary function is to process and clean text excerpts from this title.\n",
        "\n",
        "**Task:**\n",
        "\n",
        "You will receive text input containing legal information extracted from Title 18 of the U.S. Code. Your task is to preprocess and clean this text, ensuring it is suitable for further analysis or use.  This involves several specific steps:\n",
        "\n",
        "1. **Remove Non-English Characters:**  Identify and remove any characters that are not part of standard English text. This includes, but is not limited to:\n",
        "    * Special symbols (e.g., Ã‚Â, ¶, †, ‡, /x,/n, Next >>[Print], << Previous, Result 1 of 1 , etc., except for those that are standard legal symbols like the section symbol §).\n",
        "    * Control characters.\n",
        "    * Characters from other languages (e.g., accented characters, characters from non-Latin alphabets).\n",
        "    * Extraneous punctuation or symbols not typically found in legal text.\n",
        "\n",
        "2. **Remove Unrelated Text:**  Identify and remove any text that is not directly related to the legal content of Title 18. This may include:\n",
        "    * Headings, subheadings, or titles if they are redundant or not part of the core legal text. If headings are essential to understanding the structure of the law, keep them.\n",
        "    * Editorial notes, annotations, or commentary that are not part of the official legal text.\n",
        "    * Footnotes, unless they contain essential legal information. If you keep footnotes, ensure they are formatted clearly and consistently.\n",
        "    * References to other sections or titles, unless they are crucial for understanding the current excerpt. If kept, ensure they are formatted consistently.\n",
        "    * Table of contents entries.\n",
        "    * Anything that is clearly not part of the codified law itself.\n",
        "\n",
        "3. **Preserve Meaning:**  Crucially, you **must not** modify or alter the meaning of the legal text.  Your cleaning process should only remove extraneous or non-essential elements; it should not change the legal content in any way.\n",
        "\n",
        "4. **Return Clean and Meaningful Text:** The output you provide should be the cleaned and processed legal text. It should be grammatically correct, clearly formatted, and ready for further use.  Maintain the original structure and hierarchy of the legal text where possible (e.g., keep paragraphs, subsections, etc.).  If the input text includes citations to other legal sources, maintain the format of those citations.\n",
        "\n",
        "**Example Input:**\n",
        "\"Whoever, within the special maritime and territorial jurisdiction of the United States, by force and violence, or by intimidation, takes or attempts to take from the person or presence of another anything of value, shall be imprisoned not more than fifteen years.(June 25, 1948, ch. 645, 62 Stat. 796; Pub. L. 103Ã¢Â€Â“322, title XXXII, Ã‚Â§320903(a)(1), Sept. 13, 1994, 108 Stat. 2124.)Historical and Revision NotesBased on title 18, U.S.C., 1940 ed., Ã‚Â§463 (Mar. 4, 1909, ch. 321, Ã‚Â§284, 35 Stat. 1144).Words \"within the special maritime and territorial jurisdiction of the United States\" were added to restrict the place of the offense to those places described in section 451 of title 18, U.S.C., 1940 ed., now section 7 of this title.Minor changes were made in phraseology.Editorial NotesAmendments1994-Pub. L. 103Ã¢Â€Â“322 inserted \"or attempts to take\" after \"takes\".Statutory Notes and Related SubsidiariesShort Title of 1996 AmendmentPub. L. 104Ã¢Â€Â“217, Ã‚Â§1, Oct. 1, 1996, 110 Stat. 3020, provided that: \"This Act [amending section 2119 of this title] may be cited as the 'Carjacking Correction Act of 1996'.\"\"\n",
        "\n",
        "**Example Output (Cleaned):**\n",
        "\"Whoever, within the special maritime and territorial jurisdiction of the United States, by force and violence, or by intimidation, takes or attempts to take from the person or presence of another anything of value, shall be imprisoned not more than fifteen years.\n",
        "(June 25, 1948, ch. 645, 62 Stat. 796 ; Pub. L. 103–322, title XXXII, §320903(a)(1), Sept. 13, 1994, 108 Stat. 2124 .)\n",
        "Historical and Revision Notes\n",
        "Based on title 18, U.S.C., 1940 ed., §463 (Mar. 4, 1909, ch. 321, §284, 35 Stat. 1144 ).\n",
        "Words \"within the special maritime and territorial jurisdiction of the United States\" were added to restrict the place of the offense to those places described in section 451 of title 18, U.S.C., 1940 ed., now section 7 of this title.\n",
        "Minor changes were made in phraseology.\n",
        "\n",
        "\n",
        "Editorial Notes\n",
        "Amendments\n",
        "1994-Pub. L. 103–322 inserted \"or attempts to take\" after \"takes\".\n",
        "\n",
        "\n",
        "Statutory Notes and Related Subsidiaries\n",
        "Short Title of 1996 Amendment\n",
        "Pub. L. 104–217, §1, Oct. 1, 1996, 110 Stat. 3020 , provided that: \"This Act [amending section 2119 of this title] may be cited as the 'Carjacking Correction Act of 1996'.\" \"\n",
        "\n",
        "\"\"\""
      ]
    },
    {
      "cell_type": "code",
      "execution_count": 5,
      "metadata": {},
      "outputs": [],
      "source": [
        "prompt = f\"\"\"\n",
        "    You are an AI assistant that cleans U.S. legal text while **preserving all original headings and structure**.\n",
        "    \n",
        "    **Rules for Cleaning:**\n",
        "    - **Do NOT add new headings.** Only keep the ones already present in the text.\n",
        "    - **Remove encoding artifacts** (e.g., Ã‚Â, Ã¢Â€Â“).\n",
        "    - **Remove HTML/ Page Elements like Next >>[Print], << Previous, Result 1 of 1 , etc., except for those that are standard legal symbols like the section symbol §).\n",
        "    - **Maintain original section titles and bold formatting** (e.g., **Historical and Revision Notes**).\n",
        "    - **Do NOT insert extra information, commentary, or inferred text.**\n",
        "    - **Preserve all legal citations and amendments.**\n",
        "    - **Normalize spacing and punctuation for readability.**\n",
        "\n",
        "    **Now clean the text while keeping all existing headings and returning only the cleaned version. Do NOT add new headings or modify structure.**\n",
        "    \"\"\""
      ]
    },
    {
      "cell_type": "code",
      "execution_count": null,
      "metadata": {
        "colab": {
          "base_uri": "https://localhost:8080/",
          "height": 372
        },
        "id": "rbtnpwtRaRhy",
        "outputId": "3de9a890-1a18-4418-8e38-fea9f67538eb"
      },
      "outputs": [],
      "source": [
        "count = 0\n",
        "errors = 0\n",
        "model = genai.GenerativeModel('models/gemini-2.0-flash-001',\n",
        "                              system_instruction=prompt)\n",
        "\n",
        "for index, row in df.iterrows():\n",
        "    try:\n",
        "        response_content = model.generate_content(row['Content'])\n",
        "        df.at[index, 'Content'] = response_content.text\n",
        "    except Exception as e:\n",
        "        df.at[index, 'Content'] = \"\"\n",
        "        print(f\"Error in Content at index {index}: {e}\")\n",
        "        errors += 1\n",
        "    \n",
        "    try:\n",
        "        response_section = model.generate_content(row['Section'])\n",
        "        df.at[index, 'Section'] = response_section.text\n",
        "    except Exception as e:\n",
        "        df.at[index, 'Section'] = \"\"\n",
        "        print(f\"Error in Section at index {index}: {e}\")\n",
        "        errors += 1\n",
        "    \n",
        "    try:\n",
        "        response_metadata = model.generate_content(row['Metadata'])\n",
        "        df.at[index, 'Metadata'] = response_metadata.text\n",
        "    except Exception as e:\n",
        "        df.at[index, 'Metadata'] = \"\"\n",
        "        print(f\"Error in Metadata at index {index}: {e}\")\n",
        "        errors += 1\n",
        "    \n",
        "    count += 1\n",
        "    print(count)\n",
        "    if count % 100 == 0:\n",
        "        print(f\"Milestone!!!!!!!!!!! {count}\")\n",
        "\n",
        "print(\"Total errors:\", errors)\n"
      ]
    },
    {
      "cell_type": "code",
      "execution_count": null,
      "metadata": {},
      "outputs": [],
      "source": [
        "df.to_csv(r\"Title18_reprocessed.csv\", index=False)"
      ]
    },
    {
      "cell_type": "code",
      "execution_count": 12,
      "metadata": {
        "colab": {
          "base_uri": "https://localhost:8080/"
        },
        "id": "Z8XR7lqAefS9",
        "outputId": "b08bd923-a8b8-4d87-f188-87f925223790"
      },
      "outputs": [
        {
          "name": "stdout",
          "output_type": "stream",
          "text": [
            "(a) Action and Jurisdiction.—Any national of the United States injured in his or her person, property, or business by reason of an act of international terrorism, or his or her estate, survivors, or heirs, may sue therefor in any appropriate district court of the United States and shall recover threefold the damages he or she sustains and the cost of the suit, including attorney’s fees.\n",
            "\n",
            "(b) Estoppel Under United States Law.—A final judgment or decree rendered in favor of the United States in any criminal proceeding under section 1116, 1201, 1203, or 2332 of this title or section 46314, 46502, 46505, or 46506 of title 49 shall estop the defendant from denying the essential allegations of the criminal offense in any subsequent civil proceeding under this section.\n",
            "\n",
            "(c) Estoppel Under Foreign Law.—A final judgment or decree rendered in favor of any foreign state in any criminal proceeding shall, to the extent that such judgment or decree may be accorded full faith and credit under the law of the United States, estop the defendant from denying the essential allegations of the criminal offense in any subsequent civil proceeding under this section.\n",
            "\n",
            "(d) Liability.—(1) Definition.—In this subsection, the term “person” has the meaning given the term in section 1 of title 1. (2) Liability.—In an action under subsection (a) for an injury arising from an act of international terrorism committed, planned, or authorized by an organization that had been designated as a foreign terrorist organization under section 219 of the Immigration and Nationality Act (8 U.S.C. 1189), as of the date on which such act of international terrorism was committed, planned, or authorized, liability may be asserted as to any person who aids and abets, by knowingly providing substantial assistance, or who conspires with the person who committed such an act of international terrorism.\n",
            "\n",
            "(e) Use of Blocked Assets to Satisfy Judgments of U.S. Nationals.—For purposes of section 201 of the Terrorism Risk Insurance Act of 2002 (28 U.S.C. 1610 note), in any action in which a national of the United States has obtained a judgment against a terrorist party pursuant to this section, the term “blocked asset” shall include any asset of that terrorist party (including the blocked assets of any agency or instrumentality of that party) seized or frozen by the United States under section 805(b) of the Foreign Narcotics Kingpin Designation Act (21 U.S.C. 1904(b)).\n",
            "\n",
            "(Added Pub. L. 102–572, title X, §1003(a)(4), Oct. 29, 1992, 106 Stat. 4522; amended Pub. L. 103–429, §2(1), Oct. 31, 1994, 108 Stat. 4377; Pub. L. 114–222, §4(a), Sept. 28, 2016, 130 Stat. 854; Pub. L. 115–253, §3(a), Oct. 3, 2018, 132 Stat. 3183.)\n",
            "\n"
          ]
        }
      ],
      "source": [
        "print(df['Processed_Content'][140])"
      ]
    },
    {
      "cell_type": "code",
      "execution_count": 7,
      "metadata": {},
      "outputs": [
        {
          "name": "stderr",
          "output_type": "stream",
          "text": [
            "Processing rows: 100%|█████████▉| 1641/1647 [2:13:53<02:03, 20.62s/it]"
          ]
        },
        {
          "name": "stdout",
          "output_type": "stream",
          "text": [
            "\n",
            "Error in Metadata at row 1640: Could not create `Blob`, expected `Blob`, `dict` or an `Image` type(`PIL.Image.Image` or `IPython.display.Image`).\n",
            "Got a: <class 'float'>\n",
            "Value: nan\n",
            "\n",
            "Checkpoint saved at row 1641\n"
          ]
        },
        {
          "name": "stderr",
          "output_type": "stream",
          "text": [
            "Processing rows: 100%|█████████▉| 1642/1647 [2:14:10<01:37, 19.45s/it]"
          ]
        },
        {
          "name": "stdout",
          "output_type": "stream",
          "text": [
            "\n",
            "Error in Metadata at row 1641: Could not create `Blob`, expected `Blob`, `dict` or an `Image` type(`PIL.Image.Image` or `IPython.display.Image`).\n",
            "Got a: <class 'float'>\n",
            "Value: nan\n",
            "\n",
            "Checkpoint saved at row 1642\n"
          ]
        },
        {
          "name": "stderr",
          "output_type": "stream",
          "text": [
            "Processing rows: 100%|█████████▉| 1643/1647 [2:14:23<01:10, 17.58s/it]"
          ]
        },
        {
          "name": "stdout",
          "output_type": "stream",
          "text": [
            "\n",
            "Error in Metadata at row 1642: Could not create `Blob`, expected `Blob`, `dict` or an `Image` type(`PIL.Image.Image` or `IPython.display.Image`).\n",
            "Got a: <class 'float'>\n",
            "Value: nan\n",
            "\n",
            "Checkpoint saved at row 1643\n"
          ]
        },
        {
          "name": "stderr",
          "output_type": "stream",
          "text": [
            "Processing rows: 100%|█████████▉| 1644/1647 [2:14:30<00:43, 14.36s/it]"
          ]
        },
        {
          "name": "stdout",
          "output_type": "stream",
          "text": [
            "\n",
            "Error in Metadata at row 1643: Could not create `Blob`, expected `Blob`, `dict` or an `Image` type(`PIL.Image.Image` or `IPython.display.Image`).\n",
            "Got a: <class 'float'>\n",
            "Value: nan\n",
            "\n",
            "Checkpoint saved at row 1644\n"
          ]
        },
        {
          "name": "stderr",
          "output_type": "stream",
          "text": [
            "Processing rows: 100%|█████████▉| 1645/1647 [2:14:35<00:23, 11.57s/it]"
          ]
        },
        {
          "name": "stdout",
          "output_type": "stream",
          "text": [
            "\n",
            "Error in Metadata at row 1644: Could not create `Blob`, expected `Blob`, `dict` or an `Image` type(`PIL.Image.Image` or `IPython.display.Image`).\n",
            "Got a: <class 'float'>\n",
            "Value: nan\n",
            "\n",
            "Checkpoint saved at row 1645\n"
          ]
        },
        {
          "name": "stderr",
          "output_type": "stream",
          "text": [
            "Processing rows: 100%|█████████▉| 1646/1647 [2:14:39<00:09,  9.18s/it]"
          ]
        },
        {
          "name": "stdout",
          "output_type": "stream",
          "text": [
            "\n",
            "Error in Metadata at row 1645: Could not create `Blob`, expected `Blob`, `dict` or an `Image` type(`PIL.Image.Image` or `IPython.display.Image`).\n",
            "Got a: <class 'float'>\n",
            "Value: nan\n",
            "\n",
            "Checkpoint saved at row 1646\n"
          ]
        },
        {
          "name": "stderr",
          "output_type": "stream",
          "text": [
            "Processing rows: 100%|██████████| 1647/1647 [2:14:41<00:00, 11.92s/it]"
          ]
        },
        {
          "name": "stdout",
          "output_type": "stream",
          "text": [
            "\n",
            "Error in Metadata at row 1646: Could not create `Blob`, expected `Blob`, `dict` or an `Image` type(`PIL.Image.Image` or `IPython.display.Image`).\n",
            "Got a: <class 'float'>\n",
            "Value: nan\n",
            "\n",
            "Checkpoint saved at row 1647\n",
            "\n",
            "Processing Complete!\n",
            "==================================================\n",
            "Total rows processed: 1647\n",
            "Total time taken: 134.7 minutes\n",
            "\n",
            "Error Summary:\n",
            "Content: 1 errors\n",
            "Section: 50 errors\n",
            "Metadata: 455 errors\n"
          ]
        },
        {
          "name": "stderr",
          "output_type": "stream",
          "text": [
            "\n"
          ]
        }
      ],
      "source": [
        "def clean_data_with_tracking(df, prompt, checkpoint_dir='checkpoints', resume=True):\n",
        "    \"\"\"\n",
        "    Clean data with progress tracking and ability to resume from last checkpoint\n",
        "    \n",
        "    Args:\n",
        "        df: pandas DataFrame with Content, Section, and Metadata columns\n",
        "        prompt: system instruction prompt for the Gemini model\n",
        "        checkpoint_dir: directory to store checkpoints\n",
        "        resume: whether to attempt to resume from last checkpoint\n",
        "    \"\"\"\n",
        "    # Initialize Gemini model\n",
        "    model = genai.GenerativeModel('models/gemini-2.0-flash-001',\n",
        "                                 system_instruction=prompt)\n",
        "    \n",
        "    # Create checkpoint directory if it doesn't exist\n",
        "    os.makedirs(checkpoint_dir, exist_ok=True)\n",
        "    \n",
        "    # Initialize or load progress state\n",
        "    state_file = os.path.join(checkpoint_dir, 'cleaning_state.json')\n",
        "    if resume and os.path.exists(state_file):\n",
        "        with open(state_file, 'r') as f:\n",
        "            state = json.load(f)\n",
        "        start_index = state['last_processed_index'] + 1\n",
        "        errors = state['errors']\n",
        "        print(f\"\\nResuming from row {start_index}\")\n",
        "    else:\n",
        "        start_index = 0\n",
        "        errors = {\n",
        "            'Content': [],\n",
        "            'Section': [],\n",
        "            'Metadata': []\n",
        "        }\n",
        "    \n",
        "    start_time = time.time()\n",
        "    total_rows = len(df)\n",
        "    \n",
        "    # Create progress bar starting from resume point\n",
        "    progress_bar = tqdm(total=total_rows, initial=start_index, desc=\"Processing rows\")\n",
        "    \n",
        "    def save_state(current_index):\n",
        "        \"\"\"Save current progress and errors to checkpoint\"\"\"\n",
        "        state = {\n",
        "            'last_processed_index': current_index,\n",
        "            'errors': errors,\n",
        "            'timestamp': datetime.now().strftime('%Y-%m-%d %H:%M:%S')\n",
        "        }\n",
        "        with open(state_file, 'w') as f:\n",
        "            json.dump(state, f)\n",
        "        \n",
        "        # Save the DataFrame checkpoint\n",
        "        checkpoint_file = os.path.join(checkpoint_dir, 'data_checkpoint.csv')\n",
        "        df.to_csv(checkpoint_file, index=False)\n",
        "        \n",
        "        print(f\"\\nCheckpoint saved at row {current_index + 1}\")\n",
        "    \n",
        "    def process_column(row, index, column_name):\n",
        "        try:\n",
        "            # Skip if already processed (in case of resume)\n",
        "            if pd.notna(row[column_name]) and resume and index < start_index:\n",
        "                return None\n",
        "                \n",
        "            response = model.generate_content(row[column_name])\n",
        "            df.at[index, column_name] = response.text\n",
        "            return None\n",
        "        except Exception as e:\n",
        "            error_info = {\n",
        "                'index': index,\n",
        "                'error': str(e),\n",
        "                'timestamp': datetime.now().strftime('%Y-%m-%d %H:%M:%S')\n",
        "            }\n",
        "            errors[column_name].append(error_info)\n",
        "            df.at[index, column_name] = \"\"\n",
        "            return error_info\n",
        "\n",
        "    try:\n",
        "        for index, row in df.iloc[start_index:].iterrows():\n",
        "            # Process each column\n",
        "            for column in ['Content', 'Section', 'Metadata']:\n",
        "                error = process_column(row, index, column)\n",
        "                if error:\n",
        "                    print(f\"\\nError in {column} at row {index}: {error['error']}\")\n",
        "            \n",
        "            # Update progress\n",
        "            progress_bar.update(1)\n",
        "            elapsed_time = time.time() - start_time\n",
        "            processed_rows = index - start_index + 1\n",
        "            avg_time_per_row = elapsed_time / processed_rows\n",
        "            remaining_rows = total_rows - (index + 1)\n",
        "            estimated_time_remaining = remaining_rows * avg_time_per_row\n",
        "            \n",
        "            # Print detailed status every 10 rows\n",
        "            if (index + 1) % 10 == 0:\n",
        "                print(f\"\\nStatus Update:\")\n",
        "                print(f\"Processed {index + 1}/{total_rows} rows ({((index + 1)/total_rows)*100:.1f}%)\")\n",
        "                print(f\"Elapsed time: {elapsed_time/60:.1f} minutes\")\n",
        "                print(f\"Estimated time remaining: {estimated_time_remaining/60:.1f} minutes\")\n",
        "                print(f\"Current error count: {sum(len(e) for e in errors.values())}\")\n",
        "            \n",
        "            # Save checkpoint every 100 rows or if there's an error\n",
        "            if (index + 1) % 100 == 0 or any(len(e) > 0 for e in errors.values()):\n",
        "                save_state(index)\n",
        "    \n",
        "    except KeyboardInterrupt:\n",
        "        print(\"\\nProcess interrupted by user. Saving checkpoint...\")\n",
        "        save_state(index)\n",
        "        raise\n",
        "    \n",
        "    except Exception as e:\n",
        "        print(f\"\\nUnexpected error occurred. Saving checkpoint...\")\n",
        "        save_state(index)\n",
        "        raise\n",
        "    \n",
        "    finally:\n",
        "        progress_bar.close()\n",
        "    \n",
        "    # Final summary\n",
        "    print(\"\\nProcessing Complete!\")\n",
        "    print(\"=\" * 50)\n",
        "    print(f\"Total rows processed: {total_rows}\")\n",
        "    print(f\"Total time taken: {elapsed_time/60:.1f} minutes\")\n",
        "    print(\"\\nError Summary:\")\n",
        "    for column, column_errors in errors.items():\n",
        "        print(f\"{column}: {len(column_errors)} errors\")\n",
        "    \n",
        "    return df, errors\n",
        "\n",
        "try:\n",
        "    cleaned_df, error_log = clean_data_with_tracking(\n",
        "        df,\n",
        "        prompt=prompt,\n",
        "        checkpoint_dir='checkpoints',\n",
        "        resume=True\n",
        "    )\n",
        "except KeyboardInterrupt:\n",
        "    print(\"\\nProcess stopped by user. You can resume from the last checkpoint later.\")\n",
        "except Exception as e:\n",
        "    print(f\"\\nCritical error occurred: {e}\")\n",
        "    print(\"You can resume from the last checkpoint later.\")"
      ]
    },
    {
      "cell_type": "code",
      "execution_count": 8,
      "metadata": {},
      "outputs": [],
      "source": [
        "df.to_csv(r\"Title18_reprocessed.csv\", index=False, encoding='utf-8', errors='replace')"
      ]
    }
  ],
  "metadata": {
    "accelerator": "TPU",
    "colab": {
      "gpuType": "V28",
      "provenance": []
    },
    "kernelspec": {
      "display_name": "Python 3",
      "name": "python3"
    },
    "language_info": {
      "codemirror_mode": {
        "name": "ipython",
        "version": 3
      },
      "file_extension": ".py",
      "mimetype": "text/x-python",
      "name": "python",
      "nbconvert_exporter": "python",
      "pygments_lexer": "ipython3",
      "version": "3.12.2"
    }
  },
  "nbformat": 4,
  "nbformat_minor": 0
}
