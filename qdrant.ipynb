{
 "cells": [
  {
   "cell_type": "code",
   "execution_count": 1,
   "metadata": {},
   "outputs": [],
   "source": [
    "from libraries import *"
   ]
  },
  {
   "cell_type": "code",
   "execution_count": 2,
   "metadata": {},
   "outputs": [],
   "source": [
    "client = QdrantClient(\n",
    "    url=\"https://cecd63ca-9699-4bc0-a60f-3c7e8c768fd3.europe-west3-0.gcp.cloud.qdrant.io:6333\",  # Replace with your cloud cluster URL\n",
    "    api_key=\"jwv0ETSb8751Q1yrQ3RVSsChFudsv1M63mEvxXXRnLf_ROoeAfe_Wg\"  # Replace with your API key\n",
    ")\n",
    "\n",
    "collection_name = \"LawEmbedding\""
   ]
  },
  {
   "cell_type": "code",
   "execution_count": 16,
   "metadata": {},
   "outputs": [
    {
     "name": "stdout",
     "output_type": "stream",
     "text": [
      "Collection 'LawEmbeddingEUCLIDEUCLID' deleted.\n"
     ]
    }
   ],
   "source": [
    "# if client.get_collection(collection_name):\n",
    "#     client.delete_collection(collection_name)  # This will delete the collection if it exists\n",
    "#     print(f\"Collection '{collection_name}' deleted.\")"
   ]
  },
  {
   "cell_type": "code",
   "execution_count": 3,
   "metadata": {},
   "outputs": [],
   "source": [
    "embeddings = np.loadtxt(\"embeddings-complete-legal-bert-base-uncased.csv\", delimiter=',')\n",
    "df = pd.read_csv(\"Title18.csv\")"
   ]
  },
  {
   "cell_type": "code",
   "execution_count": 4,
   "metadata": {},
   "outputs": [
    {
     "data": {
      "text/plain": [
       "(1647, 768)"
      ]
     },
     "execution_count": 4,
     "metadata": {},
     "output_type": "execute_result"
    }
   ],
   "source": [
    "embeddings.shape"
   ]
  },
  {
   "cell_type": "code",
   "execution_count": 5,
   "metadata": {},
   "outputs": [
    {
     "data": {
      "text/plain": [
       "(1647, 4)"
      ]
     },
     "execution_count": 5,
     "metadata": {},
     "output_type": "execute_result"
    }
   ],
   "source": [
    "df.shape"
   ]
  },
  {
   "cell_type": "code",
   "execution_count": 22,
   "metadata": {},
   "outputs": [
    {
     "name": "stderr",
     "output_type": "stream",
     "text": [
      "C:\\Users\\npatel237\\AppData\\Local\\Temp\\ipykernel_20788\\734515275.py:8: DeprecationWarning: `recreate_collection` method is deprecated and will be removed in the future. Use `collection_exists` to check collection existence and `create_collection` instead.\n",
      "  client.recreate_collection(\n"
     ]
    },
    {
     "name": "stdout",
     "output_type": "stream",
     "text": [
      "Number of vectors in the collection: 1647\n"
     ]
    }
   ],
   "source": [
    "dimension = embeddings.shape[1]  # Get the dimensionality of the embeddings\n",
    "\n",
    "# client.recreate_collection(\n",
    "#     collection_name=collection_name+'COSINE',\n",
    "#     vectors_config=VectorParams(size=dimension, distance=Distance.COSINE)  # Use COSINE distance for similarity\n",
    "# )\n",
    "\n",
    "client.recreate_collection(\n",
    "    collection_name=collection_name+'EUCLID',\n",
    "    vectors_config=VectorParams(size=dimension, distance=Distance.EUCLID)  # Use COSINE distance for similarity\n",
    ")\n",
    "\n",
    "\n",
    "# Step 5: Insert embeddings row by row into Qdrant\n",
    "points = [\n",
    "    {\n",
    "        \"id\": idx,  # The row index will be used as the unique ID\n",
    "        \"vector\": embeddings.tolist(),  # Convert numpy array to list for Qdrant\n",
    "        \"payload\": {\n",
    "            \"section\": df['Section'].iloc[idx],\n",
    "            \"url\": df['Url'].iloc[idx],\n",
    "        }\n",
    "    }\n",
    "    for idx, embeddings in enumerate(embeddings)\n",
    "]\n",
    "\n",
    "# client.upsert(\n",
    "#     collection_name=collection_name+'COSINE',\n",
    "#     points=points\n",
    "# )\n",
    "\n",
    "client.upsert(\n",
    "    collection_name=collection_name+'EUCLID',\n",
    "    points=points\n",
    ")\n",
    "\n",
    "# info = client.get_collection(collection_name+'COSINE')\n",
    "# print(f\"Number of vectors in the collection: {info.points_count}\")\n",
    "\n",
    "info = client.get_collection(collection_name+'EUCLID')\n",
    "print(f\"Number of vectors in the collection: {info.points_count}\")"
   ]
  },
  {
   "cell_type": "code",
   "execution_count": 6,
   "metadata": {},
   "outputs": [],
   "source": [
    "tokenizer = AutoTokenizer.from_pretrained(\"nlpaueb/legal-bert-base-uncased\")\n",
    "model = AutoModel.from_pretrained(\"nlpaueb/legal-bert-base-uncased\")\n",
    "\n",
    "device = torch.device('cuda' if torch.cuda.is_available() else 'cpu')\n",
    "model.to(device)\n",
    "\n",
    "def get_embedding(text, tokenizer, model):\n",
    "    inputs = tokenizer(text, return_tensors=\"pt\", truncation=True, padding=True, max_length=512).to(device)\n",
    "    with torch.no_grad():\n",
    "        outputs = model(**inputs)\n",
    "    return outputs.last_hidden_state.mean(dim=1).squeeze()\n",
    "\n",
    "test = ''' \n",
    "Mandatory Restitution.-Upon a conviction under this section, the court shall order restitution under\n",
    "section 3663A in an amount equal to the total unpaid support obligation as it exists at the time of sentencing.\n",
    "'''\n",
    "\n",
    "test_embedding = get_embedding(test, tokenizer, model).cpu().numpy().astype('float32')\n",
    "test_embedding_flat = test_embedding.flatten().tolist()  # Flatten to 1D list\n",
    "\n",
    "search_result_cosine = client.search(\n",
    "    collection_name=collection_name+'COSINE',\n",
    "    query_vector=test_embedding_flat,  # Use 'query_vector' parameter directly\n",
    "    limit=5  # Number of nearest neighbors you want to retrieve\n",
    ")\n",
    "\n",
    "search_result_euclid = client.search(\n",
    "    collection_name=collection_name+'EUCLID',\n",
    "    query_vector=test_embedding_flat,  # Use 'query_vector' parameter directly\n",
    "    limit=5  # Number of nearest neighbors you want to retrieve\n",
    ")"
   ]
  },
  {
   "cell_type": "code",
   "execution_count": 7,
   "metadata": {},
   "outputs": [
    {
     "name": "stdout",
     "output_type": "stream",
     "text": [
      "Distance: 0.9331667\n",
      "Matched Title: 94\n",
      "Matched Url: https://uscode.house.gov/view.xhtml?req=granuleid:USC-prelim-title18-section2259&num=0&edition=prelim\n",
      "Matched Section: 2259. Mandatory restitution\n",
      "Distance: 0.92769134\n",
      "Matched Title: 201\n",
      "Matched Url: https://uscode.house.gov/view.xhtml?req=granuleid:USC-prelim-title18-section2429&num=0&edition=prelim\n",
      "Matched Section: 2429. Mandatory restitution\n",
      "Distance: 0.9276248\n",
      "Matched Title: 622\n",
      "Matched Url: https://uscode.house.gov/view.xhtml?req=granuleid:USC-prelim-title18-section3594&num=0&edition=prelim\n",
      "Matched Section: 3594. Imposition of a sentence of death\n",
      "Distance: 0.92570907\n",
      "Matched Title: 666\n",
      "Matched Url: https://uscode.house.gov/view.xhtml?req=granuleid:USC-prelim-title18-section3663&num=0&edition=prelim\n",
      "Matched Section: 3663. Order of restitution\n",
      "Distance: 0.92277586\n",
      "Matched Title: 599\n",
      "Matched Url: https://uscode.house.gov/view.xhtml?req=granuleid:USC-prelim-title18-section3563&num=0&edition=prelim\n",
      "Matched Section: 3563. Conditions of probation\n"
     ]
    }
   ],
   "source": [
    "# Step 5: Print the distances and indices of the nearest neighbors\n",
    "for result in search_result_cosine:\n",
    "    print(f\"Distance: {result.score}\")  # Score represents similarity (lower is better)\n",
    "    print(f\"Matched Title: {result.id}\")\n",
    "    print(f\"Matched Url: {result.payload['url']}\")\n",
    "    print(f\"Matched Section: {result.payload['section']}\")"
   ]
  },
  {
   "cell_type": "code",
   "execution_count": 8,
   "metadata": {},
   "outputs": [
    {
     "name": "stdout",
     "output_type": "stream",
     "text": [
      "Distance: 3.553698\n",
      "Matched Title: 94\n",
      "Matched Url: https://uscode.house.gov/view.xhtml?req=granuleid:USC-prelim-title18-section2259&num=0&edition=prelim\n",
      "Matched Section: 2259. Mandatory restitution\n",
      "Distance: 3.690732\n",
      "Matched Title: 201\n",
      "Matched Url: https://uscode.house.gov/view.xhtml?req=granuleid:USC-prelim-title18-section2429&num=0&edition=prelim\n",
      "Matched Section: 2429. Mandatory restitution\n",
      "Distance: 3.6949122\n",
      "Matched Title: 622\n",
      "Matched Url: https://uscode.house.gov/view.xhtml?req=granuleid:USC-prelim-title18-section3594&num=0&edition=prelim\n",
      "Matched Section: 3594. Imposition of a sentence of death\n",
      "Distance: 3.7389534\n",
      "Matched Title: 666\n",
      "Matched Url: https://uscode.house.gov/view.xhtml?req=granuleid:USC-prelim-title18-section3663&num=0&edition=prelim\n",
      "Matched Section: 3663. Order of restitution\n",
      "Distance: 3.8142586\n",
      "Matched Title: 599\n",
      "Matched Url: https://uscode.house.gov/view.xhtml?req=granuleid:USC-prelim-title18-section3563&num=0&edition=prelim\n",
      "Matched Section: 3563. Conditions of probation\n"
     ]
    }
   ],
   "source": [
    "for result in search_result_euclid:\n",
    "    print(f\"Distance: {result.score}\")  # Score represents similarity (lower is better)\n",
    "    print(f\"Matched Title: {result.id}\")\n",
    "    print(f\"Matched Url: {result.payload['url']}\")\n",
    "    print(f\"Matched Section: {result.payload['section']}\")"
   ]
  }
 ],
 "metadata": {
  "kernelspec": {
   "display_name": "Python 3",
   "language": "python",
   "name": "python3"
  },
  "language_info": {
   "codemirror_mode": {
    "name": "ipython",
    "version": 3
   },
   "file_extension": ".py",
   "mimetype": "text/x-python",
   "name": "python",
   "nbconvert_exporter": "python",
   "pygments_lexer": "ipython3",
   "version": "3.12.0"
  }
 },
 "nbformat": 4,
 "nbformat_minor": 2
}
