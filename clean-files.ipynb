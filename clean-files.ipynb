{
 "cells": [
  {
   "cell_type": "code",
   "execution_count": 2,
   "metadata": {},
   "outputs": [],
   "source": [
    "from libraries import *"
   ]
  },
  {
   "cell_type": "code",
   "execution_count": 22,
   "metadata": {},
   "outputs": [],
   "source": [
    "files = os.listdir(path='Extracted_Data')\n",
    "file_path = []\n",
    "\n",
    "for file in files:\n",
    "    file_path.append(os.path.join('Extracted_Data/', file))"
   ]
  },
  {
   "cell_type": "code",
   "execution_count": 23,
   "metadata": {},
   "outputs": [],
   "source": [
    "df = pd.DataFrame()\n",
    "dimension_rows = 0\n",
    "for file in file_path:\n",
    "    curr_df = pd.read_csv(file, encoding='latin-1')\n",
    "    dimension_rows += curr_df.shape[0]\n",
    "    df = pd.concat([df, curr_df], ignore_index=True)\n"
   ]
  },
  {
   "cell_type": "code",
   "execution_count": 24,
   "metadata": {},
   "outputs": [
    {
     "data": {
      "text/plain": [
       "488"
      ]
     },
     "execution_count": 24,
     "metadata": {},
     "output_type": "execute_result"
    }
   ],
   "source": [
    "dimension_rows"
   ]
  },
  {
   "cell_type": "code",
   "execution_count": 25,
   "metadata": {},
   "outputs": [
    {
     "data": {
      "text/html": [
       "<div>\n",
       "<style scoped>\n",
       "    .dataframe tbody tr th:only-of-type {\n",
       "        vertical-align: middle;\n",
       "    }\n",
       "\n",
       "    .dataframe tbody tr th {\n",
       "        vertical-align: top;\n",
       "    }\n",
       "\n",
       "    .dataframe thead th {\n",
       "        text-align: right;\n",
       "    }\n",
       "</style>\n",
       "<table border=\"1\" class=\"dataframe\">\n",
       "  <thead>\n",
       "    <tr style=\"text-align: right;\">\n",
       "      <th></th>\n",
       "      <th>Section</th>\n",
       "      <th>Url</th>\n",
       "      <th>Content</th>\n",
       "      <th>Metadata</th>\n",
       "    </tr>\n",
       "  </thead>\n",
       "  <tbody>\n",
       "    <tr>\n",
       "      <th>0</th>\n",
       "      <td>10. -Front Matter</td>\n",
       "      <td>https://uscode.house.gov/view.xhtml?req=granul...</td>\n",
       "      <td>18 USC Ch. 10: Front Matter            Result ...</td>\n",
       "      <td>Amendments2004-Pub. L. 108Ã¢ÂÂ458, title VI,...</td>\n",
       "    </tr>\n",
       "    <tr>\n",
       "      <th>1</th>\n",
       "      <td>175. Prohibitions with respect to biological w...</td>\n",
       "      <td>https://uscode.house.gov/view.xhtml?req=granul...</td>\n",
       "      <td>(a) In General.-Whoever knowingly develops, pr...</td>\n",
       "      <td>Amendments2002-Subsec. (c). Pub. L. 107Ã¢ÂÂ1...</td>\n",
       "    </tr>\n",
       "    <tr>\n",
       "      <th>2</th>\n",
       "      <td>175. a. Requests for military assistance to en...</td>\n",
       "      <td>https://uscode.house.gov/view.xhtml?req=granul...</td>\n",
       "      <td>18 USC 175a: Requests for military assistance ...</td>\n",
       "      <td>References in TextSection 382 of title 10, ref...</td>\n",
       "    </tr>\n",
       "    <tr>\n",
       "      <th>3</th>\n",
       "      <td>175. b. Possession by restricted persons</td>\n",
       "      <td>https://uscode.house.gov/view.xhtml?req=granul...</td>\n",
       "      <td>18 USC 175b: Possession by restricted persons ...</td>\n",
       "      <td>References in TextSection 351A of the Public H...</td>\n",
       "    </tr>\n",
       "    <tr>\n",
       "      <th>4</th>\n",
       "      <td>175. c. Variola virus</td>\n",
       "      <td>https://uscode.house.gov/view.xhtml?req=granul...</td>\n",
       "      <td>18 USC 175c: Variola virus            Result 1...</td>\n",
       "      <td>NaN</td>\n",
       "    </tr>\n",
       "    <tr>\n",
       "      <th>...</th>\n",
       "      <td>...</td>\n",
       "      <td>...</td>\n",
       "      <td>...</td>\n",
       "      <td>...</td>\n",
       "    </tr>\n",
       "    <tr>\n",
       "      <th>483</th>\n",
       "      <td>511. Altering or removing motor vehicle identi...</td>\n",
       "      <td>https://uscode.house.gov/view.xhtml?req=granul...</td>\n",
       "      <td>(a) A person who-(1) knowingly removes, oblite...</td>\n",
       "      <td>References in TextThe Motor Vehicle Theft Prev...</td>\n",
       "    </tr>\n",
       "    <tr>\n",
       "      <th>484</th>\n",
       "      <td>511A. Repealed. Pub. L. 116-260, div. O, title...</td>\n",
       "      <td>https://uscode.house.gov/view.xhtml?req=granul...</td>\n",
       "      <td>18 USC 511A: Repealed. Pub. L. 116-260, div. O...</td>\n",
       "      <td>NaN</td>\n",
       "    </tr>\n",
       "    <tr>\n",
       "      <th>485</th>\n",
       "      <td>512. Forfeiture of certain motor vehicles and ...</td>\n",
       "      <td>https://uscode.house.gov/view.xhtml?req=granul...</td>\n",
       "      <td>(a) If an identification number for a motor ve...</td>\n",
       "      <td>Amendments1994-Subsec. (a)(2)(A). Pub. L. 103â...</td>\n",
       "    </tr>\n",
       "    <tr>\n",
       "      <th>486</th>\n",
       "      <td>513. Securities of the States and private enti...</td>\n",
       "      <td>https://uscode.house.gov/view.xhtml?req=granul...</td>\n",
       "      <td>(a) Whoever makes, utters or possesses a count...</td>\n",
       "      <td>References in TextSection 916 of the Electroni...</td>\n",
       "    </tr>\n",
       "    <tr>\n",
       "      <th>487</th>\n",
       "      <td>514. Fictitious obligations</td>\n",
       "      <td>https://uscode.house.gov/view.xhtml?req=granul...</td>\n",
       "      <td>(a) Whoever, with the intent to defraud-(1) dr...</td>\n",
       "      <td>CodificationSections 101(f) [title VI, Â§648(b...</td>\n",
       "    </tr>\n",
       "  </tbody>\n",
       "</table>\n",
       "<p>488 rows × 4 columns</p>\n",
       "</div>"
      ],
      "text/plain": [
       "                                               Section  \\\n",
       "0                                    10. -Front Matter   \n",
       "1    175. Prohibitions with respect to biological w...   \n",
       "2    175. a. Requests for military assistance to en...   \n",
       "3             175. b. Possession by restricted persons   \n",
       "4                                175. c. Variola virus   \n",
       "..                                                 ...   \n",
       "483  511. Altering or removing motor vehicle identi...   \n",
       "484  511A. Repealed. Pub. L. 116-260, div. O, title...   \n",
       "485  512. Forfeiture of certain motor vehicles and ...   \n",
       "486  513. Securities of the States and private enti...   \n",
       "487                        514. Fictitious obligations   \n",
       "\n",
       "                                                   Url  \\\n",
       "0    https://uscode.house.gov/view.xhtml?req=granul...   \n",
       "1    https://uscode.house.gov/view.xhtml?req=granul...   \n",
       "2    https://uscode.house.gov/view.xhtml?req=granul...   \n",
       "3    https://uscode.house.gov/view.xhtml?req=granul...   \n",
       "4    https://uscode.house.gov/view.xhtml?req=granul...   \n",
       "..                                                 ...   \n",
       "483  https://uscode.house.gov/view.xhtml?req=granul...   \n",
       "484  https://uscode.house.gov/view.xhtml?req=granul...   \n",
       "485  https://uscode.house.gov/view.xhtml?req=granul...   \n",
       "486  https://uscode.house.gov/view.xhtml?req=granul...   \n",
       "487  https://uscode.house.gov/view.xhtml?req=granul...   \n",
       "\n",
       "                                               Content  \\\n",
       "0    18 USC Ch. 10: Front Matter            Result ...   \n",
       "1    (a) In General.-Whoever knowingly develops, pr...   \n",
       "2    18 USC 175a: Requests for military assistance ...   \n",
       "3    18 USC 175b: Possession by restricted persons ...   \n",
       "4    18 USC 175c: Variola virus            Result 1...   \n",
       "..                                                 ...   \n",
       "483  (a) A person who-(1) knowingly removes, oblite...   \n",
       "484  18 USC 511A: Repealed. Pub. L. 116-260, div. O...   \n",
       "485  (a) If an identification number for a motor ve...   \n",
       "486  (a) Whoever makes, utters or possesses a count...   \n",
       "487  (a) Whoever, with the intent to defraud-(1) dr...   \n",
       "\n",
       "                                              Metadata  \n",
       "0    Amendments2004-Pub. L. 108Ã¢ÂÂ458, title VI,...  \n",
       "1    Amendments2002-Subsec. (c). Pub. L. 107Ã¢ÂÂ1...  \n",
       "2    References in TextSection 382 of title 10, ref...  \n",
       "3    References in TextSection 351A of the Public H...  \n",
       "4                                                  NaN  \n",
       "..                                                 ...  \n",
       "483  References in TextThe Motor Vehicle Theft Prev...  \n",
       "484                                                NaN  \n",
       "485  Amendments1994-Subsec. (a)(2)(A). Pub. L. 103â...  \n",
       "486  References in TextSection 916 of the Electroni...  \n",
       "487  CodificationSections 101(f) [title VI, Â§648(b...  \n",
       "\n",
       "[488 rows x 4 columns]"
      ]
     },
     "execution_count": 25,
     "metadata": {},
     "output_type": "execute_result"
    }
   ],
   "source": [
    "df"
   ]
  },
  {
   "cell_type": "code",
   "execution_count": 26,
   "metadata": {},
   "outputs": [
    {
     "data": {
      "text/plain": [
       "Index(['Section', 'Url', 'Content', 'Metadata'], dtype='object')"
      ]
     },
     "execution_count": 26,
     "metadata": {},
     "output_type": "execute_result"
    }
   ],
   "source": [
    "df.columns"
   ]
  },
  {
   "cell_type": "code",
   "execution_count": 8,
   "metadata": {},
   "outputs": [],
   "source": [
    "columns_to_drop = ['Unnamed: 0.9', 'Unnamed: 0.8', 'Unnamed: 0.7', 'Unnamed: 0.6', 'Unnamed: 0.5', 'Unnamed: 0.4', 'Unnamed: 0.3', 'Unnamed: 0.2', 'Unnamed: 0.1', 'Unnamed: 0']"
   ]
  },
  {
   "cell_type": "code",
   "execution_count": 9,
   "metadata": {},
   "outputs": [
    {
     "data": {
      "text/html": [
       "<div>\n",
       "<style scoped>\n",
       "    .dataframe tbody tr th:only-of-type {\n",
       "        vertical-align: middle;\n",
       "    }\n",
       "\n",
       "    .dataframe tbody tr th {\n",
       "        vertical-align: top;\n",
       "    }\n",
       "\n",
       "    .dataframe thead th {\n",
       "        text-align: right;\n",
       "    }\n",
       "</style>\n",
       "<table border=\"1\" class=\"dataframe\">\n",
       "  <thead>\n",
       "    <tr style=\"text-align: right;\">\n",
       "      <th></th>\n",
       "      <th>Section</th>\n",
       "      <th>Url</th>\n",
       "      <th>Content</th>\n",
       "      <th>Metadata</th>\n",
       "    </tr>\n",
       "  </thead>\n",
       "  <tbody>\n",
       "    <tr>\n",
       "      <th>0</th>\n",
       "      <td>10. -Front Matter</td>\n",
       "      <td>https://uscode.house.gov/view.xhtml?req=granul...</td>\n",
       "      <td>18 USC Ch. 10: Front Matter            Result ...</td>\n",
       "      <td>Amendments2004-Pub. L. 108â458, title VI, Â§...</td>\n",
       "    </tr>\n",
       "    <tr>\n",
       "      <th>1</th>\n",
       "      <td>175. Prohibitions with respect to biological w...</td>\n",
       "      <td>https://uscode.house.gov/view.xhtml?req=granul...</td>\n",
       "      <td>(a) In General.-Whoever knowingly develops, pr...</td>\n",
       "      <td>Amendments2002-Subsec. (c). Pub. L. 107â188 ...</td>\n",
       "    </tr>\n",
       "    <tr>\n",
       "      <th>2</th>\n",
       "      <td>175. a. Requests for military assistance to en...</td>\n",
       "      <td>https://uscode.house.gov/view.xhtml?req=granul...</td>\n",
       "      <td>18 USC 175a: Requests for military assistance ...</td>\n",
       "      <td>References in TextSection 382 of title 10, ref...</td>\n",
       "    </tr>\n",
       "    <tr>\n",
       "      <th>3</th>\n",
       "      <td>175. b. Possession by restricted persons</td>\n",
       "      <td>https://uscode.house.gov/view.xhtml?req=granul...</td>\n",
       "      <td>18 USC 175b: Possession by restricted persons ...</td>\n",
       "      <td>References in TextSection 351A of the Public H...</td>\n",
       "    </tr>\n",
       "    <tr>\n",
       "      <th>4</th>\n",
       "      <td>175. c. Variola virus</td>\n",
       "      <td>https://uscode.house.gov/view.xhtml?req=granul...</td>\n",
       "      <td>18 USC 175c: Variola virus            Result 1...</td>\n",
       "      <td>NaN</td>\n",
       "    </tr>\n",
       "    <tr>\n",
       "      <th>...</th>\n",
       "      <td>...</td>\n",
       "      <td>...</td>\n",
       "      <td>...</td>\n",
       "      <td>...</td>\n",
       "    </tr>\n",
       "    <tr>\n",
       "      <th>141</th>\n",
       "      <td>289. False claims for pensions</td>\n",
       "      <td>https://uscode.house.gov/view.xhtml?req=granul...</td>\n",
       "      <td>Whoever knowingly and willfully makes, or pres...</td>\n",
       "      <td>Amendments1994-Pub. L. 103â322 substituted \"...</td>\n",
       "    </tr>\n",
       "    <tr>\n",
       "      <th>142</th>\n",
       "      <td>290. Discharge papers withheld by claim agent</td>\n",
       "      <td>https://uscode.house.gov/view.xhtml?req=granul...</td>\n",
       "      <td>Whoever, being a claim agent, attorney, or oth...</td>\n",
       "      <td>Amendments1994-Pub. L. 103â322 substituted \"...</td>\n",
       "    </tr>\n",
       "    <tr>\n",
       "      <th>143</th>\n",
       "      <td>291. Purchase of claims for fees by court offi...</td>\n",
       "      <td>https://uscode.house.gov/view.xhtml?req=granul...</td>\n",
       "      <td>Whoever, being a judge, clerk, or deputy clerk...</td>\n",
       "      <td>Amendments1994-Pub. L. 103â322 substituted \"...</td>\n",
       "    </tr>\n",
       "    <tr>\n",
       "      <th>144</th>\n",
       "      <td>292. Solicitation of employment and receipt of...</td>\n",
       "      <td>https://uscode.house.gov/view.xhtml?req=granul...</td>\n",
       "      <td>Whoever solicits employment for himself or ano...</td>\n",
       "      <td>Amendments1994-Pub. L. 103â322 substituted \"...</td>\n",
       "    </tr>\n",
       "    <tr>\n",
       "      <th>145</th>\n",
       "      <td>293. Repealed. Pub. L. 101-123, Â§3(a), Oct. 2...</td>\n",
       "      <td>https://uscode.house.gov/view.xhtml?req=granul...</td>\n",
       "      <td>18 USC 293: Repealed. Pub. L. 101-123, Â§3(a),...</td>\n",
       "      <td>NaN</td>\n",
       "    </tr>\n",
       "  </tbody>\n",
       "</table>\n",
       "<p>146 rows × 4 columns</p>\n",
       "</div>"
      ],
      "text/plain": [
       "                                               Section  \\\n",
       "0                                    10. -Front Matter   \n",
       "1    175. Prohibitions with respect to biological w...   \n",
       "2    175. a. Requests for military assistance to en...   \n",
       "3             175. b. Possession by restricted persons   \n",
       "4                                175. c. Variola virus   \n",
       "..                                                 ...   \n",
       "141                     289. False claims for pensions   \n",
       "142      290. Discharge papers withheld by claim agent   \n",
       "143  291. Purchase of claims for fees by court offi...   \n",
       "144  292. Solicitation of employment and receipt of...   \n",
       "145  293. Repealed. Pub. L. 101-123, Â§3(a), Oct. 2...   \n",
       "\n",
       "                                                   Url  \\\n",
       "0    https://uscode.house.gov/view.xhtml?req=granul...   \n",
       "1    https://uscode.house.gov/view.xhtml?req=granul...   \n",
       "2    https://uscode.house.gov/view.xhtml?req=granul...   \n",
       "3    https://uscode.house.gov/view.xhtml?req=granul...   \n",
       "4    https://uscode.house.gov/view.xhtml?req=granul...   \n",
       "..                                                 ...   \n",
       "141  https://uscode.house.gov/view.xhtml?req=granul...   \n",
       "142  https://uscode.house.gov/view.xhtml?req=granul...   \n",
       "143  https://uscode.house.gov/view.xhtml?req=granul...   \n",
       "144  https://uscode.house.gov/view.xhtml?req=granul...   \n",
       "145  https://uscode.house.gov/view.xhtml?req=granul...   \n",
       "\n",
       "                                               Content  \\\n",
       "0    18 USC Ch. 10: Front Matter            Result ...   \n",
       "1    (a) In General.-Whoever knowingly develops, pr...   \n",
       "2    18 USC 175a: Requests for military assistance ...   \n",
       "3    18 USC 175b: Possession by restricted persons ...   \n",
       "4    18 USC 175c: Variola virus            Result 1...   \n",
       "..                                                 ...   \n",
       "141  Whoever knowingly and willfully makes, or pres...   \n",
       "142  Whoever, being a claim agent, attorney, or oth...   \n",
       "143  Whoever, being a judge, clerk, or deputy clerk...   \n",
       "144  Whoever solicits employment for himself or ano...   \n",
       "145  18 USC 293: Repealed. Pub. L. 101-123, Â§3(a),...   \n",
       "\n",
       "                                              Metadata  \n",
       "0    Amendments2004-Pub. L. 108â458, title VI, Â§...  \n",
       "1    Amendments2002-Subsec. (c). Pub. L. 107â188 ...  \n",
       "2    References in TextSection 382 of title 10, ref...  \n",
       "3    References in TextSection 351A of the Public H...  \n",
       "4                                                  NaN  \n",
       "..                                                 ...  \n",
       "141  Amendments1994-Pub. L. 103â322 substituted \"...  \n",
       "142  Amendments1994-Pub. L. 103â322 substituted \"...  \n",
       "143  Amendments1994-Pub. L. 103â322 substituted \"...  \n",
       "144  Amendments1994-Pub. L. 103â322 substituted \"...  \n",
       "145                                                NaN  \n",
       "\n",
       "[146 rows x 4 columns]"
      ]
     },
     "execution_count": 9,
     "metadata": {},
     "output_type": "execute_result"
    }
   ],
   "source": [
    "df.drop(columns=columns_to_drop)"
   ]
  },
  {
   "cell_type": "code",
   "execution_count": 3,
   "metadata": {},
   "outputs": [],
   "source": [
    "\n",
    "df = pd.read_csv('1-15Data-cleaned.csv')"
   ]
  },
  {
   "cell_type": "code",
   "execution_count": 4,
   "metadata": {},
   "outputs": [
    {
     "name": "stdout",
     "output_type": "stream",
     "text": [
      "47\n"
     ]
    }
   ],
   "source": [
    "to_drop_rows = []\n",
    "for i in range(len(df)):\n",
    "    if type(df['Content'][i]) != str :\n",
    "        print(i)\n",
    "        to_drop_rows.append(i)\n",
    "    "
   ]
  },
  {
   "cell_type": "code",
   "execution_count": 8,
   "metadata": {},
   "outputs": [
    {
     "name": "stdout",
     "output_type": "stream",
     "text": [
      "Section                       the amendments made by this Act\n",
      "Url          and the application of the provisions of such...\n",
      "Content                                                   NaN\n",
      "Metadata                                                  NaN\n",
      "Name: 47, dtype: object\n"
     ]
    }
   ],
   "source": [
    "print(df.iloc[47])"
   ]
  },
  {
   "cell_type": "code",
   "execution_count": 29,
   "metadata": {},
   "outputs": [
    {
     "data": {
      "text/plain": [
       "(487, 4)"
      ]
     },
     "execution_count": 29,
     "metadata": {},
     "output_type": "execute_result"
    }
   ],
   "source": [
    "df = df.drop(index=65)\n",
    "df = df.reset_index(drop=True)\n",
    "df.shape"
   ]
  },
  {
   "cell_type": "code",
   "execution_count": 30,
   "metadata": {},
   "outputs": [],
   "source": [
    "df.to_csv('1-25Data-cleaned.csv', index=False)"
   ]
  }
 ],
 "metadata": {
  "kernelspec": {
   "display_name": "Python 3",
   "language": "python",
   "name": "python3"
  },
  "language_info": {
   "codemirror_mode": {
    "name": "ipython",
    "version": 3
   },
   "file_extension": ".py",
   "mimetype": "text/x-python",
   "name": "python",
   "nbconvert_exporter": "python",
   "pygments_lexer": "ipython3",
   "version": "3.12.0"
  }
 },
 "nbformat": 4,
 "nbformat_minor": 2
}
