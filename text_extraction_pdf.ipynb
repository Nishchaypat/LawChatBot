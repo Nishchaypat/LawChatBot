{
 "cells": [
  {
   "cell_type": "code",
   "execution_count": 1,
   "metadata": {},
   "outputs": [],
   "source": [
    "import fitz  # PyMuPDF\n",
    "import pandas as pd\n",
    "\n",
    "def extract_text_from_pdf(pdf_path, csv_output):\n",
    "    doc = fitz.open(pdf_path)  # Open the PDF\n",
    "    data = []\n",
    "\n",
    "    for page_num in range(len(doc)):  \n",
    "        text = doc[page_num].get_text(\"text\")  # Extract text from page\n",
    "        data.append([page_num + 1, text])  # Store page number and text\n",
    "    \n",
    "    # Convert to DataFrame\n",
    "    df = pd.DataFrame(data, columns=[\"Page\", \"Text\"])\n",
    "    \n",
    "    # Save to CSV\n",
    "    df.to_csv(csv_output, index=False, encoding='utf-8')\n",
    "\n",
    "# Example usage\n",
    "pdf_file = \"law_doc.pdf\"  # Replace with your PDF file path\n",
    "csv_output = \"Title18_Pages_converted.csv\"\n",
    "extract_text_from_pdf(pdf_file, csv_output)\n"
   ]
  },
  {
   "cell_type": "code",
   "execution_count": 1,
   "metadata": {},
   "outputs": [
    {
     "name": "stdout",
     "output_type": "stream",
     "text": [
      "   Page                                               Text\n",
      "0     1  6001\\nImmunity of Witnesses\\nV.\\n5001\\nCorrect...\n",
      "1     2  37\\n756, 3058\\n38\\nT. 22 §465\\n39\\n5, 3241\\n51...\n",
      "2     3  79\\n1003\\n80\\n287, 1001\\n81\\n289\\n82\\n641, 136...\n",
      "3     4  123\\n912\\n124\\n211\\n125\\n543\\n126\\n541\\n127\\n1...\n",
      "4     5  199\\n205\\n200\\n204\\n201\\n1913\\n202\\n216\\n203\\n...\n",
      "(1606, 2)\n"
     ]
    }
   ],
   "source": [
    "import pandas as pd\n",
    "df=pd.read_csv(\"Title18_Pages_converted.csv\", encoding='utf-8')\n",
    "\n",
    "print(df.head())  # Display the first few rows of the DataFrame\n",
    "print(df.shape)"
   ]
  },
  {
   "cell_type": "code",
   "execution_count": 8,
   "metadata": {},
   "outputs": [
    {
     "name": "stdout",
     "output_type": "stream",
     "text": [
      "witnesses—Rule\", item 3146 \"Release in noncapital cases prior to trial\", item 3147 \"Appeal from conditions\n",
      "of release\", item 3148 \"Release in capital cases or after conviction\", item 3149 \"Release of material\n",
      "witnesses\", item 3150 \"Penalties for failure to appear\", item 3150a \"Refund of forfeited bail\", item 3151\n",
      "\"Contempt\".\n",
      "1982—Pub. L. 97–267, §6, Sept. 27, 1982, 96 Stat. 1138, struck out \"agencies\" after \"services\" in item\n",
      "3152, substituted \"and administration of pretrial services\" for \"of pretrial services agencies\" in item 3153,\n",
      "\"relating to pretrial services\" for \"of pretrial services agencies\" in item 3154, and \"Annual reports\" for \"Report\n",
      "to Congress\" in item 3155.\n",
      "Pub. L. 97–258, §2(d)(3)(A), Sept. 13, 1982, 96 Stat. 1058, added item 3150a.\n",
      "1975—Pub. L. 93–619, title II, §202, Jan. 3, 1975, 88 Stat. 2089, added items 3153 to 3156, and in item\n",
      "3152, substituted \"Establishment of Pretrial Services Agencies\" for \"Definitions\".\n",
      "1966—Pub. L. 89–465, §§3(b), 5(e)(1), June 22, 1966, 80 Stat. 216, 217, substituted \"RELEASE\" for\n",
      "\"BAIL\" in chapter heading and \"Release in noncapital cases prior to trial\" for \"Jumping Bail\" in item 3146,\n",
      "and added items 3147 to 3152.\n",
      "1954—Act Aug. 20, 1954, ch. 772, §2, 68 Stat. 748, added item 3146.\n",
      "§3141. Release and detention authority generally\n",
      "(a) \n",
      ".—A judicial officer authorized to order the arrest of a person under section\n",
      "PENDING TRIAL\n",
      "3041 of this title before whom an arrested person is brought shall order that such person be released\n",
      "or detained, pending judicial proceedings, under this chapter.\n",
      "(b) \n",
      ".—A judicial officer of a court of original jurisdiction\n",
      "PENDING SENTENCE OR APPEAL\n",
      "over an offense, or a judicial officer of a Federal appellate court, shall order that, pending imposition\n",
      "or execution of sentence, or pending appeal of conviction or sentence, a person be released or\n",
      "detained under this chapter.\n",
      "(Added Pub. L. 98–473, title II, §203(a), Oct. 12, 1984, 98 Stat. 1976; amended Pub. L. 99–646,\n",
      "§55(a), (b), Nov. 10, 1986, 100 Stat. 3607.)\n",
      "EDITORIAL NOTES\n",
      "PRIOR PROVISIONS\n",
      "A prior section 3141, acts June 25, 1948, ch. 645, 62 Stat. 821; June 22, 1966, Pub. L. 89–465, §5(b), 80\n",
      "Stat. 217, related to powers of courts and magistrates with respect to release on bail or otherwise, prior to\n",
      "repeal in the revision of this chapter by section 203(a) of Pub. L. 98–473.\n",
      "AMENDMENTS\n",
      "1986—Subsec. (a). Pub. L. 99–646, §55(a), (b), substituted \"authorized to order the arrest of a person under\n",
      "section 3041 of this title before whom an arrested person is brought shall order that such person be released\"\n",
      "for \"who is authorized to order the arrest of a person pursuant to section 3041 of this title shall order that an\n",
      "arrested person who is brought before him be released\" and \"under this chapter\" for \"pursuant to the\n",
      "provisions of this chapter\".\n",
      "Subsec. (b). Pub. L. 99–646, §55(a), substituted \"under this chapter\" for \"pursuant to the provisions of this\n",
      "chapter\".\n",
      "STATUTORY NOTES AND RELATED SUBSIDIARIES\n",
      "EFFECTIVE DATE OF 1986 AMENDMENT\n",
      "Pub. L. 99–646, §55(j), Nov. 10, 1986, 100 Stat. 3611, provided that: \"The amendments made by this\n",
      "section [amending this section and sections 3142 to 3144, 3146 to 3148, and 3156 of this title] shall take effect\n",
      "30 days after the date of enactment of this Act [Nov. 10, 1986].\"\n",
      "SHORT TITLE OF 2004 AMENDMENT\n",
      "Pub. L. 108–458, title VI, §6951, Dec. 17, 2004, 118 Stat. 3775, provided that: \"This subtitle [subtitle K\n",
      "(§§6951, 6952) of title VI of Pub. L. 108–458, amending section 3142 of this title] may be cited as the\n",
      "'Pretrial Detention of Terrorists Act of 2004'.\"\n",
      "[Release Point 118-78]\n",
      "\n"
     ]
    }
   ],
   "source": [
    "print(df['Text'][1200])"
   ]
  }
 ],
 "metadata": {
  "kernelspec": {
   "display_name": "Python 3",
   "language": "python",
   "name": "python3"
  },
  "language_info": {
   "codemirror_mode": {
    "name": "ipython",
    "version": 3
   },
   "file_extension": ".py",
   "mimetype": "text/x-python",
   "name": "python",
   "nbconvert_exporter": "python",
   "pygments_lexer": "ipython3",
   "version": "3.10.11"
  }
 },
 "nbformat": 4,
 "nbformat_minor": 2
}
