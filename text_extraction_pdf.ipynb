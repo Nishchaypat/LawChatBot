{
 "cells": [
  {
   "cell_type": "code",
   "execution_count": 1,
   "metadata": {},
   "outputs": [],
   "source": [
    "import fitz  # PyMuPDF\n",
    "import pandas as pd\n",
    "\n",
    "def extract_text_from_pdf(pdf_path, csv_output):\n",
    "    doc = fitz.open(pdf_path)  # Open the PDF\n",
    "    data = []\n",
    "\n",
    "    for page_num in range(len(doc)):  \n",
    "        text = doc[page_num].get_text(\"text\")  # Extract text from page\n",
    "        data.append([page_num + 1, text])  # Store page number and text\n",
    "    \n",
    "    # Convert to DataFrame\n",
    "    df = pd.DataFrame(data, columns=[\"Page\", \"Text\"])\n",
    "    \n",
    "    # Save to CSV\n",
    "    df.to_csv(csv_output, index=False, encoding='utf-8')\n",
    "\n",
    "# Example usage\n",
    "pdf_file = \"law_doc.pdf\"  # Replace with your PDF file path\n",
    "csv_output = \"Title18_Pages_converted.csv\"\n",
    "extract_text_from_pdf(pdf_file, csv_output)\n"
   ]
  },
  {
   "cell_type": "code",
   "execution_count": 1,
   "metadata": {},
   "outputs": [
    {
     "name": "stdout",
     "output_type": "stream",
     "text": [
      "   Page                                               Text\n",
      "0     1  6001\\nImmunity of Witnesses\\nV.\\n5001\\nCorrect...\n",
      "1     2  37\\n756, 3058\\n38\\nT. 22 §465\\n39\\n5, 3241\\n51...\n",
      "2     3  79\\n1003\\n80\\n287, 1001\\n81\\n289\\n82\\n641, 136...\n",
      "3     4  123\\n912\\n124\\n211\\n125\\n543\\n126\\n541\\n127\\n1...\n",
      "4     5  199\\n205\\n200\\n204\\n201\\n1913\\n202\\n216\\n203\\n...\n",
      "(1606, 2)\n"
     ]
    }
   ],
   "source": [
    "import pandas as pd\n",
    "df=pd.read_csv(\"Title18_Pages_converted.csv\", encoding='utf-8')\n",
    "\n",
    "print(df.head())  # Display the first few rows of the DataFrame\n",
    "print(df.shape)"
   ]
  },
  {
   "cell_type": "code",
   "execution_count": 6,
   "metadata": {},
   "outputs": [
    {
     "name": "stdout",
     "output_type": "stream",
     "text": [
      "1003\n",
      "§2332g. Missile systems designed to destroy aircraft\n",
      "(a) UNLAWFUL CONDUCT.—\n",
      "(1) \n",
      ".—Except as provided in paragraph (3), it shall be unlawful for any person to\n",
      "IN GENERAL\n",
      "knowingly produce, construct, otherwise acquire, transfer directly or indirectly, receive, possess,\n",
      "import, export, or use, or possess and threaten to use—\n",
      "(A) an explosive or incendiary rocket or missile that is guided by any system designed to\n",
      "enable the rocket or missile to—\n",
      "(i) seek or proceed toward energy radiated or reflected from an aircraft or toward an image\n",
      "locating an aircraft; or\n",
      "(ii) otherwise direct or guide the rocket or missile to an aircraft;\n",
      "(B) any device designed or intended to launch or guide a rocket or missile described in\n",
      "subparagraph (A); or\n",
      "(C) any part or combination of parts designed or redesigned for use in assembling or\n",
      "fabricating a rocket, missile, or device described in subparagraph (A) or (B).\n",
      "(2) \n",
      ".—Paragraph (1)(A) does not apply to any device that is neither designed\n",
      "NONWEAPON\n",
      "nor redesigned for use as a weapon.\n",
      "(3) \n",
      ".—This subsection does not apply with respect to—\n",
      "EXCLUDED CONDUCT\n",
      "(A) conduct by or under the authority of the United States or any department or agency\n",
      "thereof or of a State or any department or agency thereof; or\n",
      "(B) conduct pursuant to the terms of a contract with the United States or any department or\n",
      "agency thereof or with a State or any department or agency thereof.\n",
      "(b) \n",
      ".—Conduct prohibited by subsection (a) is within the jurisdiction of the\n",
      "JURISDICTION\n",
      "United States if—\n",
      "(1) the offense occurs in or affects interstate or foreign commerce;\n",
      "(2) the offense occurs outside of the United States and is committed by a national of the United\n",
      "States;\n",
      "(3) the offense is committed against a national of the United States while the national is outside\n",
      "the United States;\n",
      "(4) the offense is committed against any property that is owned, leased, or used by the United\n",
      "States or by any department or agency of the United States, whether the property is within or\n",
      "outside the United States; or\n",
      "(5) an offender aids or abets any person over whom jurisdiction exists under this subsection in\n",
      "committing an offense under this section or conspires with any person over whom jurisdiction\n",
      "exists under this subsection to commit an offense under this section.\n",
      "(c) CRIMINAL PENALTIES.—\n",
      "(1) \n",
      ".—Any person who violates, or attempts or conspires to violate, subsection\n",
      "IN GENERAL\n",
      "(a) shall be fined not more than $2,000,000 and shall be sentenced to a term of imprisonment not\n",
      "less than 25 years or to imprisonment for life.\n",
      "(2) \n",
      ".—Any person who, in the course of a violation of subsection\n",
      "OTHER CIRCUMSTANCES\n",
      "(a), uses, attempts or conspires to use, or possesses and threatens to use, any item or items\n",
      "described in subsection (a), shall be fined not more than $2,000,000 and imprisoned for not less\n",
      "than 30 years or imprisoned for life.\n",
      "(3) \n",
      ".—If the death of another results from a person's violation of\n",
      "SPECIAL CIRCUMSTANCES\n",
      "subsection (a), the person shall be fined not more than $2,000,000 and punished by imprisonment\n",
      "for life.\n",
      "(d) \n",
      ".—As used in this section, the term \"aircraft\" has the definition set forth in\n",
      "DEFINITION\n",
      "section 40102(a)(6) of title 49, United States Code.\n",
      "(Added Pub. L. 108–458, title VI, §6903, Dec. 17, 2004, 118 Stat. 3770.)\n",
      "[Release Point 118-78]\n",
      "\n"
     ]
    }
   ],
   "source": [
    "import random\n",
    "random_num= random.randint(0, 1606)\n",
    "print(df['Page'][random_num])\n",
    "print(df['Text'][random_num])"
   ]
  }
 ],
 "metadata": {
  "kernelspec": {
   "display_name": "Python 3",
   "language": "python",
   "name": "python3"
  },
  "language_info": {
   "codemirror_mode": {
    "name": "ipython",
    "version": 3
   },
   "file_extension": ".py",
   "mimetype": "text/x-python",
   "name": "python",
   "nbconvert_exporter": "python",
   "pygments_lexer": "ipython3",
   "version": "3.10.11"
  }
 },
 "nbformat": 4,
 "nbformat_minor": 2
}
