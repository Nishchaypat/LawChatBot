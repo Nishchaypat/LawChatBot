{
 "cells": [
  {
   "cell_type": "code",
   "execution_count": null,
   "metadata": {},
   "outputs": [],
   "source": [
    "\"\"\"\n",
    "In Retrieval-Augmented Generation (RAG), the term \"agentic\" refers to the ability of the retrieval-augmented model to actively control, adapt, and refine its retrieval and generation process rather than passively relying on a fixed retrieval mechanism. An agentic RAG system does more than simply fetch and generate responses; it dynamically decides what to retrieve, how to process retrieved information, and whether to refine queries to improve results.\n",
    "\n",
    "Key Aspects of Agentic RAG:\n",
    "Iterative Retrieval – The system can refine its search queries based on the initial retrieved results to get more relevant information.\n",
    "Self-Correction – The model can assess the quality of retrieved documents and decide to re-query or adjust its approach.\n",
    "Context-Aware Retrieval – Instead of retrieving a fixed set of documents, it considers the conversation flow or prior responses to optimize search.\n",
    "Adaptive Chunking – The system intelligently chunks retrieved content into more meaningful sections based on the query.\n",
    "Multi-Hop Reasoning – It can retrieve and combine multiple pieces of information from different sources to construct a more coherent response.\n",
    "This approach makes RAG systems more autonomous, efficient, and contextually aware, enhancing their ability to provide accurate, well-informed, and dynamically updated responses.\n",
    "\"\"\""
   ]
  },
  {
   "cell_type": "code",
   "execution_count": null,
   "metadata": {},
   "outputs": [],
   "source": [
    "!pip install -U voyageai"
   ]
  },
  {
   "cell_type": "code",
   "execution_count": 1,
   "metadata": {},
   "outputs": [],
   "source": [
    "import numpy as np\n",
    "import faiss\n",
    "from sklearn.metrics.pairwise import cosine_similarity"
   ]
  },
  {
   "cell_type": "code",
   "execution_count": 196,
   "metadata": {},
   "outputs": [
    {
     "name": "stdout",
     "output_type": "stream",
     "text": [
      "(1647, 5)\n",
      "Index(['Section', 'Url', 'Content', 'Metadata', 'Processed_Content'], dtype='object')\n",
      "Index(['Section', 'Url', 'Content', 'Metadata'], dtype='object')\n"
     ]
    }
   ],
   "source": [
    "import pandas as pd\n",
    "df=pd.read_csv(r'Title18_processed.csv', encoding='utf-8')\n",
    "df2=pd.read_csv(r'Title18_reprocessed.csv', encoding='utf-8')\n",
    "print(df.shape)\n",
    "print(df.columns)\n",
    "print(df2.columns)"
   ]
  },
  {
   "cell_type": "code",
   "execution_count": 225,
   "metadata": {},
   "outputs": [
    {
     "name": "stdout",
     "output_type": "stream",
     "text": [
      "1553\n",
      "3. Protective orders\n",
      "-------------------------------------------\n",
      "3. Protective orders\n",
      "\n"
     ]
    }
   ],
   "source": [
    "import random\n",
    "\n",
    "random_number = random.randint(1, 1647)  # Generates a random number between 1 and 100\n",
    "print(random_number)\n",
    "print(df['Section'][random_number])\n",
    "print(\"-------------------------------------------\")\n",
    "print(df2['Section'][random_number])\n",
    "#"
   ]
  },
  {
   "cell_type": "code",
   "execution_count": 19,
   "metadata": {},
   "outputs": [
    {
     "ename": "RateLimitError",
     "evalue": "You have not yet added your payment method in the billing page and will have reduced rate limits of 3 RPM and 10K TPM.  Please add your payment method in the billing page (https://dash.voyageai.com/billing/payment-methods) to unlock our standard rate limits (https://docs.voyageai.com/docs/rate-limits).  Even with payment methods entered, the free tokens (200M tokens for Voyage series 3) will still apply. See our pricing docs (https://docs.voyageai.com/docs/pricing) for the free tokens for your model.",
     "output_type": "error",
     "traceback": [
      "\u001b[1;31m---------------------------------------------------------------------------\u001b[0m",
      "\u001b[1;31mRateLimitError\u001b[0m                            Traceback (most recent call last)",
      "Cell \u001b[1;32mIn[19], line 11\u001b[0m\n\u001b[0;32m      8\u001b[0m vo \u001b[38;5;241m=\u001b[39m voyageai\u001b[38;5;241m.\u001b[39mClient()\n\u001b[0;32m     10\u001b[0m \u001b[38;5;66;03m# Test embedding\u001b[39;00m\n\u001b[1;32m---> 11\u001b[0m result \u001b[38;5;241m=\u001b[39m \u001b[43mvo\u001b[49m\u001b[38;5;241;43m.\u001b[39;49m\u001b[43membed\u001b[49m\u001b[43m(\u001b[49m\u001b[43m[\u001b[49m\u001b[38;5;124;43m\"\u001b[39;49m\u001b[38;5;124;43mhello world\u001b[39;49m\u001b[38;5;124;43m\"\u001b[39;49m\u001b[43m]\u001b[49m\u001b[43m,\u001b[49m\u001b[43m \u001b[49m\u001b[43mmodel\u001b[49m\u001b[38;5;241;43m=\u001b[39;49m\u001b[38;5;124;43m\"\u001b[39;49m\u001b[38;5;124;43mvoyage-3\u001b[39;49m\u001b[38;5;124;43m\"\u001b[39;49m\u001b[43m)\u001b[49m\n\u001b[0;32m     12\u001b[0m \u001b[38;5;28mprint\u001b[39m(result)\n",
      "File \u001b[1;32m~\\AppData\\Local\\Packages\\PythonSoftwareFoundation.Python.3.10_qbz5n2kfra8p0\\LocalCache\\local-packages\\Python310\\site-packages\\voyageai\\client.py:65\u001b[0m, in \u001b[0;36mClient.embed\u001b[1;34m(self, texts, model, input_type, truncation, output_dtype, output_dimension)\u001b[0m\n\u001b[0;32m     57\u001b[0m     model \u001b[38;5;241m=\u001b[39m voyageai\u001b[38;5;241m.\u001b[39mVOYAGE_EMBED_DEFAULT_MODEL\n\u001b[0;32m     58\u001b[0m     warnings\u001b[38;5;241m.\u001b[39mwarn(\n\u001b[0;32m     59\u001b[0m         \u001b[38;5;124mf\u001b[39m\u001b[38;5;124m\"\u001b[39m\u001b[38;5;124mThe `model` argument is not specified and defaults to \u001b[39m\u001b[38;5;132;01m{\u001b[39;00mvoyageai\u001b[38;5;241m.\u001b[39mVOYAGE_EMBED_DEFAULT_MODEL\u001b[38;5;132;01m}\u001b[39;00m\u001b[38;5;124m. \u001b[39m\u001b[38;5;124m\"\u001b[39m\n\u001b[0;32m     60\u001b[0m         \u001b[38;5;124m\"\u001b[39m\u001b[38;5;124mIt will be a required argument in the future. We recommend to specify the model when using this \u001b[39m\u001b[38;5;124m\"\u001b[39m\n\u001b[0;32m     61\u001b[0m         \u001b[38;5;124m\"\u001b[39m\u001b[38;5;124mfunction. Please see https://docs.voyageai.com/docs/embeddings for the list of latest models \u001b[39m\u001b[38;5;124m\"\u001b[39m\n\u001b[0;32m     62\u001b[0m         \u001b[38;5;124m\"\u001b[39m\u001b[38;5;124mprovided by Voyage AI.\u001b[39m\u001b[38;5;124m\"\u001b[39m\n\u001b[0;32m     63\u001b[0m     )\n\u001b[1;32m---> 65\u001b[0m \u001b[38;5;28;01mfor\u001b[39;00m attempt \u001b[38;5;129;01min\u001b[39;00m \u001b[38;5;28mself\u001b[39m\u001b[38;5;241m.\u001b[39mretry_controller:\n\u001b[0;32m     66\u001b[0m     \u001b[38;5;28;01mwith\u001b[39;00m attempt:\n\u001b[0;32m     67\u001b[0m         response \u001b[38;5;241m=\u001b[39m voyageai\u001b[38;5;241m.\u001b[39mEmbedding\u001b[38;5;241m.\u001b[39mcreate(\n\u001b[0;32m     68\u001b[0m             \u001b[38;5;28minput\u001b[39m\u001b[38;5;241m=\u001b[39mtexts,\n\u001b[0;32m     69\u001b[0m             model\u001b[38;5;241m=\u001b[39mmodel,\n\u001b[1;32m   (...)\u001b[0m\n\u001b[0;32m     74\u001b[0m             \u001b[38;5;241m*\u001b[39m\u001b[38;5;241m*\u001b[39m\u001b[38;5;28mself\u001b[39m\u001b[38;5;241m.\u001b[39m_params,\n\u001b[0;32m     75\u001b[0m         )\n",
      "File \u001b[1;32m~\\AppData\\Local\\Packages\\PythonSoftwareFoundation.Python.3.10_qbz5n2kfra8p0\\LocalCache\\local-packages\\Python310\\site-packages\\tenacity\\__init__.py:443\u001b[0m, in \u001b[0;36mBaseRetrying.__iter__\u001b[1;34m(self)\u001b[0m\n\u001b[0;32m    441\u001b[0m retry_state \u001b[38;5;241m=\u001b[39m RetryCallState(\u001b[38;5;28mself\u001b[39m, fn\u001b[38;5;241m=\u001b[39m\u001b[38;5;28;01mNone\u001b[39;00m, args\u001b[38;5;241m=\u001b[39m(), kwargs\u001b[38;5;241m=\u001b[39m{})\n\u001b[0;32m    442\u001b[0m \u001b[38;5;28;01mwhile\u001b[39;00m \u001b[38;5;28;01mTrue\u001b[39;00m:\n\u001b[1;32m--> 443\u001b[0m     do \u001b[38;5;241m=\u001b[39m \u001b[38;5;28;43mself\u001b[39;49m\u001b[38;5;241;43m.\u001b[39;49m\u001b[43miter\u001b[49m\u001b[43m(\u001b[49m\u001b[43mretry_state\u001b[49m\u001b[38;5;241;43m=\u001b[39;49m\u001b[43mretry_state\u001b[49m\u001b[43m)\u001b[49m\n\u001b[0;32m    444\u001b[0m     \u001b[38;5;28;01mif\u001b[39;00m \u001b[38;5;28misinstance\u001b[39m(do, DoAttempt):\n\u001b[0;32m    445\u001b[0m         \u001b[38;5;28;01myield\u001b[39;00m AttemptManager(retry_state\u001b[38;5;241m=\u001b[39mretry_state)\n",
      "File \u001b[1;32m~\\AppData\\Local\\Packages\\PythonSoftwareFoundation.Python.3.10_qbz5n2kfra8p0\\LocalCache\\local-packages\\Python310\\site-packages\\tenacity\\__init__.py:376\u001b[0m, in \u001b[0;36mBaseRetrying.iter\u001b[1;34m(self, retry_state)\u001b[0m\n\u001b[0;32m    374\u001b[0m result \u001b[38;5;241m=\u001b[39m \u001b[38;5;28;01mNone\u001b[39;00m\n\u001b[0;32m    375\u001b[0m \u001b[38;5;28;01mfor\u001b[39;00m action \u001b[38;5;129;01min\u001b[39;00m \u001b[38;5;28mself\u001b[39m\u001b[38;5;241m.\u001b[39miter_state\u001b[38;5;241m.\u001b[39mactions:\n\u001b[1;32m--> 376\u001b[0m     result \u001b[38;5;241m=\u001b[39m \u001b[43maction\u001b[49m\u001b[43m(\u001b[49m\u001b[43mretry_state\u001b[49m\u001b[43m)\u001b[49m\n\u001b[0;32m    377\u001b[0m \u001b[38;5;28;01mreturn\u001b[39;00m result\n",
      "File \u001b[1;32m~\\AppData\\Local\\Packages\\PythonSoftwareFoundation.Python.3.10_qbz5n2kfra8p0\\LocalCache\\local-packages\\Python310\\site-packages\\tenacity\\__init__.py:418\u001b[0m, in \u001b[0;36mBaseRetrying._post_stop_check_actions.<locals>.exc_check\u001b[1;34m(rs)\u001b[0m\n\u001b[0;32m    416\u001b[0m retry_exc \u001b[38;5;241m=\u001b[39m \u001b[38;5;28mself\u001b[39m\u001b[38;5;241m.\u001b[39mretry_error_cls(fut)\n\u001b[0;32m    417\u001b[0m \u001b[38;5;28;01mif\u001b[39;00m \u001b[38;5;28mself\u001b[39m\u001b[38;5;241m.\u001b[39mreraise:\n\u001b[1;32m--> 418\u001b[0m     \u001b[38;5;28;01mraise\u001b[39;00m \u001b[43mretry_exc\u001b[49m\u001b[38;5;241;43m.\u001b[39;49m\u001b[43mreraise\u001b[49m\u001b[43m(\u001b[49m\u001b[43m)\u001b[49m\n\u001b[0;32m    419\u001b[0m \u001b[38;5;28;01mraise\u001b[39;00m retry_exc \u001b[38;5;28;01mfrom\u001b[39;00m \u001b[38;5;21;01mfut\u001b[39;00m\u001b[38;5;21;01m.\u001b[39;00m\u001b[38;5;21;01mexception\u001b[39;00m()\n",
      "File \u001b[1;32m~\\AppData\\Local\\Packages\\PythonSoftwareFoundation.Python.3.10_qbz5n2kfra8p0\\LocalCache\\local-packages\\Python310\\site-packages\\tenacity\\__init__.py:185\u001b[0m, in \u001b[0;36mRetryError.reraise\u001b[1;34m(self)\u001b[0m\n\u001b[0;32m    183\u001b[0m \u001b[38;5;28;01mdef\u001b[39;00m \u001b[38;5;21mreraise\u001b[39m(\u001b[38;5;28mself\u001b[39m) \u001b[38;5;241m-\u001b[39m\u001b[38;5;241m>\u001b[39m t\u001b[38;5;241m.\u001b[39mNoReturn:\n\u001b[0;32m    184\u001b[0m     \u001b[38;5;28;01mif\u001b[39;00m \u001b[38;5;28mself\u001b[39m\u001b[38;5;241m.\u001b[39mlast_attempt\u001b[38;5;241m.\u001b[39mfailed:\n\u001b[1;32m--> 185\u001b[0m         \u001b[38;5;28;01mraise\u001b[39;00m \u001b[38;5;28;43mself\u001b[39;49m\u001b[38;5;241;43m.\u001b[39;49m\u001b[43mlast_attempt\u001b[49m\u001b[38;5;241;43m.\u001b[39;49m\u001b[43mresult\u001b[49m\u001b[43m(\u001b[49m\u001b[43m)\u001b[49m\n\u001b[0;32m    186\u001b[0m     \u001b[38;5;28;01mraise\u001b[39;00m \u001b[38;5;28mself\u001b[39m\n",
      "File \u001b[1;32mC:\\Program Files\\WindowsApps\\PythonSoftwareFoundation.Python.3.10_3.10.3056.0_x64__qbz5n2kfra8p0\\lib\\concurrent\\futures\\_base.py:451\u001b[0m, in \u001b[0;36mFuture.result\u001b[1;34m(self, timeout)\u001b[0m\n\u001b[0;32m    449\u001b[0m     \u001b[38;5;28;01mraise\u001b[39;00m CancelledError()\n\u001b[0;32m    450\u001b[0m \u001b[38;5;28;01melif\u001b[39;00m \u001b[38;5;28mself\u001b[39m\u001b[38;5;241m.\u001b[39m_state \u001b[38;5;241m==\u001b[39m FINISHED:\n\u001b[1;32m--> 451\u001b[0m     \u001b[38;5;28;01mreturn\u001b[39;00m \u001b[38;5;28;43mself\u001b[39;49m\u001b[38;5;241;43m.\u001b[39;49m\u001b[43m__get_result\u001b[49m\u001b[43m(\u001b[49m\u001b[43m)\u001b[49m\n\u001b[0;32m    453\u001b[0m \u001b[38;5;28mself\u001b[39m\u001b[38;5;241m.\u001b[39m_condition\u001b[38;5;241m.\u001b[39mwait(timeout)\n\u001b[0;32m    455\u001b[0m \u001b[38;5;28;01mif\u001b[39;00m \u001b[38;5;28mself\u001b[39m\u001b[38;5;241m.\u001b[39m_state \u001b[38;5;129;01min\u001b[39;00m [CANCELLED, CANCELLED_AND_NOTIFIED]:\n",
      "File \u001b[1;32mC:\\Program Files\\WindowsApps\\PythonSoftwareFoundation.Python.3.10_3.10.3056.0_x64__qbz5n2kfra8p0\\lib\\concurrent\\futures\\_base.py:403\u001b[0m, in \u001b[0;36mFuture.__get_result\u001b[1;34m(self)\u001b[0m\n\u001b[0;32m    401\u001b[0m \u001b[38;5;28;01mif\u001b[39;00m \u001b[38;5;28mself\u001b[39m\u001b[38;5;241m.\u001b[39m_exception:\n\u001b[0;32m    402\u001b[0m     \u001b[38;5;28;01mtry\u001b[39;00m:\n\u001b[1;32m--> 403\u001b[0m         \u001b[38;5;28;01mraise\u001b[39;00m \u001b[38;5;28mself\u001b[39m\u001b[38;5;241m.\u001b[39m_exception\n\u001b[0;32m    404\u001b[0m     \u001b[38;5;28;01mfinally\u001b[39;00m:\n\u001b[0;32m    405\u001b[0m         \u001b[38;5;66;03m# Break a reference cycle with the exception in self._exception\u001b[39;00m\n\u001b[0;32m    406\u001b[0m         \u001b[38;5;28mself\u001b[39m \u001b[38;5;241m=\u001b[39m \u001b[38;5;28;01mNone\u001b[39;00m\n",
      "File \u001b[1;32m~\\AppData\\Local\\Packages\\PythonSoftwareFoundation.Python.3.10_qbz5n2kfra8p0\\LocalCache\\local-packages\\Python310\\site-packages\\voyageai\\client.py:67\u001b[0m, in \u001b[0;36mClient.embed\u001b[1;34m(self, texts, model, input_type, truncation, output_dtype, output_dimension)\u001b[0m\n\u001b[0;32m     65\u001b[0m \u001b[38;5;28;01mfor\u001b[39;00m attempt \u001b[38;5;129;01min\u001b[39;00m \u001b[38;5;28mself\u001b[39m\u001b[38;5;241m.\u001b[39mretry_controller:\n\u001b[0;32m     66\u001b[0m     \u001b[38;5;28;01mwith\u001b[39;00m attempt:\n\u001b[1;32m---> 67\u001b[0m         response \u001b[38;5;241m=\u001b[39m voyageai\u001b[38;5;241m.\u001b[39mEmbedding\u001b[38;5;241m.\u001b[39mcreate(\n\u001b[0;32m     68\u001b[0m             \u001b[38;5;28minput\u001b[39m\u001b[38;5;241m=\u001b[39mtexts,\n\u001b[0;32m     69\u001b[0m             model\u001b[38;5;241m=\u001b[39mmodel,\n\u001b[0;32m     70\u001b[0m             input_type\u001b[38;5;241m=\u001b[39minput_type,\n\u001b[0;32m     71\u001b[0m             truncation\u001b[38;5;241m=\u001b[39mtruncation,\n\u001b[0;32m     72\u001b[0m             output_dtype\u001b[38;5;241m=\u001b[39moutput_dtype,\n\u001b[0;32m     73\u001b[0m             output_dimension\u001b[38;5;241m=\u001b[39moutput_dimension,\n\u001b[0;32m     74\u001b[0m             \u001b[38;5;241m*\u001b[39m\u001b[38;5;241m*\u001b[39m\u001b[38;5;28mself\u001b[39m\u001b[38;5;241m.\u001b[39m_params,\n\u001b[0;32m     75\u001b[0m         )\n\u001b[0;32m     77\u001b[0m result \u001b[38;5;241m=\u001b[39m EmbeddingsObject(response)\n\u001b[0;32m     78\u001b[0m \u001b[38;5;28;01mreturn\u001b[39;00m result\n",
      "File \u001b[1;32m~\\AppData\\Local\\Packages\\PythonSoftwareFoundation.Python.3.10_qbz5n2kfra8p0\\LocalCache\\local-packages\\Python310\\site-packages\\voyageai\\api_resources\\embedding.py:20\u001b[0m, in \u001b[0;36mEmbedding.create\u001b[1;34m(cls, *args, **kwargs)\u001b[0m\n\u001b[0;32m     17\u001b[0m \u001b[38;5;28;01mif\u001b[39;00m \u001b[38;5;129;01mnot\u001b[39;00m user_provided_encoding_format:\n\u001b[0;32m     18\u001b[0m     kwargs[\u001b[38;5;124m\"\u001b[39m\u001b[38;5;124mencoding_format\u001b[39m\u001b[38;5;124m\"\u001b[39m] \u001b[38;5;241m=\u001b[39m \u001b[38;5;124m\"\u001b[39m\u001b[38;5;124mbase64\u001b[39m\u001b[38;5;124m\"\u001b[39m\n\u001b[1;32m---> 20\u001b[0m response \u001b[38;5;241m=\u001b[39m \u001b[38;5;28msuper\u001b[39m()\u001b[38;5;241m.\u001b[39mcreate(\u001b[38;5;241m*\u001b[39margs, \u001b[38;5;241m*\u001b[39m\u001b[38;5;241m*\u001b[39mkwargs)\n\u001b[0;32m     22\u001b[0m \u001b[38;5;66;03m# If a user specifies base64, we'll just return the encoded string.\u001b[39;00m\n\u001b[0;32m     23\u001b[0m \u001b[38;5;66;03m# This is only for the default case.\u001b[39;00m\n\u001b[0;32m     24\u001b[0m \u001b[38;5;28;01mif\u001b[39;00m \u001b[38;5;129;01mnot\u001b[39;00m user_provided_encoding_format:\n",
      "File \u001b[1;32m~\\AppData\\Local\\Packages\\PythonSoftwareFoundation.Python.3.10_qbz5n2kfra8p0\\LocalCache\\local-packages\\Python310\\site-packages\\voyageai\\api_resources\\api_resource.py:47\u001b[0m, in \u001b[0;36mAPIResource.create\u001b[1;34m(cls, api_key, api_base, request_id, request_timeout, **params)\u001b[0m\n\u001b[0;32m     34\u001b[0m \u001b[38;5;129m@classmethod\u001b[39m\n\u001b[0;32m     35\u001b[0m \u001b[38;5;28;01mdef\u001b[39;00m \u001b[38;5;21mcreate\u001b[39m(\n\u001b[0;32m     36\u001b[0m     \u001b[38;5;28mcls\u001b[39m,\n\u001b[1;32m   (...)\u001b[0m\n\u001b[0;32m     41\u001b[0m     \u001b[38;5;241m*\u001b[39m\u001b[38;5;241m*\u001b[39mparams,\n\u001b[0;32m     42\u001b[0m ):\n\u001b[0;32m     43\u001b[0m     requestor, url, params, headers \u001b[38;5;241m=\u001b[39m \u001b[38;5;28mcls\u001b[39m\u001b[38;5;241m.\u001b[39m__prepare_create_request(\n\u001b[0;32m     44\u001b[0m         api_key, api_base, \u001b[38;5;241m*\u001b[39m\u001b[38;5;241m*\u001b[39mparams\n\u001b[0;32m     45\u001b[0m     )\n\u001b[1;32m---> 47\u001b[0m     response \u001b[38;5;241m=\u001b[39m \u001b[43mrequestor\u001b[49m\u001b[38;5;241;43m.\u001b[39;49m\u001b[43mrequest\u001b[49m\u001b[43m(\u001b[49m\n\u001b[0;32m     48\u001b[0m \u001b[43m        \u001b[49m\u001b[38;5;124;43m\"\u001b[39;49m\u001b[38;5;124;43mpost\u001b[39;49m\u001b[38;5;124;43m\"\u001b[39;49m\u001b[43m,\u001b[49m\n\u001b[0;32m     49\u001b[0m \u001b[43m        \u001b[49m\u001b[43murl\u001b[49m\u001b[43m,\u001b[49m\n\u001b[0;32m     50\u001b[0m \u001b[43m        \u001b[49m\u001b[43mparams\u001b[49m\u001b[38;5;241;43m=\u001b[39;49m\u001b[43mparams\u001b[49m\u001b[43m,\u001b[49m\n\u001b[0;32m     51\u001b[0m \u001b[43m        \u001b[49m\u001b[43mheaders\u001b[49m\u001b[38;5;241;43m=\u001b[39;49m\u001b[43mheaders\u001b[49m\u001b[43m,\u001b[49m\n\u001b[0;32m     52\u001b[0m \u001b[43m        \u001b[49m\u001b[43mrequest_id\u001b[49m\u001b[38;5;241;43m=\u001b[39;49m\u001b[43mrequest_id\u001b[49m\u001b[43m,\u001b[49m\n\u001b[0;32m     53\u001b[0m \u001b[43m        \u001b[49m\u001b[43mrequest_timeout\u001b[49m\u001b[38;5;241;43m=\u001b[39;49m\u001b[43mrequest_timeout\u001b[49m\u001b[43m,\u001b[49m\n\u001b[0;32m     54\u001b[0m \u001b[43m    \u001b[49m\u001b[43m)\u001b[49m\n\u001b[0;32m     56\u001b[0m     obj \u001b[38;5;241m=\u001b[39m convert_to_voyage_response(response)\n\u001b[0;32m     57\u001b[0m     \u001b[38;5;28;01mreturn\u001b[39;00m obj\n",
      "File \u001b[1;32m~\\AppData\\Local\\Packages\\PythonSoftwareFoundation.Python.3.10_qbz5n2kfra8p0\\LocalCache\\local-packages\\Python310\\site-packages\\voyageai\\api_resources\\api_requestor.py:147\u001b[0m, in \u001b[0;36mAPIRequestor.request\u001b[1;34m(self, method, url, params, headers, files, stream, request_id, request_timeout)\u001b[0m\n\u001b[0;32m    126\u001b[0m \u001b[38;5;28;01mdef\u001b[39;00m \u001b[38;5;21mrequest\u001b[39m(\n\u001b[0;32m    127\u001b[0m     \u001b[38;5;28mself\u001b[39m,\n\u001b[0;32m    128\u001b[0m     method,\n\u001b[1;32m   (...)\u001b[0m\n\u001b[0;32m    135\u001b[0m     request_timeout: Optional[Union[\u001b[38;5;28mfloat\u001b[39m, Tuple[\u001b[38;5;28mfloat\u001b[39m, \u001b[38;5;28mfloat\u001b[39m]]] \u001b[38;5;241m=\u001b[39m \u001b[38;5;28;01mNone\u001b[39;00m,\n\u001b[0;32m    136\u001b[0m ) \u001b[38;5;241m-\u001b[39m\u001b[38;5;241m>\u001b[39m VoyageHttpResponse:\n\u001b[0;32m    137\u001b[0m     result \u001b[38;5;241m=\u001b[39m \u001b[38;5;28mself\u001b[39m\u001b[38;5;241m.\u001b[39mrequest_raw(\n\u001b[0;32m    138\u001b[0m         method\u001b[38;5;241m.\u001b[39mlower(),\n\u001b[0;32m    139\u001b[0m         url,\n\u001b[1;32m   (...)\u001b[0m\n\u001b[0;32m    145\u001b[0m         request_timeout\u001b[38;5;241m=\u001b[39mrequest_timeout,\n\u001b[0;32m    146\u001b[0m     )\n\u001b[1;32m--> 147\u001b[0m     resp \u001b[38;5;241m=\u001b[39m \u001b[38;5;28;43mself\u001b[39;49m\u001b[38;5;241;43m.\u001b[39;49m\u001b[43m_interpret_response\u001b[49m\u001b[43m(\u001b[49m\u001b[43mresult\u001b[49m\u001b[43m)\u001b[49m\n\u001b[0;32m    148\u001b[0m     \u001b[38;5;28;01mreturn\u001b[39;00m resp\n",
      "File \u001b[1;32m~\\AppData\\Local\\Packages\\PythonSoftwareFoundation.Python.3.10_qbz5n2kfra8p0\\LocalCache\\local-packages\\Python310\\site-packages\\voyageai\\api_resources\\api_requestor.py:408\u001b[0m, in \u001b[0;36mAPIRequestor._interpret_response\u001b[1;34m(self, result)\u001b[0m\n\u001b[0;32m    405\u001b[0m \u001b[38;5;28;01mdef\u001b[39;00m \u001b[38;5;21m_interpret_response\u001b[39m(\u001b[38;5;28mself\u001b[39m, result: requests\u001b[38;5;241m.\u001b[39mResponse) \u001b[38;5;241m-\u001b[39m\u001b[38;5;241m>\u001b[39m VoyageHttpResponse:\n\u001b[0;32m    406\u001b[0m \u001b[38;5;250m    \u001b[39m\u001b[38;5;124;03m\"\"\"Returns the response(s) and a bool indicating whether it is a stream.\"\"\"\u001b[39;00m\n\u001b[1;32m--> 408\u001b[0m     \u001b[38;5;28;01mreturn\u001b[39;00m \u001b[38;5;28;43mself\u001b[39;49m\u001b[38;5;241;43m.\u001b[39;49m\u001b[43m_interpret_response_line\u001b[49m\u001b[43m(\u001b[49m\n\u001b[0;32m    409\u001b[0m \u001b[43m        \u001b[49m\u001b[43mresult\u001b[49m\u001b[38;5;241;43m.\u001b[39;49m\u001b[43mcontent\u001b[49m\u001b[38;5;241;43m.\u001b[39;49m\u001b[43mdecode\u001b[49m\u001b[43m(\u001b[49m\u001b[38;5;124;43m\"\u001b[39;49m\u001b[38;5;124;43mutf-8\u001b[39;49m\u001b[38;5;124;43m\"\u001b[39;49m\u001b[43m)\u001b[49m\u001b[43m,\u001b[49m\n\u001b[0;32m    410\u001b[0m \u001b[43m        \u001b[49m\u001b[43mresult\u001b[49m\u001b[38;5;241;43m.\u001b[39;49m\u001b[43mstatus_code\u001b[49m\u001b[43m,\u001b[49m\n\u001b[0;32m    411\u001b[0m \u001b[43m        \u001b[49m\u001b[43mresult\u001b[49m\u001b[38;5;241;43m.\u001b[39;49m\u001b[43mheaders\u001b[49m\u001b[43m,\u001b[49m\n\u001b[0;32m    412\u001b[0m \u001b[43m    \u001b[49m\u001b[43m)\u001b[49m\n",
      "File \u001b[1;32m~\\AppData\\Local\\Packages\\PythonSoftwareFoundation.Python.3.10_qbz5n2kfra8p0\\LocalCache\\local-packages\\Python310\\site-packages\\voyageai\\api_resources\\api_requestor.py:463\u001b[0m, in \u001b[0;36mAPIRequestor._interpret_response_line\u001b[1;34m(self, rbody, rcode, rheaders)\u001b[0m\n\u001b[0;32m    461\u001b[0m resp \u001b[38;5;241m=\u001b[39m VoyageHttpResponse(data, rheaders)\n\u001b[0;32m    462\u001b[0m \u001b[38;5;28;01mif\u001b[39;00m \u001b[38;5;241m400\u001b[39m \u001b[38;5;241m<\u001b[39m\u001b[38;5;241m=\u001b[39m rcode \u001b[38;5;241m<\u001b[39m \u001b[38;5;241m500\u001b[39m:\n\u001b[1;32m--> 463\u001b[0m     \u001b[38;5;28;01mraise\u001b[39;00m \u001b[38;5;28mself\u001b[39m\u001b[38;5;241m.\u001b[39mhandle_error_response(rbody, rcode, resp\u001b[38;5;241m.\u001b[39mdata, rheaders)\n\u001b[0;32m    464\u001b[0m \u001b[38;5;28;01mreturn\u001b[39;00m resp\n",
      "\u001b[1;31mRateLimitError\u001b[0m: You have not yet added your payment method in the billing page and will have reduced rate limits of 3 RPM and 10K TPM.  Please add your payment method in the billing page (https://dash.voyageai.com/billing/payment-methods) to unlock our standard rate limits (https://docs.voyageai.com/docs/rate-limits).  Even with payment methods entered, the free tokens (200M tokens for Voyage series 3) will still apply. See our pricing docs (https://docs.voyageai.com/docs/pricing) for the free tokens for your model."
     ]
    }
   ],
   "source": [
    "import voyageai\n",
    "import os\n",
    "import dotenv\n",
    "\n",
    "# Load environment variables from .env file\n",
    "dotenv.load_dotenv()\n",
    "\n",
    "vo = voyageai.Client()\n",
    "\n",
    "# Test embedding\n",
    "result = vo.embed([\"hello world\"], model=\"voyage-3\")\n",
    "print(result)\n"
   ]
  },
  {
   "cell_type": "code",
   "execution_count": 20,
   "metadata": {},
   "outputs": [
    {
     "name": "stderr",
     "output_type": "stream",
     "text": [
      "No sentence-transformers model found with name pile-of-law/legalbert-large-1.7M-2. Creating a new one with MEAN pooling.\n"
     ]
    },
    {
     "data": {
      "application/vnd.jupyter.widget-view+json": {
       "model_id": "fc27433ddeae4c2b8ac4d2a98f4e1707",
       "version_major": 2,
       "version_minor": 0
      },
      "text/plain": [
       "config.json:   0%|          | 0.00/589 [00:00<?, ?B/s]"
      ]
     },
     "metadata": {},
     "output_type": "display_data"
    },
    {
     "name": "stderr",
     "output_type": "stream",
     "text": [
      "C:\\Users\\mkolla1\\AppData\\Local\\Packages\\PythonSoftwareFoundation.Python.3.10_qbz5n2kfra8p0\\LocalCache\\local-packages\\Python310\\site-packages\\huggingface_hub\\file_download.py:139: UserWarning: `huggingface_hub` cache-system uses symlinks by default to efficiently store duplicated files but your machine does not support them in C:\\Users\\mkolla1\\.cache\\huggingface\\hub\\models--pile-of-law--legalbert-large-1.7M-2. Caching files will still work but in a degraded version that might require more space on your disk. This warning can be disabled by setting the `HF_HUB_DISABLE_SYMLINKS_WARNING` environment variable. For more details, see https://huggingface.co/docs/huggingface_hub/how-to-cache#limitations.\n",
      "To support symlinks on Windows, you either need to activate Developer Mode or to run Python as an administrator. In order to activate developer mode, see this article: https://docs.microsoft.com/en-us/windows/apps/get-started/enable-your-device-for-development\n",
      "  warnings.warn(message)\n"
     ]
    },
    {
     "data": {
      "application/vnd.jupyter.widget-view+json": {
       "model_id": "bb4d9c1f941f4718a897580206e01ec3",
       "version_major": 2,
       "version_minor": 0
      },
      "text/plain": [
       "pytorch_model.bin:   0%|          | 0.00/1.35G [00:00<?, ?B/s]"
      ]
     },
     "metadata": {},
     "output_type": "display_data"
    },
    {
     "name": "stderr",
     "output_type": "stream",
     "text": [
      "C:\\Users\\mkolla1\\AppData\\Local\\Packages\\PythonSoftwareFoundation.Python.3.10_qbz5n2kfra8p0\\LocalCache\\local-packages\\Python310\\site-packages\\torch\\_utils.py:831: UserWarning: TypedStorage is deprecated. It will be removed in the future and UntypedStorage will be the only storage class. This should only matter to you if you are using storages directly.  To access UntypedStorage directly, use tensor.untyped_storage() instead of tensor.storage()\n",
      "  return self.fget.__get__(instance, owner)()\n"
     ]
    },
    {
     "data": {
      "application/vnd.jupyter.widget-view+json": {
       "model_id": "848618690ce34185a803dc764e6be4a2",
       "version_major": 2,
       "version_minor": 0
      },
      "text/plain": [
       "tokenizer_config.json:   0%|          | 0.00/254 [00:00<?, ?B/s]"
      ]
     },
     "metadata": {},
     "output_type": "display_data"
    },
    {
     "data": {
      "application/vnd.jupyter.widget-view+json": {
       "model_id": "a9a4be2d8f2744ddb9d93c1c9051b49b",
       "version_major": 2,
       "version_minor": 0
      },
      "text/plain": [
       "vocab.txt:   0%|          | 0.00/238k [00:00<?, ?B/s]"
      ]
     },
     "metadata": {},
     "output_type": "display_data"
    },
    {
     "data": {
      "application/vnd.jupyter.widget-view+json": {
       "model_id": "26be1484702c4019a093de38cc57f315",
       "version_major": 2,
       "version_minor": 0
      },
      "text/plain": [
       "model.safetensors:   0%|          | 0.00/1.35G [00:00<?, ?B/s]"
      ]
     },
     "metadata": {},
     "output_type": "display_data"
    }
   ],
   "source": [
    "from sentence_transformers import SentenceTransformer\n",
    "\n",
    "# initialize sentence transformer model\n",
    "model = SentenceTransformer('pile-of-law/legalbert-large-1.7M-2')"
   ]
  },
  {
   "cell_type": "code",
   "execution_count": 25,
   "metadata": {},
   "outputs": [
    {
     "name": "stdout",
     "output_type": "stream",
     "text": [
      "tensor([[[-1.7574, -1.1169,  0.2101,  ..., -0.8277,  0.5690, -0.6633],\n",
      "         [ 0.7162,  0.6218,  0.3411,  ...,  0.5368,  0.3713,  0.7100],\n",
      "         [ 0.7752, -0.4015, -1.4968,  ..., -0.5067, -0.5794,  0.6381],\n",
      "         ...,\n",
      "         [ 0.5287,  0.1446, -1.0229,  ...,  0.3650, -0.4353, -1.8710],\n",
      "         [-1.4724, -0.4680,  0.1470,  ...,  0.0874,  0.4158, -0.9055],\n",
      "         [-2.0053, -0.9834,  0.0132,  ..., -0.8461,  0.2896, -0.4789]]],\n",
      "       grad_fn=<NativeLayerNormBackward0>)\n"
     ]
    }
   ],
   "source": [
    "from transformers import BertTokenizer, BertModel\n",
    "tokenizer = BertTokenizer.from_pretrained('pile-of-law/legalbert-large-1.7M-2')\n",
    "model = BertModel.from_pretrained('pile-of-law/legalbert-large-1.7M-2')\n",
    "text = \"Replace me by any text you'd like.\"\n",
    "encoded_input = tokenizer(text, return_tensors='pt')\n",
    "output = model(**encoded_input)\n",
    "print(output.last_hidden_state)\n"
   ]
  },
  {
   "cell_type": "code",
   "execution_count": 55,
   "metadata": {},
   "outputs": [
    {
     "name": "stdout",
     "output_type": "stream",
     "text": [
      "FAISS index and section mapping saved successfully!\n"
     ]
    }
   ],
   "source": [
    "import pandas as pd\n",
    "import torch\n",
    "import faiss\n",
    "import pickle\n",
    "from transformers import BertTokenizer, BertModel\n",
    "\n",
    "\n",
    "# Function to generate embeddings\n",
    "def get_embedding(text):\n",
    "    encoded_input = tokenizer(text, return_tensors=\"pt\", truncation=True, max_length=512)\n",
    "    with torch.no_grad():\n",
    "        output = model(**encoded_input)\n",
    "    return output.last_hidden_state[:, 0, :].squeeze().numpy()  # Use [CLS] token embedding\n",
    "\n",
    "# Convert all content into embeddings\n",
    "embeddings = [get_embedding(content) for content in df[\"Content\"]]\n",
    "embeddings = torch.tensor(embeddings).numpy()\n",
    "\n",
    "# Initialize FAISS index\n",
    "d = embeddings.shape[1]  # Dimension of embeddings\n",
    "index = faiss.IndexFlatL2(d)  # L2 (Euclidean) distance index\n",
    "index.add(embeddings)  # Add all embeddings\n",
    "\n",
    "# Save FAISS index\n",
    "faiss.write_index(index, \"faiss_index.bin\")\n",
    "\n",
    "# Save Section-Index mapping\n",
    "section_mapping = {i: section for i, section in enumerate(df[\"Section\"])}\n",
    "with open(\"section_mapping.pkl\", \"wb\") as f:\n",
    "    pickle.dump(section_mapping, f)\n",
    "\n",
    "print(\"FAISS index and section mapping saved successfully!\")\n"
   ]
  },
  {
   "cell_type": "code",
   "execution_count": 56,
   "metadata": {},
   "outputs": [
    {
     "name": "stdout",
     "output_type": "stream",
     "text": [
      "FAISS index and data mapping saved successfully!\n"
     ]
    }
   ],
   "source": [
    "# Create a dictionary mapping each index to Section, Metadata, and Url\n",
    "data_mapping = {i: {\"Section\": df[\"Section\"][i], \"Metadata\": df[\"Metadata\"][i], \"Url\": df[\"Url\"][i]} for i in range(len(df))}\n",
    "\n",
    "# Save mapping dictionary\n",
    "with open(\"data_mapping.pkl\", \"wb\") as f:\n",
    "    pickle.dump(data_mapping, f)\n",
    "\n",
    "print(\"FAISS index and data mapping saved successfully!\")"
   ]
  },
  {
   "cell_type": "code",
   "execution_count": 70,
   "metadata": {},
   "outputs": [
    {
     "name": "stdout",
     "output_type": "stream",
     "text": [
      "Section: 1509. Obstruction of court orders\n",
      "Metadata: Amendments1994-Pub. L. 103Ã¢ÂÂ322 substituted \"fined under this title\" for \"fined not more than $1,000\" in first par.\n",
      "URL: https://uscode.house.gov/view.xhtml?req=granuleid:USC-prelim-title18-section1509&num=0&edition=prelim\n",
      "Score: 18.605010986328125\n",
      "\n",
      "Section: 479. Uttering counterfeit foreign obligations or securities\n",
      "Metadata: Amendments2001-Pub. L. 107Ã¢ÂÂ56 substituted \"20 years\" for \"three years\".1994-Pub. L. 103Ã¢ÂÂ322 substituted \"fined under this title\" for \"fined not more than $3,000\".\n",
      "URL: https://uscode.house.gov/view.xhtml?req=granuleid:USC-prelim-title18-section479&num=0&edition=prelim\n",
      "Score: 19.616374969482422\n",
      "\n",
      "Section: 478. Foreign obligations or securities\n",
      "Metadata: Amendments2001-Pub. L. 107Ã¢ÂÂ56 substituted \"20 years\" for \"five years\".1994-Pub. L. 103Ã¢ÂÂ322 substituted \"fined under this title\" for \"fined not more than $5,000\".\n",
      "URL: https://uscode.house.gov/view.xhtml?req=granuleid:USC-prelim-title18-section478&num=0&edition=prelim\n",
      "Score: 21.869998931884766\n",
      "\n",
      "Section: 480. Possessing counterfeit foreign obligations or securities\n",
      "Metadata: Amendments2001-Pub. L. 107Ã¢ÂÂ56 substituted \"20 years\" for \"one year\".1994-Pub. L. 103Ã¢ÂÂ322 substituted \"fined under this title\" for \"fined not more than $1,000\".\n",
      "URL: https://uscode.house.gov/view.xhtml?req=granuleid:USC-prelim-title18-section480&num=0&edition=prelim\n",
      "Score: 21.87535858154297\n",
      "\n",
      "Section: 473. Dealing in counterfeit obligations or securities\n",
      "Metadata: Amendments2001-Pub. L. 107Ã¢ÂÂ56 substituted \"20 years\" for \"ten years\".1994-Pub. L. 103Ã¢ÂÂ322 substituted \"fined under this title\" for \"fined not more than $5,000\".\n",
      "URL: https://uscode.house.gov/view.xhtml?req=granuleid:USC-prelim-title18-section473&num=0&edition=prelim\n",
      "Score: 22.16284942626953\n",
      "\n",
      "Section: 483. Uttering counterfeit foreign bank notes\n",
      "Metadata: Amendments2001-Pub. L. 107Ã¢ÂÂ56 substituted \"20 years\" for \"one year\".1994-Pub. L. 103Ã¢ÂÂ322 substituted \"fined under this title\" for \"fined not more than $1,000\".\n",
      "URL: https://uscode.house.gov/view.xhtml?req=granuleid:USC-prelim-title18-section483&num=0&edition=prelim\n",
      "Score: 22.444808959960938\n",
      "\n",
      "Section: 4. Misprision of felony\n",
      "Metadata: Amendments1994-Pub. L. 103ÃÂ¢ÃÂÃÂ322 substituted \"fined under this title\" for \"fined not more than $500\".\n",
      "URL: https://uscode.house.gov/view.xhtml?req=granuleid:USC-prelim-title18-section4&num=0&edition=prelim\n",
      "Score: 22.54596710205078\n",
      "\n",
      "Section: 472. Uttering counterfeit obligations or securities\n",
      "Metadata: Amendments2001-Pub. L. 107Ã¢ÂÂ56 substituted \"20 years\" for \"fifteen years\".1994-Pub. L. 103Ã¢ÂÂ322 substituted \"fined under this title\" for \"fined not more than $5,000\".\n",
      "URL: https://uscode.house.gov/view.xhtml?req=granuleid:USC-prelim-title18-section472&num=0&edition=prelim\n",
      "Score: 22.549808502197266\n",
      "\n",
      "Section: 957. Possession of property in aid of foreign government\n",
      "Metadata: Amendments1994-Pub. L. 103Ã¢ÂÂ322 substituted \"fined under this title\" for \"fined not more than $1,000\".\n",
      "URL: https://uscode.house.gov/view.xhtml?req=granuleid:USC-prelim-title18-section957&num=0&edition=prelim\n",
      "Score: 22.64734649658203\n",
      "\n",
      "Section: 893. Financing extortionate extensions of credit\n",
      "Metadata: Amendments1994-Pub. L. 103Ã¢ÂÂ322 substituted \"fined under this title\" for \"fined not more than $10,000\".\n",
      "URL: https://uscode.house.gov/view.xhtml?req=granuleid:USC-prelim-title18-section893&num=0&edition=prelim\n",
      "Score: 23.004840850830078\n",
      "\n",
      "Section: 1422. Fees in naturalization proceedings\n",
      "Metadata: Amendments1994-Pub. L. 103Ã¢ÂÂ322 substituted \"fined under this title\" for \"fined not more than $5,000\".\n",
      "URL: https://uscode.house.gov/view.xhtml?req=granuleid:USC-prelim-title18-section1422&num=0&edition=prelim\n",
      "Score: 23.447996139526367\n",
      "\n",
      "Section: 792. Harboring or concealing persons\n",
      "Metadata: Amendments1994-Pub. L. 103Ã¢ÂÂ322 substituted \"fined under this title\" for \"fined not more than $10,000\".Statutory Notes and Related SubsidiariesIndictment for Violating This Section and Sections 793, 794; Limitation PeriodAct Sept. 23, 1950, ch. 1024, ÃÂ§19, 64 Stat. 1005, provided that an indictment for any violation of this section and sections 793 and 794 of this title, other than a violation constituting a capital offense, may be found at any time within ten years next after such violation shall have been committed, but that such section 19 shall not authorize prosecution, trial, or punishment for any offense \"now\" barred by the provisions of existing law.\n",
      "URL: https://uscode.house.gov/view.xhtml?req=granuleid:USC-prelim-title18-section792&num=0&edition=prelim\n",
      "Score: 23.618730545043945\n",
      "\n",
      "Section: 496. Customs matters\n",
      "Metadata: Amendments1994-Pub. L. 103Ã¢ÂÂ322 substituted \"fined under this title\" for \"fined not more than $10,000\".\n",
      "URL: https://uscode.house.gov/view.xhtml?req=granuleid:USC-prelim-title18-section496&num=0&edition=prelim\n",
      "Score: 23.707473754882812\n",
      "\n",
      "Section: 2276. Breaking and entering vessel\n",
      "Metadata: Amendments1994-Pub. L. 103Ã¢ÂÂ322 substituted \"fined under this title\" for \"fined not more than $1,000\".\n",
      "URL: https://uscode.house.gov/view.xhtml?req=granuleid:USC-prelim-title18-section2276&num=0&edition=prelim\n",
      "Score: 23.85835838317871\n",
      "\n",
      "Section: 1364. Interference with foreign commerce by violence\n",
      "Metadata: Amendments1994-Pub. L. 103Ã¢ÂÂ322 substituted \"fined under this title\" for \"fined not more than $10,000\".\n",
      "URL: https://uscode.house.gov/view.xhtml?req=granuleid:USC-prelim-title18-section1364&num=0&edition=prelim\n",
      "Score: 23.908397674560547\n",
      "\n",
      "Section: 917. Red Cross members or agents\n",
      "Metadata: Amendments2001-Pub. L. 107Ã¢ÂÂ56 substituted \"5 years\" for \"one year\".1994-Pub. L. 103Ã¢ÂÂ322 substituted \"fined under this title\" for \"fined not more than $500\".\n",
      "URL: https://uscode.house.gov/view.xhtml?req=granuleid:USC-prelim-title18-section917&num=0&edition=prelim\n",
      "Score: 23.95691680908203\n",
      "\n",
      "Section: 606. Intimidation to secure political contributions\n",
      "Metadata: Amendments1994-Pub. L. 103Ã¢ÂÂ322 substituted \"fined under this title\" for \"fined not more than $5,000\".\n",
      "URL: https://uscode.house.gov/view.xhtml?req=granuleid:USC-prelim-title18-section606&num=0&edition=prelim\n",
      "Score: 24.153825759887695\n",
      "\n",
      "Section: 1726. Postage collected unlawfully\n",
      "Metadata: Amendments1994-Pub. L. 103Ã¢ÂÂ322 substituted \"fined under this title\" for \"fined not more than $100\".\n",
      "URL: https://uscode.house.gov/view.xhtml?req=granuleid:USC-prelim-title18-section1726&num=0&edition=prelim\n",
      "Score: 24.318531036376953\n",
      "\n",
      "Section: 960. Expedition against friendly nation\n",
      "Metadata: Amendments1994-Pub. L. 103Ã¢ÂÂ322 substituted \"fined under this title\" for \"fined not more than $3,000\".\n",
      "URL: https://uscode.house.gov/view.xhtml?req=granuleid:USC-prelim-title18-section960&num=0&edition=prelim\n",
      "Score: 24.447513580322266\n",
      "\n",
      "Section: 1163. Embezzlement and theft from Indian tribal organizations\n",
      "Metadata: Amendments1996-Pub. L. 104Ã¢ÂÂ294 substituted \"$1,000\" for \"$100\" in third par.1994-Pub. L. 103Ã¢ÂÂ322, in third par., substituted \"fined under this title\" for \"fined not more than $5,000\" after \"Shall be\" and for \"fined not more than $1,000\" after \"he shall be\".\n",
      "URL: https://uscode.house.gov/view.xhtml?req=granuleid:USC-prelim-title18-section1163&num=0&edition=prelim\n",
      "Score: 24.45539093017578\n",
      "\n"
     ]
    }
   ],
   "source": [
    "# Load FAISS index and data mapping\n",
    "index = faiss.read_index(\"faiss_index.bin\")\n",
    "with open(\"data_mapping.pkl\", \"rb\") as f:\n",
    "    data_mapping = pickle.load(f)\n",
    "\n",
    "# Function to search FAISS and retrieve Section, Metadata, and URL\n",
    "def search_faiss(query, top_k=20):\n",
    "    query_embedding = get_embedding(query).reshape(1, -1)  # Convert to correct shape\n",
    "    distances, indices = index.search(query_embedding, top_k)  # Perform search\n",
    "    \n",
    "    results = [\n",
    "        {\n",
    "            \"Section\": data_mapping[i][\"Section\"],\n",
    "            \"Metadata\": data_mapping[i][\"Metadata\"],\n",
    "            \"Url\": data_mapping[i][\"Url\"],\n",
    "            \"Score\": distances[0][j]\n",
    "        }\n",
    "        for j, i in enumerate(indices[0])\n",
    "    ]\n",
    "    return results\n",
    "\n",
    "# Example query\n",
    "query = ''' \n",
    "Whoever, knowing that an offense against the United States has been committed, receives,\n",
    "relieves, comforts or assists the offender in order to hinder or prevent his apprehension, trial or\n",
    "punishment, is an accessory after the fact.\n",
    "Except as otherwise expressly provided by any Act of Congress, an accessory after the fact shall\n",
    "be imprisoned not more than one-half the maximum term of imprisonment or (notwithstanding\n",
    "section 3571) fined not more than one-half the maximum fine prescribed for the punishment of the\n",
    "principal, or both; or if the principal is punishable by life imprisonment or death, the accessory shall\n",
    "be imprisoned not more than 15 years.\n",
    "(June 25, 1948, ch. 645, 62 Stat. 684; Pub. L. 99–646, §43, Nov. 10, 1986, 100 Stat. 3601; Pub. L.\n",
    "101–647, title XXXV, §3502, Nov. 29, 1990, 104 Stat. 4921; Pub. L. 103–322, title XXXIII,\n",
    "§§330011(h), 330016(2)(A), Sept. 13, 1994, 108 Stat. 2145, 2148.)\n",
    "'''\n",
    "results = search_faiss(query)\n",
    "\n",
    "# Print results\n",
    "for res in results:\n",
    "    print(f\"Section: {res['Section']}\")\n",
    "    print(f\"Metadata: {res['Metadata']}\")\n",
    "    print(f\"URL: {res['Url']}\")\n",
    "    print(f\"Score: {res['Score']}\\n\")\n"
   ]
  },
  {
   "cell_type": "code",
   "execution_count": 60,
   "metadata": {},
   "outputs": [],
   "source": [
    "import google.generativeai as genai\n",
    "with open(r\"C:/Users/mkolla1/OneDrive - Georgia State University/Desktop/CareerSwipe/fakekey.txt\", \"r\") as f:\n",
    "    GOOGLE_API_KEY = f.read()\n",
    "genai.configure(api_key=GOOGLE_API_KEY)\n"
   ]
  },
  {
   "cell_type": "code",
   "execution_count": 74,
   "metadata": {},
   "outputs": [],
   "source": [
    "def chatbot(question):\n",
    "    # Search FAISS index for relevant sections\n",
    "    system_prompt = \"\"\" \n",
    "    You are LegalBot, an AI assistant specializing in Title 18 of U.S. law. Your role is to provide accurate, well-structured, and concise legal explanations based **only** on the given reference materials. \n",
    "    \n",
    "    **Guidelines for Your Response:**\n",
    "    - Answer the question strictly based on the provided sections.\n",
    "    - If the relevant information is not found, Find the information from online resources and provide the answer.\n",
    "    - Keep explanations clear and professional, avoiding unnecessary opinions.\n",
    "    - Provide citations by mentioning the **Section number** where applicable.\n",
    "    \n",
    "    **Reference Material:** \n",
    "    {reference_material}\n",
    "    \n",
    "    Now, answer the following question based on the provided legal content.\n",
    "    \"\"\"\n",
    "\n",
    "    results = search_faiss(question)\n",
    "    \n",
    "    # Extract relevant information\n",
    "    relevant_sections = [res[\"Section\"] for res in results]\n",
    "    relevant_metadata = [res[\"Metadata\"] for res in results]\n",
    "    relevant_urls = [res[\"Url\"] for res in results]\n",
    "    \n",
    "    # Retrieve corresponding Content from df\n",
    "    content_map = df.set_index(\"Section\")[\"Content\"].to_dict()\n",
    "    relevant_contents = [content_map.get(section, \"\") for section in relevant_sections]\n",
    "    \n",
    "    # Group the extracted data into a structured list\n",
    "    grouped_results = [\n",
    "        {\n",
    "            \"Section\": section,\n",
    "            \"Metadata\": metadata,\n",
    "            \"Url\": url,\n",
    "            \"Content\": content\n",
    "        }\n",
    "        for section, metadata, url, content in zip(relevant_sections, relevant_metadata, relevant_urls, relevant_contents)\n",
    "    ]\n",
    "    \n",
    "    # Format reference material as a readable string\n",
    "    reference_material = \"\\n\\n\".join([\n",
    "        f\"**{res['Section']}**\\nMetadata: {res['Metadata']}\\nURL: {res['Url']}\\nContent: {res['Content']}\" \n",
    "        for res in grouped_results\n",
    "    ])\n",
    "    print(reference_material)\n",
    "    # Generate response using VoyageAI / Gemini\n",
    "    model = genai.GenerativeModel(\n",
    "        'models/gemini-1.5-flash',\n",
    "        system_instruction=system_prompt.format(reference_material=reference_material)\n",
    "    )\n",
    "    \n",
    "    response = model.generate_content(f\"**Question:** {question}\")\n",
    "    \n",
    "    return response.text\n"
   ]
  },
  {
   "cell_type": "code",
   "execution_count": 75,
   "metadata": {},
   "outputs": [
    {
     "name": "stdout",
     "output_type": "stream",
     "text": [
      "**3115. Inventory upon execution and return of search warrant-(Rule)**\n",
      "Metadata: nan\n",
      "URL: https://uscode.house.gov/view.xhtml?req=granuleid:USC-prelim-title18-section3115&num=0&edition=prelim\n",
      "Content: See Federal Rules of Criminal ProcedureInventory of property seized under search warrant and copies to persons affected, Rule 41(d).(June 25, 1948, ch. 645, 62 Stat. 820.)\n",
      "\n",
      "**3010. Exceptions unnecessary-(Rule)**\n",
      "Metadata: nan\n",
      "URL: https://uscode.house.gov/view.xhtml?req=granuleid:USC-prelim-title18-section3010&num=0&edition=prelim\n",
      "Content: See Federal Rules of Criminal ProcedureObjections substituted for exceptions, rule 51.(June 25, 1948, ch. 645, 62 Stat. 815.)\n",
      "\n",
      "**3103. Grounds for issuing search warrant-(Rule)**\n",
      "Metadata: nan\n",
      "URL: https://uscode.house.gov/view.xhtml?req=granuleid:USC-prelim-title18-section3103&num=0&edition=prelim\n",
      "Content: See Federal Rules of Criminal ProcedureGrounds prescribed for issuance of search warrant, Rule 41(b).(June 25, 1948, ch. 645, 62 Stat. 819.)\n",
      "\n",
      "**3003. Calendars-(Rule)**\n",
      "Metadata: nan\n",
      "URL: https://uscode.house.gov/view.xhtml?req=granuleid:USC-prelim-title18-section3003&num=0&edition=prelim\n",
      "Content: See Federal Rules of Criminal ProcedurePreference to criminal cases, rule 50.(June 25, 1948, ch. 645, 62 Stat. 814.)\n",
      "\n",
      "**3111. Property seizable on search warrant-(Rule)**\n",
      "Metadata: nan\n",
      "URL: https://uscode.house.gov/view.xhtml?req=granuleid:USC-prelim-title18-section3111&num=0&edition=prelim\n",
      "Content: See Federal Rules of Criminal ProcedureSpecified property seizable on search warrant, Rule 41(b).(June 25, 1948, ch. 645, 62 Stat. 820.)\n",
      "\n",
      "**3443. Instructions to jury-(Rule)**\n",
      "Metadata: nan\n",
      "URL: https://uscode.house.gov/view.xhtml?req=granuleid:USC-prelim-title18-section3443&num=0&edition=prelim\n",
      "Content: See Federal Rules of Criminal ProcedureCourt's instructions to jury, written requests and copies, objections, Rule 30.(June 25, 1948, ch. 645, 62 Stat. 832.)\n",
      "\n",
      "**3364. Joinder of defendants-(Rule)**\n",
      "Metadata: nan\n",
      "URL: https://uscode.house.gov/view.xhtml?req=granuleid:USC-prelim-title18-section3364&num=0&edition=prelim\n",
      "Content: See Federal Rules of Criminal ProcedureJoinder of two or more defendants charged in same indictment, Rule 8(b).Relief from prejudicial joinder, Rule 14.(June 25, 1948, ch. 645, 62 Stat. 830.)\n",
      "\n",
      "**3106. Officer authorized to serve search warrant-(Rule)**\n",
      "Metadata: nan\n",
      "URL: https://uscode.house.gov/view.xhtml?req=granuleid:USC-prelim-title18-section3106&num=0&edition=prelim\n",
      "Content: See Federal Rules of Criminal ProcedureOfficer to whom search warrant shall be directed, Rule 41(c).(June 25, 1948, ch. 645, 62 Stat. 819.)\n",
      "\n",
      "**3004. Decorum in court room-(Rule)**\n",
      "Metadata: nan\n",
      "URL: https://uscode.house.gov/view.xhtml?req=granuleid:USC-prelim-title18-section3004&num=0&edition=prelim\n",
      "Content: See Federal Rules of Criminal ProcedurePhotographing or radio broadcasting prohibited, rule 53.(June 25, 1948, ch. 645, 62 Stat. 814.)\n",
      "\n",
      "**3006. Assignment of counsel-(Rule)**\n",
      "Metadata: nan\n",
      "URL: https://uscode.house.gov/view.xhtml?req=granuleid:USC-prelim-title18-section3006&num=0&edition=prelim\n",
      "Content: See Federal Rules of Criminal ProcedureAppointment by court, rule 44.Accused to be informed of right to counsel, rules 5 and 44.(June 25, 1948, ch. 645, 62 Stat. 814.)\n",
      "\n",
      "**3232. District of offense-(Rule)**\n",
      "Metadata: nan\n",
      "URL: https://uscode.house.gov/view.xhtml?req=granuleid:USC-prelim-title18-section3232&num=0&edition=prelim\n",
      "Content: See Federal Rules of Criminal ProcedureProceedings to be in district and division in which offense committed, Rule 18.(June 25, 1948, ch. 645, 62 Stat. 826.)\n",
      "\n",
      "**3044. Complaint-(Rule)**\n",
      "Metadata: nan\n",
      "URL: https://uscode.house.gov/view.xhtml?req=granuleid:USC-prelim-title18-section3044&num=0&edition=prelim\n",
      "Content: See Federal Rules of Criminal ProcedureContents of complaint; oath, Rule 3.(June 25, 1948, ch. 645, 62 Stat. 816.)\n",
      "\n",
      "**3361. Form and contents-(Rule)**\n",
      "Metadata: nan\n",
      "URL: https://uscode.house.gov/view.xhtml?req=granuleid:USC-prelim-title18-section3361&num=0&edition=prelim\n",
      "Content: See Federal Rules of Criminal ProcedureContents and form; striking surplusage, Rule 7(a), (c), (d).(June 25, 1948, ch. 645, 62 Stat. 830.)\n",
      "\n",
      "**3007. Motions-(Rule)**\n",
      "Metadata: nan\n",
      "URL: https://uscode.house.gov/view.xhtml?req=granuleid:USC-prelim-title18-section3007&num=0&edition=prelim\n",
      "Content: See Federal Rules of Criminal ProcedureMotions substituted for pleas in abatement and special pleas in bar, rule 12.Form and contents, rule 47.(June 25, 1948, ch. 645, 62 Stat. 814.)\n",
      "\n",
      "**3489. Discovery and inspection-(Rule)**\n",
      "Metadata: nan\n",
      "URL: https://uscode.house.gov/view.xhtml?req=granuleid:USC-prelim-title18-section3489&num=0&edition=prelim\n",
      "Content: See Federal Rules of Criminal ProcedureInspection of documents and papers taken from defendant, Rule 16.(June 25, 1948, ch. 645, 62 Stat. 834.)\n",
      "\n",
      "**3499. Contempt of court by witness-(Rule)**\n",
      "Metadata: nan\n",
      "URL: https://uscode.house.gov/view.xhtml?req=granuleid:USC-prelim-title18-section3499&num=0&edition=prelim\n",
      "Content: See Federal Rules of Criminal ProcedureDisobedience of subpoena without excuse as contempt, Rule 17(g).(June 25, 1948, ch. 645, 62 Stat. 836.)\n",
      "\n",
      "**229D. Injunctions**\n",
      "Metadata: nan\n",
      "URL: https://uscode.house.gov/view.xhtml?req=granuleid:USC-prelim-title18-section229D&num=0&edition=prelim\n",
      "Content: The United States may obtain in a civil action an injunction against-(1) the conduct prohibited under section 229 or 229C of this title; or(2) the preparation or solicitation to engage in conduct prohibited under section 229 or 229DÃÂÃÂ 1 of this title.(Added Pub. L. 105ÃÂ¢ÃÂÃÂ277, div. I, title II, ÃÂÃÂ§201(a), Oct. 21, 1998, 112 Stat. 2681ÃÂ¢ÃÂÃÂ869.)1ÃÂÃÂ So in original.\n",
      "\n",
      "**3483. Indigent defendants, process to produce evidence-(Rule)**\n",
      "Metadata: nan\n",
      "URL: https://uscode.house.gov/view.xhtml?req=granuleid:USC-prelim-title18-section3483&num=0&edition=prelim\n",
      "Content: See Federal Rules of Criminal ProcedureSubpoena for indigent defendants, motion, affidavit, costs, Rule 17(b).(June 25, 1948, ch. 645, 62 Stat. 833.)\n",
      "\n",
      "**3002. Courts always open-(Rule)**\n",
      "Metadata: nan\n",
      "URL: https://uscode.house.gov/view.xhtml?req=granuleid:USC-prelim-title18-section3002&num=0&edition=prelim\n",
      "Content: See Federal Rules of Criminal ProcedureBusiness hours, rule 56.(June 25, 1948, ch. 645, 62 Stat. 814.)\n",
      "\n",
      "**3108. Execution, service, and return-(Rule)**\n",
      "Metadata: nan\n",
      "URL: https://uscode.house.gov/view.xhtml?req=granuleid:USC-prelim-title18-section3108&num=0&edition=prelim\n",
      "Content: See Federal Rules of Criminal ProcedureMethod and time for execution, service and return of search warrant, Rule 41(c), (d).(June 25, 1948, ch. 645, 62 Stat. 819.)\n",
      "The provided text does not contain 18 U.S.C. § 3771 or any information regarding crime victims' rights in federal cases.  Therefore, I cannot answer your question using only the provided reference materials.  To obtain this information, you will need to consult the full text of 18 U.S.C. § 3771 from a reliable legal source such as the official U.S. Code website or a legal database.\n",
      "\n"
     ]
    }
   ],
   "source": [
    "test= \"\"\"Under 18 U.S.C. § 3771, what rights do crime victims have in federal cases?\n",
    "\"\"\"\n",
    "testing = chatbot(test)\n",
    "print(testing)"
   ]
  }
 ],
 "metadata": {
  "kernelspec": {
   "display_name": "Python 3",
   "language": "python",
   "name": "python3"
  },
  "language_info": {
   "codemirror_mode": {
    "name": "ipython",
    "version": 3
   },
   "file_extension": ".py",
   "mimetype": "text/x-python",
   "name": "python",
   "nbconvert_exporter": "python",
   "pygments_lexer": "ipython3",
   "version": "3.10.11"
  }
 },
 "nbformat": 4,
 "nbformat_minor": 2
}
